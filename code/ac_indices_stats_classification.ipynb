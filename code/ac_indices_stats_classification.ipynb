{
  "cells": [
    {
      "cell_type": "markdown",
      "metadata": {
        "id": "0MRC0e0KhQ0S"
      },
      "source": [
        "# Statistical Classification of accoustic indices"
      ]
    },
    {
      "cell_type": "markdown",
      "metadata": {
        "id": "LWd1UlMnhT2s"
      },
      "source": [
        "## Importing the libraries"
      ]
    },
    {
      "cell_type": "code",
      "execution_count": 78,
      "metadata": {
        "id": "YvGPUQaHhXfL"
      },
      "outputs": [],
      "source": [
        "import numpy as np\n",
        "import matplotlib.pyplot as plt\n",
        "import pandas as pd"
      ]
    },
    {
      "cell_type": "markdown",
      "metadata": {
        "id": "K1VMqkGvhc3-"
      },
      "source": [
        "## Importing the dataset"
      ]
    },
    {
      "cell_type": "code",
      "execution_count": 79,
      "metadata": {
        "colab": {
          "base_uri": "https://localhost:8080/"
        },
        "id": "M52QDmyzhh9s",
        "outputId": "9ef348f0-8ee1-49ec-f5dd-93a7a5c1ff16"
      },
      "outputs": [
        {
          "name": "stdout",
          "output_type": "stream",
          "text": [
            "fatal: destination path 'sounds-of-nature' already exists and is not an empty directory.\n"
          ]
        }
      ],
      "source": [
        "!git clone https://github.com/amarmeddahi/sounds-of-nature.git\n",
        "path = \"./sounds-of-nature/data/dataset_acc_indices.csv\""
      ]
    },
    {
      "cell_type": "code",
      "execution_count": 80,
      "metadata": {
        "id": "jGBgfdHboUgG"
      },
      "outputs": [],
      "source": [
        "df = pd.read_csv(path)"
      ]
    },
    {
      "cell_type": "markdown",
      "metadata": {
        "id": "3fC0MepOLi2-"
      },
      "source": [
        "## Cleaning the dataset"
      ]
    },
    {
      "cell_type": "code",
      "execution_count": 81,
      "metadata": {
        "id": "GXCaS9T8N9oe"
      },
      "outputs": [],
      "source": [
        "# Drop duplicate rows\n",
        "df = df.drop_duplicates()"
      ]
    },
    {
      "cell_type": "code",
      "execution_count": 82,
      "metadata": {
        "id": "UyjhErSYPU9t"
      },
      "outputs": [],
      "source": [
        "# Drop columns with high percentage of missing values\n",
        "missing_threshold = 0.8\n",
        "df = df.dropna(thresh=int(missing_threshold * len(df)), axis=1)"
      ]
    },
    {
      "cell_type": "code",
      "execution_count": 83,
      "metadata": {
        "id": "AZ-NRfjnRI8r"
      },
      "outputs": [],
      "source": [
        "# Drop rows with missing values\n",
        "df = df.dropna()"
      ]
    },
    {
      "cell_type": "markdown",
      "metadata": {
        "id": "-roj7Jmqx4Ns"
      },
      "source": [
        "## Selecting the labels"
      ]
    },
    {
      "cell_type": "code",
      "execution_count": 84,
      "metadata": {
        "id": "KhVLyqiwPZf6"
      },
      "outputs": [],
      "source": [
        "X = df.iloc[:, 3:-1].values.astype(float)"
      ]
    },
    {
      "cell_type": "code",
      "execution_count": 85,
      "metadata": {
        "id": "t4qDLPWpkL-J"
      },
      "outputs": [],
      "source": [
        "labels = [\"BE-BL-RE-RL\", \"R-B\", \"L-E\"]\n",
        "l = labels[0]\n",
        "if l == \"R-B\":\n",
        "  y = np.array([s[0] for s in df.iloc[:, -1].values])\n",
        "elif l == \"L-E\":\n",
        "  y = np.array([s[1] for s in df.iloc[:, -1].values])\n",
        "else:\n",
        "  y = df.iloc[:, -1].values"
      ]
    },
    {
      "cell_type": "markdown",
      "metadata": {
        "id": "8sAVdFGgUiPc"
      },
      "source": [
        "## Encoding the labels"
      ]
    },
    {
      "cell_type": "code",
      "execution_count": 86,
      "metadata": {
        "id": "3twvs8b0UnWb"
      },
      "outputs": [],
      "source": [
        "from sklearn.preprocessing import LabelEncoder\n",
        "le = LabelEncoder()\n",
        "y = le.fit_transform(y)"
      ]
    },
    {
      "cell_type": "markdown",
      "metadata": {
        "id": "YvxIPVyMhmKp"
      },
      "source": [
        "## Splitting the dataset into the Training set and Test set"
      ]
    },
    {
      "cell_type": "code",
      "execution_count": 87,
      "metadata": {
        "id": "AVzJWAXIhxoC"
      },
      "outputs": [],
      "source": [
        "# Splitting randomy the dataset into the Training set and Test set (80/20)\n",
        "from sklearn.model_selection import train_test_split\n",
        "X_train, X_test, y_train, y_test = train_test_split(X, y, test_size = 0.2, random_state = 0)"
      ]
    },
    {
      "cell_type": "code",
      "execution_count": 88,
      "metadata": {
        "colab": {
          "base_uri": "https://localhost:8080/"
        },
        "id": "fTD6zkQYToQ6",
        "outputId": "fce40259-3b12-46c9-ac1c-e57a379a2dad"
      },
      "outputs": [
        {
          "name": "stdout",
          "output_type": "stream",
          "text": [
            "Labels counts in y_train: [561 691 688 552]\n",
            "Labels counts in y_test: [156 145 179 144]\n"
          ]
        }
      ],
      "source": [
        "# Print the labels distribution in the training and test sets\n",
        "print('Labels counts in y_train:', np.bincount(y_train))\n",
        "print('Labels counts in y_test:', np.bincount(y_test))"
      ]
    },
    {
      "cell_type": "markdown",
      "metadata": {
        "id": "0QmTMR5yUUM2"
      },
      "source": [
        "## Feature Scaling"
      ]
    },
    {
      "cell_type": "code",
      "execution_count": 89,
      "metadata": {
        "id": "j9PpMK3BUWSp"
      },
      "outputs": [],
      "source": [
        "from sklearn.preprocessing import StandardScaler\n",
        "sc = StandardScaler()\n",
        "X_train = sc.fit_transform(X_train)\n",
        "X_test = sc.transform(X_test)"
      ]
    },
    {
      "cell_type": "markdown",
      "metadata": {
        "id": "bb6jCOCQiAmP"
      },
      "source": [
        "## Training the models\n",
        "\n"
      ]
    },
    {
      "cell_type": "markdown",
      "metadata": {
        "id": "g8EXHOI6Z_fs"
      },
      "source": [
        "### K-Nearest Neighbors"
      ]
    },
    {
      "cell_type": "code",
      "execution_count": 90,
      "metadata": {
        "colab": {
          "base_uri": "https://localhost:8080/"
        },
        "id": "BgEYPbOYai0j",
        "outputId": "d417a02c-ed96-42d3-fb20-c10105b12d04"
      },
      "outputs": [
        {
          "data": {
            "text/plain": [
              "KNeighborsClassifier()"
            ]
          },
          "execution_count": 90,
          "metadata": {},
          "output_type": "execute_result"
        }
      ],
      "source": [
        "# Fitting K-Nearest Neighbors to the Training set\n",
        "from sklearn.neighbors import KNeighborsClassifier\n",
        "knn_classifier = KNeighborsClassifier(n_neighbors = 5, metric = 'minkowski', p = 2)\n",
        "knn_classifier.fit(X_train, y_train)"
      ]
    },
    {
      "cell_type": "markdown",
      "metadata": {
        "id": "-W626EGlaFOK"
      },
      "source": [
        "### Support Vector Machine (SVM)"
      ]
    },
    {
      "cell_type": "code",
      "execution_count": 91,
      "metadata": {
        "colab": {
          "base_uri": "https://localhost:8080/"
        },
        "id": "uOuFWspzajKg",
        "outputId": "beea6ac4-5ba8-4f58-9247-b0aca17834f9"
      },
      "outputs": [
        {
          "data": {
            "text/plain": [
              "SVC(kernel='linear', random_state=0)"
            ]
          },
          "execution_count": 91,
          "metadata": {},
          "output_type": "execute_result"
        }
      ],
      "source": [
        "# Fitting SVM to the Training set\n",
        "from sklearn.svm import SVC\n",
        "svm_classifier = SVC(kernel = 'linear', random_state = 0)\n",
        "svm_classifier.fit(X_train, y_train)"
      ]
    },
    {
      "cell_type": "markdown",
      "metadata": {
        "id": "KTTSSwxvaKh8"
      },
      "source": [
        "### Kernel SVM"
      ]
    },
    {
      "cell_type": "code",
      "execution_count": 92,
      "metadata": {
        "colab": {
          "base_uri": "https://localhost:8080/"
        },
        "id": "S7Y828Uhajsy",
        "outputId": "92174019-5086-47ba-c476-6cf7e5db583e"
      },
      "outputs": [
        {
          "data": {
            "text/plain": [
              "SVC(random_state=0)"
            ]
          },
          "execution_count": 92,
          "metadata": {},
          "output_type": "execute_result"
        }
      ],
      "source": [
        "# Fitting Kernel SVM to the Training set\n",
        "from sklearn.svm import SVC\n",
        "kernel_svm_classifier = SVC(kernel = 'rbf', random_state = 0)\n",
        "kernel_svm_classifier.fit(X_train, y_train)"
      ]
    },
    {
      "cell_type": "markdown",
      "metadata": {
        "id": "cUP6skHKaMpp"
      },
      "source": [
        "### Naive Bayes"
      ]
    },
    {
      "cell_type": "code",
      "execution_count": 93,
      "metadata": {
        "colab": {
          "base_uri": "https://localhost:8080/"
        },
        "id": "YXEVDCdtakI6",
        "outputId": "6bb3d0a3-41e9-4b17-936c-d474cb7011f8"
      },
      "outputs": [
        {
          "data": {
            "text/plain": [
              "GaussianNB()"
            ]
          },
          "execution_count": 93,
          "metadata": {},
          "output_type": "execute_result"
        }
      ],
      "source": [
        "# Fitting Naive Bayes to the Training set\n",
        "from sklearn.naive_bayes import GaussianNB\n",
        "nb_classifier = GaussianNB()\n",
        "nb_classifier.fit(X_train, y_train)"
      ]
    },
    {
      "cell_type": "markdown",
      "metadata": {
        "id": "760MVsChaTO1"
      },
      "source": [
        "### Random Forest"
      ]
    },
    {
      "cell_type": "code",
      "execution_count": 94,
      "metadata": {
        "colab": {
          "base_uri": "https://localhost:8080/"
        },
        "id": "EuTsDiKSakoj",
        "outputId": "0f400aa1-29d2-4207-ebe5-b703520226ac"
      },
      "outputs": [
        {
          "data": {
            "text/plain": [
              "RandomForestClassifier(criterion='entropy', n_estimators=10, random_state=0)"
            ]
          },
          "execution_count": 94,
          "metadata": {},
          "output_type": "execute_result"
        }
      ],
      "source": [
        "# Fitting Random Forest Classification to the Training set\n",
        "from sklearn.ensemble import RandomForestClassifier\n",
        "rf_classifier = RandomForestClassifier(n_estimators = 10, criterion = 'entropy', random_state = 0)\n",
        "rf_classifier.fit(X_train, y_train)"
      ]
    },
    {
      "cell_type": "markdown",
      "metadata": {
        "id": "vKYVQH-l5NpE"
      },
      "source": [
        "## Predicting the Test set results"
      ]
    },
    {
      "cell_type": "code",
      "execution_count": 95,
      "metadata": {
        "id": "p6VMTb2O4hwM"
      },
      "outputs": [],
      "source": [
        "# Predicting the Test set results\n",
        "y_pred_knn = knn_classifier.predict(X_test)\n",
        "y_pred_svm = svm_classifier.predict(X_test)\n",
        "y_pred_kernel_svm = kernel_svm_classifier.predict(X_test)\n",
        "y_pred_nb = nb_classifier.predict(X_test)\n",
        "y_pred_rf = rf_classifier.predict(X_test)"
      ]
    },
    {
      "cell_type": "markdown",
      "metadata": {
        "id": "DCjb6OpZb7yt"
      },
      "source": [
        "## Evaluating the model (k-Fold Cross Validation)"
      ]
    },
    {
      "cell_type": "code",
      "execution_count": 96,
      "metadata": {
        "id": "FS9A-4vIcDWR"
      },
      "outputs": [],
      "source": [
        "# Making the Confusion Matrix\n",
        "# Print the confusion matrix with labels names\n",
        "from sklearn.metrics import confusion_matrix\n",
        "cm_knn = confusion_matrix(y_test, y_pred_knn)\n",
        "cm_svm = confusion_matrix(y_test, y_pred_svm)\n",
        "cm_kernel_svm = confusion_matrix(y_test, y_pred_kernel_svm)\n",
        "cm_nb = confusion_matrix(y_test, y_pred_nb)\n",
        "cm_rf = confusion_matrix(y_test, y_pred_rf)"
      ]
    },
    {
      "cell_type": "code",
      "execution_count": 97,
      "metadata": {
        "colab": {
          "base_uri": "https://localhost:8080/",
          "height": 621
        },
        "id": "Dg6-OWMIz1dx",
        "outputId": "53a17ff1-9cca-46aa-ff0d-44b199183054"
      },
      "outputs": [
        {
          "data": {
            "image/png": "[encoded data removed]",
            "text/plain": [
              "<Figure size 720x720 with 2 Axes>"
            ]
          },
          "metadata": {
            "needs_background": "light"
          },
          "output_type": "display_data"
        }
      ],
      "source": [
        "import seaborn as sns\n",
        "import matplotlib.pyplot as plt\n",
        "cm = cm_rf\n",
        "cm = pd.DataFrame(cm, index=le.classes_, columns=le.classes_)\n",
        "plt.figure(figsize=(10, 10))\n",
        "sns.heatmap(cm, annot=True, fmt=\"d\")\n",
        "plt.title(\"Confusion matrix\")\n",
        "plt.ylabel('True label')\n",
        "plt.xlabel('Predicted label')\n",
        "plt.show()"
      ]
    },
    {
      "cell_type": "markdown",
      "metadata": {
        "id": "iq6SFczwcGZE"
      },
      "source": [
        "## k-Fold Cross Validation"
      ]
    },
    {
      "cell_type": "code",
      "execution_count": 98,
      "metadata": {
        "id": "43vOe7_LcImB"
      },
      "outputs": [],
      "source": [
        "# Applying k-Fold Cross Validation\n",
        "from sklearn.model_selection import cross_val_score\n",
        "accuracies_knn = cross_val_score(estimator = knn_classifier, X = X_train, y = y_train, cv = 10)\n",
        "accuracies_svm = cross_val_score(estimator = svm_classifier, X = X_train, y = y_train, cv = 10)\n",
        "accuracies_kernel_svm = cross_val_score(estimator = kernel_svm_classifier, X = X_train, y = y_train, cv = 10)\n",
        "accuracies_nb = cross_val_score(estimator = nb_classifier, X = X_train, y = y_train, cv = 10)\n",
        "accuracies_rf = cross_val_score(estimator = rf_classifier, X = X_train, y = y_train, cv = 10)"
      ]
    },
    {
      "cell_type": "code",
      "execution_count": 99,
      "metadata": {
        "colab": {
          "base_uri": "https://localhost:8080/"
        },
        "id": "17SDCVkxzqup",
        "outputId": "a23897ff-e3a3-4602-d32b-d00de9fd15c5"
      },
      "outputs": [
        {
          "name": "stdout",
          "output_type": "stream",
          "text": [
            "KNN accuracy:  0.814212048192771 (std: 0.011805937256890539 )\n",
            "SVM accuracy:  0.6231935742971887 (std: 0.01970869323805583 )\n",
            "Kernel SVM accuracy:  0.7267228915662651 (std: 0.018299716338530406 )\n",
            "Naive Bayes accuracy:  0.31781526104417673 (std: 0.024713515318337195 )\n",
            "Random Forest accuracy:  0.8394891566265061 (std: 0.012787682982113361 )\n"
          ]
        }
      ],
      "source": [
        "print('KNN accuracy: ', accuracies_knn.mean(), '(std:', accuracies_knn.std(), ')')\n",
        "print('SVM accuracy: ', accuracies_svm.mean(), '(std:', accuracies_svm.std(), ')')\n",
        "print('Kernel SVM accuracy: ', accuracies_kernel_svm.mean(), '(std:', accuracies_kernel_svm.std(), ')')\n",
        "print('Naive Bayes accuracy: ', accuracies_nb.mean(), '(std:', accuracies_nb.std(), ')')\n",
        "print('Random Forest accuracy: ', accuracies_rf.mean(), '(std:', accuracies_rf.std(), ')')"
      ]
    }
  ],
  "metadata": {
    "colab": {
      "machine_shape": "hm",
      "provenance": []
    },
    "kernelspec": {
      "display_name": "Python 3",
      "language": "python",
      "name": "python3"
    },
    "language_info": {
      "name": "python",
      "version": "3.10.10"
    },
    "vscode": {
      "interpreter": {
        "hash": "2c4942a159f4d5aef3ee417b2496c4987664cccd18376e4758d26fa90466618f"
      }
    }
  },
  "nbformat": 4,
  "nbformat_minor": 0
}
