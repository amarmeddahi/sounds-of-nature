{
  "nbformat": 4,
  "nbformat_minor": 0,
  "metadata": {
    "colab": {
      "provenance": [],
      "machine_shape": "hm"
    },
    "kernelspec": {
      "name": "python3",
      "display_name": "Python 3"
    }
  },
  "cells": [
    {
      "cell_type": "markdown",
      "metadata": {
        "id": "0MRC0e0KhQ0S"
      },
      "source": [
        "# Statistical regression of biodiversity data"
      ]
    },
    {
      "cell_type": "markdown",
      "metadata": {
        "id": "LWd1UlMnhT2s"
      },
      "source": [
        "## Importing the libraries"
      ]
    },
    {
      "cell_type": "code",
      "metadata": {
        "id": "YvGPUQaHhXfL"
      },
      "source": [
        "import numpy as np\n",
        "import matplotlib.pyplot as plt\n",
        "import pandas as pd"
      ],
      "execution_count": 1,
      "outputs": []
    },
    {
      "cell_type": "markdown",
      "metadata": {
        "id": "K1VMqkGvhc3-"
      },
      "source": [
        "## Importing the dataset"
      ]
    },
    {
      "cell_type": "code",
      "source": [
        "!git clone https://github.com/amarmeddahi/sounds-of-nature.git"
      ],
      "metadata": {
        "colab": {
          "base_uri": "https://localhost:8080/"
        },
        "id": "VFqwgZPpae5m",
        "outputId": "85d02cfd-ca97-44e0-f625-5557f4c7e2e5"
      },
      "execution_count": 2,
      "outputs": [
        {
          "output_type": "stream",
          "name": "stdout",
          "text": [
            "Cloning into 'sounds-of-nature'...\n",
            "remote: Enumerating objects: 118, done.\u001b[K\n",
            "remote: Counting objects: 100% (118/118), done.\u001b[K\n",
            "remote: Compressing objects: 100% (99/99), done.\u001b[K\n",
            "remote: Total 118 (delta 41), reused 71 (delta 14), pack-reused 0\u001b[K\n",
            "Receiving objects: 100% (118/118), 33.25 MiB | 21.48 MiB/s, done.\n",
            "Resolving deltas: 100% (41/41), done.\n"
          ]
        }
      ]
    },
    {
      "cell_type": "code",
      "metadata": {
        "id": "M52QDmyzhh9s"
      },
      "source": [
        "path_data = \"./sounds-of-nature/data/latent_space_mel256_512.csv\""
      ],
      "execution_count": 3,
      "outputs": []
    },
    {
      "cell_type": "code",
      "source": [
        "data = pd.read_csv(path_data)\n",
        "joint_table = pd.read_csv(\"./sounds-of-nature/data/reg-ind_joint_table.csv\")\n",
        "regression = pd.read_csv(\"./sounds-of-nature/data/regression.csv\")"
      ],
      "metadata": {
        "id": "jGBgfdHboUgG"
      },
      "execution_count": 4,
      "outputs": []
    },
    {
      "cell_type": "markdown",
      "source": [
        "## Cleaning the dataset"
      ],
      "metadata": {
        "id": "3fC0MepOLi2-"
      }
    },
    {
      "cell_type": "code",
      "source": [
        "# Drop duplicate rows\n",
        "data = data.drop_duplicates()"
      ],
      "metadata": {
        "id": "GXCaS9T8N9oe"
      },
      "execution_count": 5,
      "outputs": []
    },
    {
      "cell_type": "code",
      "source": [
        "# Drop columns with high percentage of missing values\n",
        "missing_threshold = 0.8\n",
        "data = data.dropna(thresh=int(missing_threshold * len(data)), axis=1)"
      ],
      "metadata": {
        "id": "UyjhErSYPU9t"
      },
      "execution_count": 6,
      "outputs": []
    },
    {
      "cell_type": "code",
      "source": [
        "# Drop rows with missing values\n",
        "data = data.dropna()"
      ],
      "metadata": {
        "id": "AZ-NRfjnRI8r"
      },
      "execution_count": 7,
      "outputs": []
    },
    {
      "cell_type": "markdown",
      "source": [
        "## Selecting the labels"
      ],
      "metadata": {
        "id": "-roj7Jmqx4Ns"
      }
    },
    {
      "cell_type": "code",
      "source": [
        "X = data.iloc[:, 3:-1].values.astype(float)"
      ],
      "metadata": {
        "id": "KhVLyqiwPZf6"
      },
      "execution_count": 8,
      "outputs": []
    },
    {
      "cell_type": "code",
      "source": [
        "y = []\n",
        "for filename in data['filename']:\n",
        "  id = joint_table.loc[joint_table['filename'] == filename, 'transect'].values[0]\n",
        "  y.append(regression.loc[regression['id'] == id].values[0][1:])\n",
        "y = np.array(y)"
      ],
      "metadata": {
        "id": "t4qDLPWpkL-J"
      },
      "execution_count": 9,
      "outputs": []
    },
    {
      "cell_type": "markdown",
      "source": [
        "## Encoding the labels"
      ],
      "metadata": {
        "id": "8sAVdFGgUiPc"
      }
    },
    {
      "cell_type": "code",
      "source": [
        "from sklearn.preprocessing import LabelEncoder\n",
        "le = LabelEncoder()\n",
        "cat_idx = regression.columns.get_loc('TFV_G11_GROUP') - 1\n",
        "y[:,cat_idx] = le.fit_transform(y[:,cat_idx])"
      ],
      "metadata": {
        "id": "3twvs8b0UnWb"
      },
      "execution_count": 10,
      "outputs": []
    },
    {
      "cell_type": "code",
      "source": [
        "# Print the categorical values and their corresponding integer values\n",
        "print('Categorical values:', le.classes_)\n",
        "print('Integer values:', le.transform(le.classes_))"
      ],
      "metadata": {
        "colab": {
          "base_uri": "https://localhost:8080/"
        },
        "id": "VeWACeiCoumZ",
        "outputId": "b03ab235-744e-4a9b-8009-01083096debd"
      },
      "execution_count": 11,
      "outputs": [
        {
          "output_type": "stream",
          "name": "stdout",
          "text": [
            "Categorical values: ['Conifères' 'Feuillus' 'Mixte']\n",
            "Integer values: [0 1 2]\n"
          ]
        }
      ]
    },
    {
      "cell_type": "markdown",
      "metadata": {
        "id": "YvxIPVyMhmKp"
      },
      "source": [
        "## Splitting the dataset into the Training set and Test set"
      ]
    },
    {
      "cell_type": "code",
      "metadata": {
        "id": "AVzJWAXIhxoC"
      },
      "source": [
        "# Splitting randomy the dataset into the Training set and Test set (80/20)\n",
        "from sklearn.model_selection import train_test_split\n",
        "X_train, X_test, y_train, y_test = train_test_split(X, y, test_size = 0.2, random_state = 0)"
      ],
      "execution_count": 12,
      "outputs": []
    },
    {
      "cell_type": "markdown",
      "source": [
        "## Training the models"
      ],
      "metadata": {
        "id": "at0qSGpzfcl0"
      }
    },
    {
      "cell_type": "markdown",
      "source": [
        "### Linear regression"
      ],
      "metadata": {
        "id": "8hR77r1mhzel"
      }
    },
    {
      "cell_type": "code",
      "source": [
        "# Linear regression\n",
        "from sklearn.linear_model import LinearRegression\n",
        "linear_regressor = LinearRegression()\n",
        "linear_regressor.fit(X_train, y_train)"
      ],
      "metadata": {
        "colab": {
          "base_uri": "https://localhost:8080/"
        },
        "id": "NPn4iXThsiQ_",
        "outputId": "c044c08d-ad43-45fa-ad09-ce04a1c29f9c"
      },
      "execution_count": 13,
      "outputs": [
        {
          "output_type": "execute_result",
          "data": {
            "text/plain": [
              "LinearRegression()"
            ]
          },
          "metadata": {},
          "execution_count": 13
        }
      ]
    },
    {
      "cell_type": "markdown",
      "source": [
        "### Ridge regression"
      ],
      "metadata": {
        "id": "DaRG7RLYiAoi"
      }
    },
    {
      "cell_type": "code",
      "source": [
        "# Ridge regression\n",
        "from sklearn.linear_model import Ridge\n",
        "ridge_regressor = Ridge(alpha=1.0)\n",
        "ridge_regressor.fit(X_train, y_train)"
      ],
      "metadata": {
        "colab": {
          "base_uri": "https://localhost:8080/"
        },
        "id": "uZZBCzq7iIKt",
        "outputId": "4db3ea6d-bfa9-4665-ae26-71e9c929b23a"
      },
      "execution_count": 14,
      "outputs": [
        {
          "output_type": "execute_result",
          "data": {
            "text/plain": [
              "Ridge()"
            ]
          },
          "metadata": {},
          "execution_count": 14
        }
      ]
    },
    {
      "cell_type": "markdown",
      "source": [
        "### Lasso regression"
      ],
      "metadata": {
        "id": "slqkdm4ziNAQ"
      }
    },
    {
      "cell_type": "code",
      "source": [
        "# Lasso regression\n",
        "from sklearn.linear_model import Lasso\n",
        "lasso_regressor = Lasso(alpha=0.1)\n",
        "lasso_regressor.fit(X_train, y_train)"
      ],
      "metadata": {
        "colab": {
          "base_uri": "https://localhost:8080/"
        },
        "id": "vpJxQhXJirnf",
        "outputId": "803980b1-fbae-4bc8-8371-6360b19189a7"
      },
      "execution_count": 15,
      "outputs": [
        {
          "output_type": "stream",
          "name": "stderr",
          "text": [
            "/usr/local/lib/python3.8/dist-packages/sklearn/linear_model/_coordinate_descent.py:647: ConvergenceWarning: Objective did not converge. You might want to increase the number of iterations, check the scale of the features or consider increasing regularisation. Duality gap: 1.935e+05, tolerance: 8.950e+02\n",
            "  model = cd_fast.enet_coordinate_descent(\n",
            "/usr/local/lib/python3.8/dist-packages/sklearn/linear_model/_coordinate_descent.py:647: ConvergenceWarning: Objective did not converge. You might want to increase the number of iterations, check the scale of the features or consider increasing regularisation. Duality gap: 6.289e+06, tolerance: 9.884e+03\n",
            "  model = cd_fast.enet_coordinate_descent(\n",
            "/usr/local/lib/python3.8/dist-packages/sklearn/linear_model/_coordinate_descent.py:647: ConvergenceWarning: Objective did not converge. You might want to increase the number of iterations, check the scale of the features or consider increasing regularisation. Duality gap: 2.758e+05, tolerance: 1.642e+03\n",
            "  model = cd_fast.enet_coordinate_descent(\n"
          ]
        },
        {
          "output_type": "execute_result",
          "data": {
            "text/plain": [
              "Lasso(alpha=0.1)"
            ]
          },
          "metadata": {},
          "execution_count": 15
        }
      ]
    },
    {
      "cell_type": "markdown",
      "source": [
        "### ElasticNet regression"
      ],
      "metadata": {
        "id": "v0vwG4s9is8k"
      }
    },
    {
      "cell_type": "code",
      "source": [
        "# ElasticNet regression\n",
        "from sklearn.linear_model import ElasticNet\n",
        "elasticnet_regressor = ElasticNet(alpha=0.1, l1_ratio=0.5)\n",
        "elasticnet_regressor.fit(X_train, y_train)"
      ],
      "metadata": {
        "colab": {
          "base_uri": "https://localhost:8080/"
        },
        "id": "gnQWmXgQiukn",
        "outputId": "9a82e107-aa39-4de6-ab72-071dfbc47fce"
      },
      "execution_count": 16,
      "outputs": [
        {
          "output_type": "stream",
          "name": "stderr",
          "text": [
            "/usr/local/lib/python3.8/dist-packages/sklearn/linear_model/_coordinate_descent.py:647: ConvergenceWarning: Objective did not converge. You might want to increase the number of iterations, check the scale of the features or consider increasing regularisation. Duality gap: 4.243e+05, tolerance: 8.950e+02\n",
            "  model = cd_fast.enet_coordinate_descent(\n",
            "/usr/local/lib/python3.8/dist-packages/sklearn/linear_model/_coordinate_descent.py:647: ConvergenceWarning: Objective did not converge. You might want to increase the number of iterations, check the scale of the features or consider increasing regularisation. Duality gap: 6.092e+01, tolerance: 2.352e+01\n",
            "  model = cd_fast.enet_coordinate_descent(\n",
            "/usr/local/lib/python3.8/dist-packages/sklearn/linear_model/_coordinate_descent.py:647: ConvergenceWarning: Objective did not converge. You might want to increase the number of iterations, check the scale of the features or consider increasing regularisation. Duality gap: 1.768e+07, tolerance: 9.884e+03\n",
            "  model = cd_fast.enet_coordinate_descent(\n",
            "/usr/local/lib/python3.8/dist-packages/sklearn/linear_model/_coordinate_descent.py:647: ConvergenceWarning: Objective did not converge. You might want to increase the number of iterations, check the scale of the features or consider increasing regularisation. Duality gap: 3.806e+05, tolerance: 1.642e+03\n",
            "  model = cd_fast.enet_coordinate_descent(\n"
          ]
        },
        {
          "output_type": "execute_result",
          "data": {
            "text/plain": [
              "ElasticNet(alpha=0.1)"
            ]
          },
          "metadata": {},
          "execution_count": 16
        }
      ]
    },
    {
      "cell_type": "markdown",
      "source": [
        "### Decision tree regression"
      ],
      "metadata": {
        "id": "b5pLW-l0iwEE"
      }
    },
    {
      "cell_type": "code",
      "source": [
        "from sklearn.tree import DecisionTreeRegressor\n",
        "tree_regressor = DecisionTreeRegressor(random_state = 0)\n",
        "tree_regressor.fit(X_train, y_train)"
      ],
      "metadata": {
        "colab": {
          "base_uri": "https://localhost:8080/"
        },
        "id": "lEdII_2WiyAh",
        "outputId": "abc9b749-2e67-4fc8-d2b8-ad029669c4b5"
      },
      "execution_count": 17,
      "outputs": [
        {
          "output_type": "execute_result",
          "data": {
            "text/plain": [
              "DecisionTreeRegressor(random_state=0)"
            ]
          },
          "metadata": {},
          "execution_count": 17
        }
      ]
    },
    {
      "cell_type": "markdown",
      "source": [
        "### Random forest regression"
      ],
      "metadata": {
        "id": "DxWqWfj4i3Q9"
      }
    },
    {
      "cell_type": "code",
      "source": [
        "# Random forest regression\n",
        "from sklearn.ensemble import RandomForestRegressor\n",
        "forest_regressor = RandomForestRegressor(n_estimators = 100, random_state = 0)\n",
        "forest_regressor.fit(X_train, y_train)"
      ],
      "metadata": {
        "colab": {
          "base_uri": "https://localhost:8080/"
        },
        "id": "TkzuyUhNi4yC",
        "outputId": "a68fc11e-2d6c-4e9b-ea73-c2d83482dc93"
      },
      "execution_count": 19,
      "outputs": [
        {
          "output_type": "execute_result",
          "data": {
            "text/plain": [
              "RandomForestRegressor(random_state=0)"
            ]
          },
          "metadata": {},
          "execution_count": 19
        }
      ]
    },
    {
      "cell_type": "markdown",
      "source": [
        "## Evaluating the model"
      ],
      "metadata": {
        "id": "wrMzqAzSxbmX"
      }
    },
    {
      "cell_type": "code",
      "source": [
        "from sklearn.metrics import mean_squared_error\n",
        "from sklearn.metrics import mean_absolute_error\n",
        "\n",
        "def evaluate_model(model, X_train, y_train, X_test, y_test):\n",
        "  y_pred_train = model.predict(X_train)\n",
        "  y_pred_test = model.predict(X_test)\n",
        "  mse_train = mean_squared_error(y_train, y_pred_train)\n",
        "  mse_test = mean_squared_error(y_test, y_pred_test)\n",
        "  mae_train = mean_absolute_error(y_train, y_pred_train)\n",
        "  mae_test = mean_absolute_error(y_test, y_pred_test)\n",
        "  return mse_train, mse_test, mae_train, mae_test"
      ],
      "metadata": {
        "id": "sjG-i1kQskJf"
      },
      "execution_count": 30,
      "outputs": []
    },
    {
      "cell_type": "code",
      "source": [
        "# Linear regression\n",
        "linear_mse_train, linear_mse_test, linear_mae_train, linear_mae_test = evaluate_model(linear_regressor, X_train, y_train, X_test, y_test)\n",
        "\n",
        "# Ridge regression\n",
        "ridge_mse_train, ridge_mse_test, ridge_mae_train, ridge_mae_test = evaluate_model(ridge_regressor, X_train, y_train, X_test, y_test)\n",
        "\n",
        "# Lasso regression\n",
        "lasso_mse_train, lasso_mse_test, lasso_mae_train, lasso_mae_test = evaluate_model(lasso_regressor, X_train, y_train, X_test, y_test)\n",
        "\n",
        "# ElasticNet regression\n",
        "elastic_mse_train, elastic_mse_test, elastic_mae_train, elastic_mae_test = evaluate_model(elasticnet_regressor, X_train, y_train, X_test, y_test)\n",
        "\n",
        "# Decision tree regression\n",
        "tree_mse_train, tree_mse_test, tree_mae_train, tree_mae_test = evaluate_model(tree_regressor, X_train, y_train, X_test, y_test)\n",
        "\n",
        "# Random forest regression\n",
        "forest_mse_train, forest_mse_test, forest_mae_train, forest_mae_test = evaluate_model(forest_regressor, X_train, y_train, X_test, y_test)"
      ],
      "metadata": {
        "id": "dvZE7-SqkPXE"
      },
      "execution_count": 32,
      "outputs": []
    },
    {
      "cell_type": "code",
      "source": [
        "import matplotlib.pyplot as plt\n",
        "import numpy as np\n",
        "\n",
        "models = ['Linear', 'Ridge', 'Lasso', 'ElasticNet', 'Decision tree', 'Random forest']\n",
        "mse_train = [linear_mse_train, ridge_mse_train, lasso_mse_train, elastic_mse_train, tree_mse_train, forest_mse_train]\n",
        "mse_test = [linear_mse_test, ridge_mse_test, lasso_mse_test, elastic_mse_test, tree_mse_test, forest_mse_test]\n",
        "mae_train = [linear_mae_train, ridge_mae_train, lasso_mae_train, elastic_mae_train, tree_mae_train, forest_mae_train]\n",
        "mae_test = [linear_mae_test, ridge_mae_test, lasso_mae_test, elastic_mae_test, tree_mae_test, forest_mae_test]"
      ],
      "metadata": {
        "id": "sd6IipwMnA3A"
      },
      "execution_count": 33,
      "outputs": []
    },
    {
      "cell_type": "code",
      "source": [
        "x = np.arange(len(models))  # the label locations\n",
        "width = 0.35  # the width of the bars\n",
        "\n",
        "fig, ax = plt.subplots(figsize=(10, 5))\n",
        "rects1 = ax.bar(x - width/2, mse_train, width, label='MSE train')\n",
        "rects2 = ax.bar(x + width/2, mse_test, width, label='MSE test')\n",
        "\n",
        "# Add some text for labels, title and custom x-axis tick labels, etc.\n",
        "ax.set_ylabel('MSE')\n",
        "ax.set_title('MSE by model')\n",
        "ax.set_xticks(x)\n",
        "ax.set_xticklabels(models)\n",
        "ax.legend()\n",
        "\n",
        "fig.tight_layout()\n",
        "\n",
        "plt.show()\n",
        "\n",
        "fig, ax = plt.subplots(figsize=(10, 5))\n",
        "rects1 = ax.bar(x - width/2, mae_train, width, label='MAE train')\n",
        "rects2 = ax.bar(x + width/2, mae_test, width, label='MAE test')\n",
        "\n",
        "# Add some text for labels, title and custom x-axis tick labels, etc.\n",
        "ax.set_ylabel('MAE')\n",
        "ax.set_title('MAE by model')\n",
        "ax.set_xticks(x)\n",
        "ax.set_xticklabels(models)\n",
        "ax.legend()\n",
        "\n",
        "fig.tight_layout()\n",
        "\n",
        "plt.show()"
      ],
      "metadata": {
        "colab": {
          "base_uri": "https://localhost:8080/",
          "height": 721
        },
        "id": "p_fNcvUHnC_4",
        "outputId": "f0cf7a9c-4507-48b7-86ec-695333721906"
      },
      "execution_count": 34,
      "outputs": [
        {
          "output_type": "display_data",
          "data": {
            "text/plain": [
              "<Figure size 720x360 with 1 Axes>"
            ],
            "image/png": "[encoded data removed]"
          },
          "metadata": {
            "needs_background": "light"
          }
        },
        {
          "output_type": "display_data",
          "data": {
            "text/plain": [
              "<Figure size 720x360 with 1 Axes>"
            ],
            "image/png": "[encoded data removed]"
          },
          "metadata": {
            "needs_background": "light"
          }
        }
      ]
    }
  ]
}