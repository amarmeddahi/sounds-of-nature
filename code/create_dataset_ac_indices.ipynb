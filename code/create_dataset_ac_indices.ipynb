{
  "cells": [
    {
      "cell_type": "code",
      "execution_count": null,
      "metadata": {
        "colab": {
          "base_uri": "https://localhost:8080/"
        },
        "id": "YpG-wEPFOh3e",
        "outputId": "0d0478c3-9501-4bb5-82da-cc289ad03314"
      },
      "outputs": [
        {
          "name": "stdout",
          "output_type": "stream",
          "text": [
            "Mounted at /content/drive\n"
          ]
        }
      ],
      "source": [
        "# Mount Google Drive\n",
        "from google.colab import drive\n",
        "drive.mount('/content/drive')"
      ]
    },
    {
      "cell_type": "markdown",
      "metadata": {
        "id": "i4v3EWhmTwTj"
      },
      "source": [
        "# Set up the environment"
      ]
    },
    {
      "cell_type": "markdown",
      "metadata": {
        "id": "HSB7XU_OUSqC"
      },
      "source": [
        "Install dependencies"
      ]
    },
    {
      "cell_type": "code",
      "execution_count": null,
      "metadata": {
        "colab": {
          "base_uri": "https://localhost:8080/"
        },
        "id": "NpFNnuo5UBsu",
        "outputId": "db2fbdef-d5d2-4b53-e4ca-cebc64963dc6"
      },
      "outputs": [
        {
          "name": "stdout",
          "output_type": "stream",
          "text": [
            "Looking in indexes: https://pypi.org/simple, https://us-python.pkg.dev/colab-wheels/public/simple/\n",
            "Collecting scikit-maad\n",
            "  Downloading scikit_maad-1.3.12-py3-none-any.whl (142 kB)\n",
            "\u001b[2K     \u001b[90m━━━━━━━━━━━━━━━━━━━━━━━━━━━━━━━━━━━━━━━\u001b[0m \u001b[32m142.4/142.4 KB\u001b[0m \u001b[31m5.1 MB/s\u001b[0m eta \u001b[36m0:00:00\u001b[0m\n",
            "\u001b[?25hRequirement already satisfied: scikit-image>=0.17 in /usr/local/lib/python3.8/dist-packages (from scikit-maad) (0.18.3)\n",
            "Requirement already satisfied: scipy>=1.5 in /usr/local/lib/python3.8/dist-packages (from scikit-maad) (1.7.3)\n",
            "Requirement already satisfied: pandas>=1.1 in /usr/local/lib/python3.8/dist-packages (from scikit-maad) (1.3.5)\n",
            "Requirement already satisfied: numpy>=1.19 in /usr/local/lib/python3.8/dist-packages (from scikit-maad) (1.21.6)\n",
            "Requirement already satisfied: resampy>=0.2 in /usr/local/lib/python3.8/dist-packages (from scikit-maad) (0.4.2)\n",
            "Requirement already satisfied: python-dateutil>=2.7.3 in /usr/local/lib/python3.8/dist-packages (from pandas>=1.1->scikit-maad) (2.8.2)\n",
            "Requirement already satisfied: pytz>=2017.3 in /usr/local/lib/python3.8/dist-packages (from pandas>=1.1->scikit-maad) (2022.7.1)\n",
            "Requirement already satisfied: numba>=0.53 in /usr/local/lib/python3.8/dist-packages (from resampy>=0.2->scikit-maad) (0.56.4)\n",
            "Requirement already satisfied: PyWavelets>=1.1.1 in /usr/local/lib/python3.8/dist-packages (from scikit-image>=0.17->scikit-maad) (1.4.1)\n",
            "Requirement already satisfied: matplotlib!=3.0.0,>=2.0.0 in /usr/local/lib/python3.8/dist-packages (from scikit-image>=0.17->scikit-maad) (3.2.2)\n",
            "Requirement already satisfied: tifffile>=2019.7.26 in /usr/local/lib/python3.8/dist-packages (from scikit-image>=0.17->scikit-maad) (2023.2.3)\n",
            "Requirement already satisfied: imageio>=2.3.0 in /usr/local/lib/python3.8/dist-packages (from scikit-image>=0.17->scikit-maad) (2.9.0)\n",
            "Requirement already satisfied: networkx>=2.0 in /usr/local/lib/python3.8/dist-packages (from scikit-image>=0.17->scikit-maad) (3.0)\n",
            "Requirement already satisfied: pillow!=7.1.0,!=7.1.1,>=4.3.0 in /usr/local/lib/python3.8/dist-packages (from scikit-image>=0.17->scikit-maad) (7.1.2)\n",
            "Requirement already satisfied: kiwisolver>=1.0.1 in /usr/local/lib/python3.8/dist-packages (from matplotlib!=3.0.0,>=2.0.0->scikit-image>=0.17->scikit-maad) (1.4.4)\n",
            "Requirement already satisfied: cycler>=0.10 in /usr/local/lib/python3.8/dist-packages (from matplotlib!=3.0.0,>=2.0.0->scikit-image>=0.17->scikit-maad) (0.11.0)\n",
            "Requirement already satisfied: pyparsing!=2.0.4,!=2.1.2,!=2.1.6,>=2.0.1 in /usr/local/lib/python3.8/dist-packages (from matplotlib!=3.0.0,>=2.0.0->scikit-image>=0.17->scikit-maad) (3.0.9)\n",
            "Requirement already satisfied: importlib-metadata in /usr/local/lib/python3.8/dist-packages (from numba>=0.53->resampy>=0.2->scikit-maad) (6.0.0)\n",
            "Requirement already satisfied: llvmlite<0.40,>=0.39.0dev0 in /usr/local/lib/python3.8/dist-packages (from numba>=0.53->resampy>=0.2->scikit-maad) (0.39.1)\n",
            "Requirement already satisfied: setuptools in /usr/local/lib/python3.8/dist-packages (from numba>=0.53->resampy>=0.2->scikit-maad) (57.4.0)\n",
            "Requirement already satisfied: six>=1.5 in /usr/local/lib/python3.8/dist-packages (from python-dateutil>=2.7.3->pandas>=1.1->scikit-maad) (1.15.0)\n",
            "Requirement already satisfied: zipp>=0.5 in /usr/local/lib/python3.8/dist-packages (from importlib-metadata->numba>=0.53->resampy>=0.2->scikit-maad) (3.13.0)\n",
            "Installing collected packages: scikit-maad\n",
            "Successfully installed scikit-maad-1.3.12\n"
          ]
        }
      ],
      "source": [
        "!pip install scikit-maad"
      ]
    },
    {
      "cell_type": "markdown",
      "metadata": {
        "id": "w2Nxze6bUWL0"
      },
      "source": [
        "Import librairies"
      ]
    },
    {
      "cell_type": "code",
      "execution_count": null,
      "metadata": {
        "id": "-BIq7tiIPGv0"
      },
      "outputs": [],
      "source": [
        "import os\n",
        "import sys\n",
        "import time\n",
        "import glob\n",
        "import scipy.io.wavfile\n",
        "import scipy.signal\n",
        "import numpy as np\n",
        "import pandas as pd\n",
        "import librosa\n",
        "import datetime\n",
        "from IPython.display import Audio\n",
        "from sklearn.preprocessing import OneHotEncoder\n",
        "from maad import sound, features\n",
        "from maad.util import (date_parser, plot_correlation_map,\n",
        "                       plot_features_map, plot_features, false_Color_Spectro)"
      ]
    },
    {
      "cell_type": "markdown",
      "metadata": {
        "id": "ljuNXd3AUZer"
      },
      "source": [
        "Set Variables"
      ]
    },
    {
      "cell_type": "code",
      "execution_count": null,
      "metadata": {
        "id": "bhD-cpiZUdim"
      },
      "outputs": [],
      "source": [
        "# List all spectral and temporal acoustic indices that will be computed\n",
        "SPECTRAL_FEATURES=['MEANf','VARf','SKEWf','KURTf','NBPEAKS','LEQf',\n",
        "'ENRf','BGNf','SNRf','Hf', 'EAS','ECU','ECV','EPS','EPS_KURT','EPS_SKEW','ACI',\n",
        "'NDSI','rBA','AnthroEnergy','BioEnergy','BI','ROU','ADI','AEI','LFC','MFC','HFC',\n",
        "'ACTspFract','ACTspCount','ACTspMean', 'EVNspFract','EVNspMean','EVNspCount',\n",
        "'TFSD','H_Havrda','H_Renyi','H_pairedShannon', 'H_gamma', 'H_GiniSimpson','RAOQ',\n",
        "'AGI','ROItotal','ROIcover']\n",
        "\n",
        "TEMPORAL_FEATURES=['ZCR','MEANt', 'VARt', 'SKEWt', 'KURTt',\n",
        "               'LEQt','BGNt', 'SNRt','MED', 'Ht','ACTtFraction', 'ACTtCount',\n",
        "               'ACTtMean','EVNtFraction', 'EVNtMean', 'EVNtCount']"
      ]
    },
    {
      "cell_type": "code",
      "execution_count": null,
      "metadata": {
        "id": "4nLB31rbPcsZ"
      },
      "outputs": [],
      "source": [
        "# Audio dataset location\n",
        "parent_dir = ....\n",
        "label_dirs = ['RE', 'BE', 'BL', 'RL']"
      ]
    },
    {
      "cell_type": "markdown",
      "metadata": {
        "id": "XpTm_sVeU5Ey"
      },
      "source": [
        "# Processing"
      ]
    },
    {
      "cell_type": "markdown",
      "metadata": {
        "id": "LN6Ut9RlU7i_"
      },
      "source": [
        "Initialization"
      ]
    },
    {
      "cell_type": "code",
      "execution_count": null,
      "metadata": {
        "colab": {
          "base_uri": "https://localhost:8080/"
        },
        "id": "-vNOLLgRfwbv",
        "outputId": "60990456-868b-486f-e99d-8bb1beba4152"
      },
      "outputs": [
        {
          "data": {
            "text/plain": [
              "{'RE': 30, 'BE': 33, 'BL': 33, 'RL': 24}"
            ]
          },
          "execution_count": 6,
          "metadata": {},
          "output_type": "execute_result"
        }
      ],
      "source": [
        "# Get the number of audio files in each label directory\n",
        "num_audio_files = {}\n",
        "for label in label_dirs:\n",
        "    label_dir = os.path.join(parent_dir, label)\n",
        "    audio_files = glob.glob(label_dir + '/*/*.wav')\n",
        "    num_audio_files[label] = len(audio_files)\n",
        "num_audio_files"
      ]
    },
    {
      "cell_type": "markdown",
      "metadata": {
        "id": "bQ6W3lV0l7w6"
      },
      "source": [
        "Auxiliary functions"
      ]
    },
    {
      "cell_type": "code",
      "execution_count": null,
      "metadata": {
        "id": "0Z1lpYEhmDWJ"
      },
      "outputs": [],
      "source": [
        "def audio_preprocessing(audio, sr, new_sr, chunk_size, total_size):\n",
        "    \"\"\"Preprocess the audio file\n",
        "    1. Resample the audio file\n",
        "    2. Pad the audio file to 30 minutes\n",
        "    3. Split the audio into chunks of 60 seconds\n",
        "    \n",
        "    Args:\n",
        "        audio (np.array): audio signal\n",
        "        sr (int): sampling rate\n",
        "        new_sr (int): new sampling rate\n",
        "        chunk_size (int): chunk size in seconds\n",
        "        total_size (int): total size in minutes\n",
        "    \n",
        "    Returns:\n",
        "        audio_chunks (np.array): audio chunks\n",
        "        \"\"\"\n",
        "    # Resample the audio file\n",
        "    audio = librosa.resample(audio, sr, new_sr)\n",
        "    # Pad the audio file to 30 minutes\n",
        "    audio = np.pad(audio, (0, total_size*chunk_size*new_sr - audio.shape[0]), 'constant')\n",
        "    # Split the audio into chunks of 60 seconds\n",
        "    audio_chunks = librosa.util.frame(audio, frame_length=chunk_size*new_sr, hop_length=chunk_size*new_sr)\n",
        "    return audio_chunks"
      ]
    },
    {
      "cell_type": "code",
      "execution_count": null,
      "metadata": {
        "id": "lD1iZfECmD_-"
      },
      "outputs": [],
      "source": [
        "def date_time_parser_from_filename(filename):\n",
        "    \"\"\"Parse the date and time from the filename\n",
        "    \n",
        "    Args:\n",
        "        filename (str): filename (filename format: XXX_YYYYMMDD_HHMMSS.wav)\n",
        "    \n",
        "    Returns:\n",
        "        date_time_obj (obj): date + time\n",
        "        \"\"\"\n",
        "    # Get the date and time from the filename\n",
        "    date_time = filename.split('_')[1] + filename.split('_')[2].split('.')[0]\n",
        "    # Convert the date and time to datetime object\n",
        "    date_time_obj = datetime.datetime.strptime(date_time, '%Y%m%d%H%M%S')\n",
        "    return date_time_obj"
      ]
    },
    {
      "cell_type": "markdown",
      "metadata": {
        "id": "UNw2nyDViT4P"
      },
      "source": [
        "Accoustics indices computing"
      ]
    },
    {
      "cell_type": "code",
      "execution_count": null,
      "metadata": {
        "colab": {
          "base_uri": "https://localhost:8080/"
        },
        "id": "wgZinQSAdonc",
        "outputId": "1ceddc49-13f3-4c9f-a807-acd459eb4e8d"
      },
      "outputs": [
        {
          "name": "stdout",
          "output_type": "stream",
          "text": [
            "Loading label directory: RE\n"
          ]
        },
        {
          "name": "stderr",
          "output_type": "stream",
          "text": [
            "/usr/local/lib/python3.8/dist-packages/maad/util/math_func.py:445: RuntimeWarning: divide by zero encountered in log\n",
            "  H = -np.sum(pmf*np.log(pmf),axis)/np.log(n)\n",
            "/usr/local/lib/python3.8/dist-packages/maad/util/math_func.py:445: RuntimeWarning: invalid value encountered in multiply\n",
            "  H = -np.sum(pmf*np.log(pmf),axis)/np.log(n)\n",
            "/usr/local/lib/python3.8/dist-packages/maad/util/miscellaneous.py:358: RuntimeWarning: divide by zero encountered in log10\n",
            "  y = 20*log10(x)   # take log\n",
            "/usr/local/lib/python3.8/dist-packages/maad/spl/conversion_SPL.py:478: RuntimeWarning: divide by zero encountered in log10\n",
            "  Leq = 20*log10(volt_RMS) - sensitivity + dBref - gain\n",
            "/usr/local/lib/python3.8/dist-packages/maad/util/miscellaneous.py:413: RuntimeWarning: divide by zero encountered in log10\n",
            "  y = 10*log10(x)   # take log\n",
            "/usr/local/lib/python3.8/dist-packages/maad/features/alpha_indices.py:768: RuntimeWarning: divide by zero encountered in log10\n",
            "  envdB = 10*np.log10(env**2)\n"
          ]
        },
        {
          "name": "stdout",
          "output_type": "stream",
          "text": [
            "Loading audio file: 1/30 Total time taken: 127.4327552318573 seconds\n",
            "Loading audio file: 2/30 Total time taken: 97.96728444099426 seconds\n",
            "Loading audio file: 3/30 Total time taken: 93.65077805519104 seconds\n"
          ]
        },
        {
          "name": "stderr",
          "output_type": "stream",
          "text": [
            "/usr/local/lib/python3.8/dist-packages/maad/util/miscellaneous.py:627: RuntimeWarning: Mean of empty slice.\n",
            "  e_mean = e.mean(axis)\n",
            "/usr/local/lib/python3.8/dist-packages/numpy/core/_methods.py:189: RuntimeWarning: invalid value encountered in true_divide\n",
            "  ret = ret.dtype.type(ret / rcount)\n"
          ]
        },
        {
          "name": "stdout",
          "output_type": "stream",
          "text": [
            "Loading audio file: 4/30 Total time taken: 96.38790512084961 seconds\n",
            "Loading audio file: 5/30 Total time taken: 95.55557751655579 seconds\n",
            "Loading audio file: 6/30 Total time taken: 90.09755873680115 seconds\n",
            "Loading audio file: 7/30 Total time taken: 94.35877776145935 seconds\n",
            "Loading audio file: 8/30 Total time taken: 93.82345533370972 seconds\n",
            "Loading audio file: 9/30 Total time taken: 93.98296880722046 seconds\n",
            "Loading audio file: 10/30 Total time taken: 96.18772554397583 seconds\n",
            "Loading audio file: 11/30 Total time taken: 95.56331276893616 seconds\n",
            "Loading audio file: 12/30 Total time taken: 96.54065608978271 seconds\n",
            "Loading audio file: 13/30 Total time taken: 93.26703405380249 seconds\n",
            "Loading audio file: 14/30 Total time taken: 99.44511079788208 seconds\n",
            "Loading audio file: 15/30 Total time taken: 98.8920385837555 seconds\n",
            "Loading audio file: 16/30 Total time taken: 92.69085454940796 seconds\n",
            "Loading audio file: 17/30 Total time taken: 96.9869065284729 seconds\n",
            "Loading audio file: 18/30 Total time taken: 92.31855368614197 seconds\n",
            "Loading audio file: 19/30 Total time taken: 93.41669607162476 seconds\n",
            "Loading audio file: 20/30 Total time taken: 96.95294666290283 seconds\n",
            "Loading audio file: 21/30 Total time taken: 94.07502031326294 seconds\n",
            "Loading audio file: 22/30 Total time taken: 92.99156379699707 seconds\n",
            "Loading audio file: 23/30 Total time taken: 97.09345960617065 seconds\n",
            "Loading audio file: 24/30 Total time taken: 95.34065508842468 seconds\n",
            "Loading audio file: 25/30 Total time taken: 89.47446990013123 seconds\n",
            "Loading audio file: 26/30 Total time taken: 96.17248058319092 seconds\n",
            "Loading audio file: 27/30 Total time taken: 95.03217816352844 seconds\n",
            "Loading audio file: 28/30 Total time taken: 96.48993158340454 seconds\n",
            "Loading audio file: 29/30 Total time taken: 98.558664560318 seconds\n",
            "Loading audio file: 30/30 Total time taken: 94.0810055732727 seconds\n",
            "Loading label directory: BE\n",
            "Loading audio file: 1/33 Total time taken: 93.57371735572815 seconds\n",
            "Loading audio file: 2/33 Total time taken: 97.10435461997986 seconds\n",
            "Loading audio file: 3/33 Total time taken: 94.56971859931946 seconds\n",
            "Loading audio file: 4/33 Total time taken: 97.03673243522644 seconds\n",
            "Loading audio file: 5/33 Total time taken: 96.67792582511902 seconds\n",
            "Loading audio file: 6/33 Total time taken: 99.64909839630127 seconds\n",
            "Loading audio file: 7/33 Total time taken: 95.55238890647888 seconds\n",
            "Loading audio file: 8/33 Total time taken: 98.82607316970825 seconds\n",
            "Loading audio file: 9/33 Total time taken: 98.42720770835876 seconds\n",
            "Loading audio file: 10/33 Total time taken: 98.07320666313171 seconds\n",
            "Loading audio file: 11/33 Total time taken: 104.2304584980011 seconds\n",
            "Loading audio file: 12/33 Total time taken: 91.67791724205017 seconds\n",
            "Loading audio file: 13/33 Total time taken: 92.80785131454468 seconds\n",
            "Loading audio file: 14/33 Total time taken: 98.12782382965088 seconds\n",
            "Loading audio file: 15/33 Total time taken: 94.47159790992737 seconds\n",
            "Loading audio file: 16/33 Total time taken: 92.97201037406921 seconds\n",
            "Loading audio file: 17/33 Total time taken: 104.24508452415466 seconds\n",
            "Loading audio file: 18/33 Total time taken: 97.75927424430847 seconds\n",
            "Loading audio file: 19/33 Total time taken: 95.07910704612732 seconds\n",
            "Loading audio file: 20/33 Total time taken: 98.43663930892944 seconds\n"
          ]
        },
        {
          "name": "stderr",
          "output_type": "stream",
          "text": [
            "/usr/local/lib/python3.8/dist-packages/maad/features/alpha_indices.py:670: RuntimeWarning: invalid value encountered in subtract\n",
            "  envdB = envdB - BGNt\n",
            "/usr/local/lib/python3.8/dist-packages/maad/features/alpha_indices.py:771: RuntimeWarning: invalid value encountered in subtract\n",
            "  envdB = envdB - BGNt\n",
            "/usr/local/lib/python3.8/dist-packages/maad/features/alpha_indices.py:2208: RuntimeWarning: divide by zero encountered in true_divide\n",
            "  AGI_xx = AGI_xx/m[:,None]\n",
            "/usr/local/lib/python3.8/dist-packages/maad/features/alpha_indices.py:2208: RuntimeWarning: invalid value encountered in true_divide\n",
            "  AGI_xx = AGI_xx/m[:,None]\n"
          ]
        },
        {
          "name": "stdout",
          "output_type": "stream",
          "text": [
            "Loading audio file: 21/33 Total time taken: 93.883713722229 seconds\n",
            "Loading audio file: 22/33 Total time taken: 95.07224011421204 seconds\n",
            "Loading audio file: 23/33 Total time taken: 101.60056900978088 seconds\n",
            "Loading audio file: 24/33 Total time taken: 97.06067705154419 seconds\n",
            "Loading audio file: 25/33 Total time taken: 92.22163224220276 seconds\n",
            "Loading audio file: 26/33 Total time taken: 97.60355949401855 seconds\n",
            "Loading audio file: 27/33 Total time taken: 94.35029625892639 seconds\n",
            "Loading audio file: 28/33 Total time taken: 90.55542731285095 seconds\n",
            "Loading audio file: 29/33 Total time taken: 96.09374713897705 seconds\n",
            "Loading audio file: 30/33 Total time taken: 99.83866214752197 seconds\n",
            "Loading audio file: 31/33 Total time taken: 94.67371797561646 seconds\n",
            "Loading audio file: 32/33 Total time taken: 96.22663974761963 seconds\n",
            "Loading audio file: 33/33 Total time taken: 92.94865655899048 seconds\n",
            "Loading label directory: BL\n",
            "Loading audio file: 1/33 Total time taken: 93.0747423171997 seconds\n",
            "Loading audio file: 2/33 Total time taken: 93.88386154174805 seconds\n",
            "Loading audio file: 3/33 Total time taken: 99.02822804450989 seconds\n",
            "Loading audio file: 4/33 Total time taken: 94.06131196022034 seconds\n",
            "Loading audio file: 5/33 Total time taken: 94.63702344894409 seconds\n",
            "Loading audio file: 6/33 Total time taken: 99.23146438598633 seconds\n",
            "Loading audio file: 7/33 Total time taken: 100.80591154098511 seconds\n",
            "Loading audio file: 8/33 Total time taken: 101.49540591239929 seconds\n",
            "Loading audio file: 9/33 Total time taken: 96.8467321395874 seconds\n",
            "Loading audio file: 10/33 Total time taken: 93.81590127944946 seconds\n",
            "Loading audio file: 11/33 Total time taken: 102.6169044971466 seconds\n",
            "Loading audio file: 12/33 Total time taken: 96.88160276412964 seconds\n",
            "Loading audio file: 13/33 Total time taken: 95.72177767753601 seconds\n",
            "Loading audio file: 14/33 Total time taken: 94.80730032920837 seconds\n",
            "Loading audio file: 15/33 Total time taken: 95.67473793029785 seconds\n",
            "Loading audio file: 16/33 Total time taken: 98.26931929588318 seconds\n",
            "Loading audio file: 17/33 Total time taken: 94.65410113334656 seconds\n",
            "Loading audio file: 18/33 Total time taken: 93.2023138999939 seconds\n",
            "Loading audio file: 19/33 Total time taken: 94.0134117603302 seconds\n",
            "Loading audio file: 20/33 Total time taken: 95.6992859840393 seconds\n",
            "Loading audio file: 21/33 Total time taken: 95.12007117271423 seconds\n",
            "Loading audio file: 22/33 Total time taken: 98.33000898361206 seconds\n",
            "Loading audio file: 23/33 Total time taken: 94.02276492118835 seconds\n",
            "Loading audio file: 24/33 Total time taken: 93.97602343559265 seconds\n",
            "Loading audio file: 25/33 Total time taken: 93.0407657623291 seconds\n",
            "Loading audio file: 26/33 Total time taken: 95.149897813797 seconds\n",
            "Loading audio file: 27/33 Total time taken: 94.32729959487915 seconds\n",
            "Loading audio file: 28/33 Total time taken: 97.02955174446106 seconds\n",
            "Loading audio file: 29/33 Total time taken: 96.88993978500366 seconds\n",
            "Loading audio file: 30/33 Total time taken: 99.51190757751465 seconds\n",
            "Loading audio file: 31/33 Total time taken: 93.89699220657349 seconds\n",
            "Loading audio file: 32/33 Total time taken: 95.11386227607727 seconds\n",
            "Loading audio file: 33/33 Total time taken: 95.8822774887085 seconds\n",
            "Loading label directory: RL\n",
            "Loading audio file: 1/24 Total time taken: 92.8658995628357 seconds\n",
            "Loading audio file: 2/24 Total time taken: 98.86597156524658 seconds\n",
            "Loading audio file: 3/24 Total time taken: 97.66714239120483 seconds\n",
            "Loading audio file: 4/24 Total time taken: 93.91531825065613 seconds\n",
            "Loading audio file: 5/24 Total time taken: 98.0258584022522 seconds\n",
            "Loading audio file: 6/24 Total time taken: 92.81879472732544 seconds\n",
            "Loading audio file: 7/24 Total time taken: 91.52474284172058 seconds\n",
            "Loading audio file: 8/24 Total time taken: 96.9864284992218 seconds\n",
            "Loading audio file: 9/24 Total time taken: 93.79930782318115 seconds\n",
            "Loading audio file: 10/24 Total time taken: 92.93449330329895 seconds\n",
            "Loading audio file: 11/24 Total time taken: 96.2984778881073 seconds\n",
            "Loading audio file: 12/24 Total time taken: 94.96692276000977 seconds\n",
            "Loading audio file: 13/24 Total time taken: 91.86905813217163 seconds\n",
            "Loading audio file: 14/24 Total time taken: 96.55262565612793 seconds\n",
            "Loading audio file: 15/24 Total time taken: 99.48058748245239 seconds\n",
            "Loading audio file: 16/24 Total time taken: 92.47604036331177 seconds\n",
            "Loading audio file: 17/24 Total time taken: 95.95377445220947 seconds\n",
            "Loading audio file: 18/24 Total time taken: 92.65718674659729 seconds\n",
            "Loading audio file: 19/24 Total time taken: 89.84414553642273 seconds\n",
            "Loading audio file: 20/24 Total time taken: 92.68532609939575 seconds\n",
            "Loading audio file: 21/24 Total time taken: 101.45831274986267 seconds\n",
            "Loading audio file: 22/24 Total time taken: 93.14314651489258 seconds\n",
            "Loading audio file: 23/24 Total time taken: 92.92192125320435 seconds\n",
            "Loading audio file: 24/24 Total time taken: 96.97842240333557 seconds\n"
          ]
        }
      ],
      "source": [
        "# Create a dataframe to store the features\n",
        "df_indices = pd.DataFrame(columns=['filename']+['date']+['site']+TEMPORAL_FEATURES+SPECTRAL_FEATURES+['label'])\n",
        "# Parameters\n",
        "new_sr = 16000 # new sampling rate\n",
        "chunk_size = 60 # 60 seconds\n",
        "total_size = 30 # 30 minutes\n",
        "\n",
        "# Parameters of the audio recorder. This is not a mandatory but it allows\n",
        "# to compute the sound pressure level of the audio file (dB SPL) as a\n",
        "# sonometer would do.\n",
        "S = -35         # Sensbility microphone-35dBV (SM4) / -18dBV (Audiomoth)\n",
        "G = 26+16       # Amplification gain (26dB (SM4 preamplifier))\n",
        "\n",
        "# Loop through the label directories and load the audio files\n",
        "for label in label_dirs:\n",
        "    # Print the label directory\n",
        "    print('Loading label directory: {}'.format(label))\n",
        "    # Get the path to the label directory\n",
        "    label_dir = os.path.join(parent_dir, label)\n",
        "    # Get the list of audio files\n",
        "    audio_files = glob.glob(label_dir + '/*/*.wav')\n",
        "    # Loop through the audio files\n",
        "    for audio_file in audio_files:\n",
        "        # Initialize start time\n",
        "        start_time = time.time()\n",
        "        # Get the filename\n",
        "        filename = os.path.basename(audio_file)\n",
        "        # Get the date and time from the filename\n",
        "        date = date_time_parser_from_filename(filename)\n",
        "        # Get the site lowercase (parent directory name)\n",
        "        site = os.path.basename(os.path.dirname(audio_file)).lower()\n",
        "        # Load the audio file\n",
        "        audio, sr = librosa.load(audio_file)\n",
        "        # Preprocess the audio file\n",
        "        audio_chunks = audio_preprocessing(audio, sr, new_sr, chunk_size, total_size)\n",
        "        # Loop through the audio chunks\n",
        "        for audio_chunk in audio_chunks.T:\n",
        "            # Compute the acoustic indices in the time domain\n",
        "            df_temp_ind = features.all_temporal_alpha_indices(audio_chunk, new_sr, gain = G, sensibility = S, \n",
        "                                          dB_threshold = 3, rejectDuration = 0.01,\n",
        "                                          verbose = False, display = False)\n",
        "            # Compute the Power Spectrogram Density (PSD) : Sxx_power\n",
        "            Sxx_power,tn,fn,ext = sound.spectrogram (audio_chunk, new_sr)\n",
        "            # Compute the acoustic indices in the frequency domain\n",
        "            df_freq_ind, _ = features.all_spectral_alpha_indices(Sxx_power, tn, fn)\n",
        "            # Concatenate the acoustic indices in the time and frequency domain\n",
        "            df_ind = pd.concat([df_temp_ind, df_freq_ind], axis=1)\n",
        "            # Add the filename, date, site and label to the dataframe\n",
        "            df_ind['filename'] = filename\n",
        "            df_ind['date'] = date\n",
        "            df_ind['site'] = site\n",
        "            df_ind['label'] = label\n",
        "            # Append the dataframe to the dataframe containing all the acoustic indices\n",
        "            df_indices = df_indices.append(df_ind, ignore_index=True)\n",
        "        # Calculate and print the total time taken for the loop\n",
        "        end_time = time.time()\n",
        "        total_time = end_time - start_time\n",
        "        # Print the progress of the loop compare to the total number of audio files\n",
        "        print('Loading audio file: {}/{} Total time taken: {} seconds'.format(audio_files.index(audio_file)+1, num_audio_files[label], total_time))"
      ]
    },
    {
      "cell_type": "code",
      "execution_count": null,
      "metadata": {
        "id": "4ZAnozs0D1lB"
      },
      "outputs": [],
      "source": [
        "# Save the dataframe to a csv file\n",
        "path = ...\n",
        "dataset_filename = 'dataset_acc_indices.csv'\n",
        "df_indices.to_csv(os.path.join(path, dataset_filename), index=False)"
      ]
    }
  ],
  "metadata": {
    "colab": {
      "provenance": []
    },
    "gpuClass": "standard",
    "kernelspec": {
      "display_name": "Python 3",
      "language": "python",
      "name": "python3"
    },
    "language_info": {
      "name": "python",
      "version": "3.10.10"
    },
    "vscode": {
      "interpreter": {
        "hash": "2c4942a159f4d5aef3ee417b2496c4987664cccd18376e4758d26fa90466618f"
      }
    }
  },
  "nbformat": 4,
  "nbformat_minor": 0
}
