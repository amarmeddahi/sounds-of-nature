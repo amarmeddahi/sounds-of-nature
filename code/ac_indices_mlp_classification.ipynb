{
  "cells": [
    {
      "cell_type": "markdown",
      "metadata": {
        "id": "0MRC0e0KhQ0S"
      },
      "source": [
        "# Deep Learning Classification of accoustic indices"
      ]
    },
    {
      "cell_type": "markdown",
      "metadata": {
        "id": "LWd1UlMnhT2s"
      },
      "source": [
        "## Importing the libraries"
      ]
    },
    {
      "cell_type": "code",
      "execution_count": 1,
      "metadata": {
        "id": "YvGPUQaHhXfL"
      },
      "outputs": [],
      "source": [
        "import numpy as np\n",
        "import matplotlib.pyplot as plt\n",
        "import pandas as pd"
      ]
    },
    {
      "cell_type": "markdown",
      "metadata": {
        "id": "K1VMqkGvhc3-"
      },
      "source": [
        "## Importing the dataset"
      ]
    },
    {
      "cell_type": "code",
      "execution_count": 2,
      "metadata": {
        "colab": {
          "base_uri": "https://localhost:8080/"
        },
        "id": "M52QDmyzhh9s",
        "outputId": "e2f5bc1d-c4d6-4e2c-997d-0783b33930e5"
      },
      "outputs": [
        {
          "name": "stdout",
          "output_type": "stream",
          "text": [
            "Cloning into 'sounds-of-nature'...\n",
            "remote: Enumerating objects: 22, done.\u001b[K\n",
            "remote: Counting objects: 100% (22/22), done.\u001b[K\n",
            "remote: Compressing objects: 100% (15/15), done.\u001b[K\n",
            "remote: Total 22 (delta 5), reused 15 (delta 2), pack-reused 0\u001b[K\n",
            "Unpacking objects: 100% (22/22), 2.38 MiB | 8.83 MiB/s, done.\n"
          ]
        }
      ],
      "source": [
        "!git clone https://github.com/amarmeddahi/sounds-of-nature.git\n",
        "path = \"./sounds-of-nature/data/dataset_acc_indices.csv\""
      ]
    },
    {
      "cell_type": "code",
      "execution_count": 3,
      "metadata": {
        "id": "7d9jFCF-05gs"
      },
      "outputs": [],
      "source": [
        "df = pd.read_csv(path)"
      ]
    },
    {
      "cell_type": "markdown",
      "metadata": {
        "id": "3fC0MepOLi2-"
      },
      "source": [
        "## Cleaning the dataset"
      ]
    },
    {
      "cell_type": "code",
      "execution_count": 4,
      "metadata": {
        "id": "GXCaS9T8N9oe"
      },
      "outputs": [],
      "source": [
        "# Drop duplicate rows\n",
        "df = df.drop_duplicates()"
      ]
    },
    {
      "cell_type": "code",
      "execution_count": 5,
      "metadata": {
        "id": "UyjhErSYPU9t"
      },
      "outputs": [],
      "source": [
        "# Drop columns with high percentage of missing values\n",
        "missing_threshold = 0.8\n",
        "df = df.dropna(thresh=int(missing_threshold * len(df)), axis=1)"
      ]
    },
    {
      "cell_type": "code",
      "execution_count": 6,
      "metadata": {
        "id": "AZ-NRfjnRI8r"
      },
      "outputs": [],
      "source": [
        "# Drop rows with missing values\n",
        "df = df.dropna()"
      ]
    },
    {
      "cell_type": "code",
      "execution_count": 7,
      "metadata": {
        "id": "KhVLyqiwPZf6"
      },
      "outputs": [],
      "source": [
        "X = df.iloc[:, 3:-1].values.astype(float)"
      ]
    },
    {
      "cell_type": "code",
      "execution_count": 8,
      "metadata": {
        "id": "qxQw6uio01AC"
      },
      "outputs": [],
      "source": [
        "labels = [\"BE-BL-RE-RL\", \"R-B\", \"L-E\"]\n",
        "l = labels[0]\n",
        "if l == \"R-B\":\n",
        "  y = np.array([s[0] for s in df.iloc[:, -1].values])\n",
        "elif l == \"L-E\":\n",
        "  y = np.array([s[1] for s in df.iloc[:, -1].values])\n",
        "else:\n",
        "  y = df.iloc[:, -1].values"
      ]
    },
    {
      "cell_type": "markdown",
      "metadata": {
        "id": "8sAVdFGgUiPc"
      },
      "source": [
        "## Encoding the labels"
      ]
    },
    {
      "cell_type": "code",
      "execution_count": 9,
      "metadata": {
        "id": "3twvs8b0UnWb"
      },
      "outputs": [],
      "source": [
        "from sklearn.preprocessing import LabelEncoder\n",
        "le = LabelEncoder()\n",
        "y = le.fit_transform(y)"
      ]
    },
    {
      "cell_type": "markdown",
      "metadata": {
        "id": "YvxIPVyMhmKp"
      },
      "source": [
        "## Splitting the dataset into the Training set and Test set"
      ]
    },
    {
      "cell_type": "code",
      "execution_count": 10,
      "metadata": {
        "id": "AVzJWAXIhxoC"
      },
      "outputs": [],
      "source": [
        "# Splitting randomy the dataset into the Training set and Test set (80/20)\n",
        "from sklearn.model_selection import train_test_split\n",
        "X_train, X_test, y_train, y_test = train_test_split(X, y, test_size = 0.2, random_state = 0)"
      ]
    },
    {
      "cell_type": "code",
      "execution_count": 11,
      "metadata": {
        "colab": {
          "base_uri": "https://localhost:8080/"
        },
        "id": "fTD6zkQYToQ6",
        "outputId": "c90ca9d9-f3ef-4bc9-ffcf-aa625009bc8d"
      },
      "outputs": [
        {
          "name": "stdout",
          "output_type": "stream",
          "text": [
            "Labels counts in y_train: [561 691 688 552]\n",
            "Labels counts in y_test: [156 145 179 144]\n"
          ]
        }
      ],
      "source": [
        "# Print the labels distribution in the training and test sets\n",
        "print('Labels counts in y_train:', np.bincount(y_train))\n",
        "print('Labels counts in y_test:', np.bincount(y_test))"
      ]
    },
    {
      "cell_type": "markdown",
      "metadata": {
        "id": "0QmTMR5yUUM2"
      },
      "source": [
        "## Feature Scaling"
      ]
    },
    {
      "cell_type": "code",
      "execution_count": 12,
      "metadata": {
        "id": "j9PpMK3BUWSp"
      },
      "outputs": [],
      "source": [
        "from sklearn.preprocessing import StandardScaler\n",
        "sc = StandardScaler()\n",
        "X_train = sc.fit_transform(X_train)\n",
        "X_test = sc.transform(X_test)"
      ]
    },
    {
      "cell_type": "markdown",
      "metadata": {
        "id": "zW_wT3y4HZvh"
      },
      "source": [
        "## Building the model"
      ]
    },
    {
      "cell_type": "code",
      "execution_count": 13,
      "metadata": {
        "id": "G94dzrp0IW3e"
      },
      "outputs": [],
      "source": [
        "from keras.models import Sequential\n",
        "from keras.layers import Dense\n",
        "\n",
        "numLabels = len(np.unique(y_train))\n",
        "\n",
        "# Initialising the ANN\n",
        "classifier = Sequential()\n",
        "\n",
        "# Adding the input layer and the first hidden layer\n",
        "classifier.add(Dense(units = 256, kernel_initializer = 'uniform', activation = 'relu'))\n",
        "classifier.add(Dense(units = 128, kernel_initializer = 'uniform', activation = 'relu'))\n",
        "classifier.add(Dense(units = 64, kernel_initializer = 'uniform', activation = 'relu'))\n",
        "classifier.add(Dense(units = numLabels, kernel_initializer = 'uniform', activation = 'softmax'))"
      ]
    },
    {
      "cell_type": "code",
      "execution_count": 14,
      "metadata": {
        "colab": {
          "base_uri": "https://localhost:8080/"
        },
        "id": "APQ0V08xIXk1",
        "outputId": "b01638a4-5f11-436e-a395-84b04ec8c4af"
      },
      "outputs": [
        {
          "name": "stdout",
          "output_type": "stream",
          "text": [
            "Model: \"sequential\"\n",
            "_________________________________________________________________\n",
            " Layer (type)                Output Shape              Param #   \n",
            "=================================================================\n",
            " dense (Dense)               (None, 256)               15616     \n",
            "                                                                 \n",
            " dense_1 (Dense)             (None, 128)               32896     \n",
            "                                                                 \n",
            " dense_2 (Dense)             (None, 64)                8256      \n",
            "                                                                 \n",
            " dense_3 (Dense)             (None, 4)                 260       \n",
            "                                                                 \n",
            "=================================================================\n",
            "Total params: 57,028\n",
            "Trainable params: 57,028\n",
            "Non-trainable params: 0\n",
            "_________________________________________________________________\n"
          ]
        }
      ],
      "source": [
        "classifier.build(input_shape=(None, X_train.shape[1]))\n",
        "classifier.summary()"
      ]
    },
    {
      "cell_type": "code",
      "execution_count": 15,
      "metadata": {
        "id": "WcmKLnWqIoQK"
      },
      "outputs": [],
      "source": [
        "classifier.compile(optimizer = 'adam', loss = 'sparse_categorical_crossentropy', metrics = ['accuracy'])"
      ]
    },
    {
      "cell_type": "markdown",
      "metadata": {
        "id": "bb6jCOCQiAmP"
      },
      "source": [
        "## Training the models\n",
        "\n"
      ]
    },
    {
      "cell_type": "code",
      "execution_count": 16,
      "metadata": {
        "id": "yHt924vzJI7w"
      },
      "outputs": [],
      "source": [
        "# Checkpoint Callback\n",
        "from keras.callbacks import ModelCheckpoint\n",
        "filepath=\"weights.best.hdf5\"\n",
        "checkpoint = ModelCheckpoint(filepath, monitor='val_accuracy', verbose=1, save_best_only=True, mode='max')\n",
        "callbacks_list = [checkpoint]"
      ]
    },
    {
      "cell_type": "code",
      "execution_count": 17,
      "metadata": {
        "colab": {
          "base_uri": "https://localhost:8080/"
        },
        "id": "Wk-OjK0lHc0a",
        "outputId": "3c0343b6-489e-4626-bc96-088d2d559ca9"
      },
      "outputs": [
        {
          "name": "stdout",
          "output_type": "stream",
          "text": [
            "Epoch 1/100\n",
            "71/78 [==========================>...] - ETA: 0s - loss: 1.2730 - accuracy: 0.4124\n",
            "Epoch 1: val_accuracy improved from -inf to 0.48397, saving model to weights.best.hdf5\n",
            "78/78 [==============================] - 2s 9ms/step - loss: 1.2601 - accuracy: 0.4213 - val_loss: 1.1043 - val_accuracy: 0.4840\n",
            "Epoch 2/100\n",
            "69/78 [=========================>....] - ETA: 0s - loss: 0.9975 - accuracy: 0.5747\n",
            "Epoch 2: val_accuracy improved from 0.48397 to 0.62981, saving model to weights.best.hdf5\n",
            "78/78 [==============================] - 1s 6ms/step - loss: 0.9979 - accuracy: 0.5734 - val_loss: 0.9036 - val_accuracy: 0.6298\n",
            "Epoch 3/100\n",
            "71/78 [==========================>...] - ETA: 0s - loss: 0.8248 - accuracy: 0.6492\n",
            "Epoch 3: val_accuracy improved from 0.62981 to 0.64744, saving model to weights.best.hdf5\n",
            "78/78 [==============================] - 0s 6ms/step - loss: 0.8254 - accuracy: 0.6481 - val_loss: 0.8002 - val_accuracy: 0.6474\n",
            "Epoch 4/100\n",
            "78/78 [==============================] - ETA: 0s - loss: 0.7058 - accuracy: 0.7059\n",
            "Epoch 4: val_accuracy improved from 0.64744 to 0.73718, saving model to weights.best.hdf5\n",
            "78/78 [==============================] - 0s 6ms/step - loss: 0.7058 - accuracy: 0.7059 - val_loss: 0.6829 - val_accuracy: 0.7372\n",
            "Epoch 5/100\n",
            "73/78 [===========================>..] - ETA: 0s - loss: 0.6419 - accuracy: 0.7406\n",
            "Epoch 5: val_accuracy improved from 0.73718 to 0.74038, saving model to weights.best.hdf5\n",
            "78/78 [==============================] - 1s 7ms/step - loss: 0.6405 - accuracy: 0.7448 - val_loss: 0.6672 - val_accuracy: 0.7404\n",
            "Epoch 6/100\n",
            "69/78 [=========================>....] - ETA: 0s - loss: 0.5455 - accuracy: 0.7944\n",
            "Epoch 6: val_accuracy improved from 0.74038 to 0.77083, saving model to weights.best.hdf5\n",
            "78/78 [==============================] - 0s 6ms/step - loss: 0.5432 - accuracy: 0.7986 - val_loss: 0.6312 - val_accuracy: 0.7708\n",
            "Epoch 7/100\n",
            "66/78 [========================>.....] - ETA: 0s - loss: 0.4755 - accuracy: 0.8201\n",
            "Epoch 7: val_accuracy improved from 0.77083 to 0.77724, saving model to weights.best.hdf5\n",
            "78/78 [==============================] - 1s 7ms/step - loss: 0.4757 - accuracy: 0.8166 - val_loss: 0.5778 - val_accuracy: 0.7772\n",
            "Epoch 8/100\n",
            "75/78 [===========================>..] - ETA: 0s - loss: 0.4075 - accuracy: 0.8450\n",
            "Epoch 8: val_accuracy improved from 0.77724 to 0.81571, saving model to weights.best.hdf5\n",
            "78/78 [==============================] - 0s 6ms/step - loss: 0.4089 - accuracy: 0.8447 - val_loss: 0.5457 - val_accuracy: 0.8157\n",
            "Epoch 9/100\n",
            "68/78 [=========================>....] - ETA: 0s - loss: 0.3602 - accuracy: 0.8649\n",
            "Epoch 9: val_accuracy did not improve from 0.81571\n",
            "78/78 [==============================] - 1s 7ms/step - loss: 0.3655 - accuracy: 0.8604 - val_loss: 0.5638 - val_accuracy: 0.7997\n",
            "Epoch 10/100\n",
            "76/78 [============================>.] - ETA: 0s - loss: 0.3316 - accuracy: 0.8746\n",
            "Epoch 10: val_accuracy did not improve from 0.81571\n",
            "78/78 [==============================] - 1s 7ms/step - loss: 0.3330 - accuracy: 0.8736 - val_loss: 0.5466 - val_accuracy: 0.8157\n",
            "Epoch 11/100\n",
            "76/78 [============================>.] - ETA: 0s - loss: 0.3033 - accuracy: 0.8877\n",
            "Epoch 11: val_accuracy improved from 0.81571 to 0.83654, saving model to weights.best.hdf5\n",
            "78/78 [==============================] - 0s 6ms/step - loss: 0.3022 - accuracy: 0.8880 - val_loss: 0.5139 - val_accuracy: 0.8365\n",
            "Epoch 12/100\n",
            "73/78 [===========================>..] - ETA: 0s - loss: 0.2636 - accuracy: 0.9011\n",
            "Epoch 12: val_accuracy improved from 0.83654 to 0.83814, saving model to weights.best.hdf5\n",
            "78/78 [==============================] - 1s 6ms/step - loss: 0.2687 - accuracy: 0.8981 - val_loss: 0.5122 - val_accuracy: 0.8381\n",
            "Epoch 13/100\n",
            "76/78 [============================>.] - ETA: 0s - loss: 0.2473 - accuracy: 0.9128\n",
            "Epoch 13: val_accuracy did not improve from 0.83814\n",
            "78/78 [==============================] - 0s 6ms/step - loss: 0.2478 - accuracy: 0.9125 - val_loss: 0.5475 - val_accuracy: 0.8285\n",
            "Epoch 14/100\n",
            "73/78 [===========================>..] - ETA: 0s - loss: 0.2247 - accuracy: 0.9092\n",
            "Epoch 14: val_accuracy improved from 0.83814 to 0.86058, saving model to weights.best.hdf5\n",
            "78/78 [==============================] - 1s 7ms/step - loss: 0.2277 - accuracy: 0.9089 - val_loss: 0.4536 - val_accuracy: 0.8606\n",
            "Epoch 15/100\n",
            "66/78 [========================>.....] - ETA: 0s - loss: 0.2134 - accuracy: 0.9200\n",
            "Epoch 15: val_accuracy improved from 0.86058 to 0.87179, saving model to weights.best.hdf5\n",
            "78/78 [==============================] - 1s 7ms/step - loss: 0.2162 - accuracy: 0.9173 - val_loss: 0.4442 - val_accuracy: 0.8718\n",
            "Epoch 16/100\n",
            "70/78 [=========================>....] - ETA: 0s - loss: 0.1809 - accuracy: 0.9321\n",
            "Epoch 16: val_accuracy did not improve from 0.87179\n",
            "78/78 [==============================] - 0s 5ms/step - loss: 0.1880 - accuracy: 0.9282 - val_loss: 0.6743 - val_accuracy: 0.8125\n",
            "Epoch 17/100\n",
            "77/78 [============================>.] - ETA: 0s - loss: 0.1719 - accuracy: 0.9391\n",
            "Epoch 17: val_accuracy did not improve from 0.87179\n",
            "78/78 [==============================] - 0s 6ms/step - loss: 0.1707 - accuracy: 0.9398 - val_loss: 0.5141 - val_accuracy: 0.8606\n",
            "Epoch 18/100\n",
            "68/78 [=========================>....] - ETA: 0s - loss: 0.1766 - accuracy: 0.9357\n",
            "Epoch 18: val_accuracy did not improve from 0.87179\n",
            "78/78 [==============================] - 0s 6ms/step - loss: 0.1783 - accuracy: 0.9362 - val_loss: 0.4875 - val_accuracy: 0.8622\n",
            "Epoch 19/100\n",
            "78/78 [==============================] - ETA: 0s - loss: 0.1483 - accuracy: 0.9458\n",
            "Epoch 19: val_accuracy improved from 0.87179 to 0.87981, saving model to weights.best.hdf5\n",
            "78/78 [==============================] - 1s 9ms/step - loss: 0.1483 - accuracy: 0.9458 - val_loss: 0.4626 - val_accuracy: 0.8798\n",
            "Epoch 20/100\n",
            "76/78 [============================>.] - ETA: 0s - loss: 0.1308 - accuracy: 0.9597\n",
            "Epoch 20: val_accuracy did not improve from 0.87981\n",
            "78/78 [==============================] - 1s 7ms/step - loss: 0.1295 - accuracy: 0.9603 - val_loss: 0.5651 - val_accuracy: 0.8686\n",
            "Epoch 21/100\n",
            "74/78 [===========================>..] - ETA: 0s - loss: 0.1233 - accuracy: 0.9535\n",
            "Epoch 21: val_accuracy did not improve from 0.87981\n",
            "78/78 [==============================] - 0s 5ms/step - loss: 0.1217 - accuracy: 0.9547 - val_loss: 0.5135 - val_accuracy: 0.8782\n",
            "Epoch 22/100\n",
            "77/78 [============================>.] - ETA: 0s - loss: 0.1012 - accuracy: 0.9675\n",
            "Epoch 22: val_accuracy did not improve from 0.87981\n",
            "78/78 [==============================] - 0s 5ms/step - loss: 0.1014 - accuracy: 0.9679 - val_loss: 0.5565 - val_accuracy: 0.8686\n",
            "Epoch 23/100\n",
            "72/78 [==========================>...] - ETA: 0s - loss: 0.1276 - accuracy: 0.9527\n",
            "Epoch 23: val_accuracy did not improve from 0.87981\n",
            "78/78 [==============================] - 0s 6ms/step - loss: 0.1423 - accuracy: 0.9490 - val_loss: 0.6582 - val_accuracy: 0.8606\n",
            "Epoch 24/100\n",
            "76/78 [============================>.] - ETA: 0s - loss: 0.1439 - accuracy: 0.9457\n",
            "Epoch 24: val_accuracy improved from 0.87981 to 0.88141, saving model to weights.best.hdf5\n",
            "78/78 [==============================] - 0s 6ms/step - loss: 0.1418 - accuracy: 0.9470 - val_loss: 0.5105 - val_accuracy: 0.8814\n",
            "Epoch 25/100\n",
            "76/78 [============================>.] - ETA: 0s - loss: 0.0943 - accuracy: 0.9671\n",
            "Epoch 25: val_accuracy did not improve from 0.88141\n",
            "78/78 [==============================] - 1s 7ms/step - loss: 0.0991 - accuracy: 0.9663 - val_loss: 0.6508 - val_accuracy: 0.8574\n",
            "Epoch 26/100\n",
            "76/78 [============================>.] - ETA: 0s - loss: 0.1104 - accuracy: 0.9605\n",
            "Epoch 26: val_accuracy did not improve from 0.88141\n",
            "78/78 [==============================] - 1s 7ms/step - loss: 0.1123 - accuracy: 0.9599 - val_loss: 0.6044 - val_accuracy: 0.8478\n",
            "Epoch 27/100\n",
            "74/78 [===========================>..] - ETA: 0s - loss: 0.1103 - accuracy: 0.9616\n",
            "Epoch 27: val_accuracy did not improve from 0.88141\n",
            "78/78 [==============================] - 0s 5ms/step - loss: 0.1184 - accuracy: 0.9591 - val_loss: 0.6425 - val_accuracy: 0.8542\n",
            "Epoch 28/100\n",
            "66/78 [========================>.....] - ETA: 0s - loss: 0.1152 - accuracy: 0.9569\n",
            "Epoch 28: val_accuracy did not improve from 0.88141\n",
            "78/78 [==============================] - 0s 6ms/step - loss: 0.1224 - accuracy: 0.9555 - val_loss: 0.6170 - val_accuracy: 0.8670\n",
            "Epoch 29/100\n",
            "78/78 [==============================] - ETA: 0s - loss: 0.1089 - accuracy: 0.9635\n",
            "Epoch 29: val_accuracy improved from 0.88141 to 0.89583, saving model to weights.best.hdf5\n",
            "78/78 [==============================] - 0s 6ms/step - loss: 0.1089 - accuracy: 0.9635 - val_loss: 0.4759 - val_accuracy: 0.8958\n",
            "Epoch 30/100\n",
            "75/78 [===========================>..] - ETA: 0s - loss: 0.0740 - accuracy: 0.9758\n",
            "Epoch 30: val_accuracy did not improve from 0.89583\n",
            "78/78 [==============================] - 0s 6ms/step - loss: 0.0728 - accuracy: 0.9763 - val_loss: 0.5163 - val_accuracy: 0.8862\n",
            "Epoch 31/100\n",
            "75/78 [===========================>..] - ETA: 0s - loss: 0.0592 - accuracy: 0.9808\n",
            "Epoch 31: val_accuracy improved from 0.89583 to 0.90224, saving model to weights.best.hdf5\n",
            "78/78 [==============================] - 0s 5ms/step - loss: 0.0586 - accuracy: 0.9807 - val_loss: 0.4840 - val_accuracy: 0.9022\n",
            "Epoch 32/100\n",
            "70/78 [=========================>....] - ETA: 0s - loss: 0.0401 - accuracy: 0.9915\n",
            "Epoch 32: val_accuracy did not improve from 0.90224\n",
            "78/78 [==============================] - 0s 4ms/step - loss: 0.0383 - accuracy: 0.9920 - val_loss: 0.5217 - val_accuracy: 0.8958\n",
            "Epoch 33/100\n",
            "76/78 [============================>.] - ETA: 0s - loss: 0.0319 - accuracy: 0.9918\n",
            "Epoch 33: val_accuracy improved from 0.90224 to 0.90385, saving model to weights.best.hdf5\n",
            "78/78 [==============================] - 0s 4ms/step - loss: 0.0327 - accuracy: 0.9908 - val_loss: 0.4994 - val_accuracy: 0.9038\n",
            "Epoch 34/100\n",
            "68/78 [=========================>....] - ETA: 0s - loss: 0.0365 - accuracy: 0.9913\n",
            "Epoch 34: val_accuracy did not improve from 0.90385\n",
            "78/78 [==============================] - 0s 4ms/step - loss: 0.0393 - accuracy: 0.9908 - val_loss: 0.5781 - val_accuracy: 0.8766\n",
            "Epoch 35/100\n",
            "75/78 [===========================>..] - ETA: 0s - loss: 0.1059 - accuracy: 0.9671\n",
            "Epoch 35: val_accuracy did not improve from 0.90385\n",
            "78/78 [==============================] - 0s 4ms/step - loss: 0.1060 - accuracy: 0.9675 - val_loss: 0.6314 - val_accuracy: 0.8590\n",
            "Epoch 36/100\n",
            "66/78 [========================>.....] - ETA: 0s - loss: 0.1095 - accuracy: 0.9612\n",
            "Epoch 36: val_accuracy did not improve from 0.90385\n",
            "78/78 [==============================] - 0s 4ms/step - loss: 0.0997 - accuracy: 0.9647 - val_loss: 0.5574 - val_accuracy: 0.8862\n",
            "Epoch 37/100\n",
            "64/78 [=======================>......] - ETA: 0s - loss: 0.0418 - accuracy: 0.9878\n",
            "Epoch 37: val_accuracy did not improve from 0.90385\n",
            "78/78 [==============================] - 0s 4ms/step - loss: 0.0417 - accuracy: 0.9876 - val_loss: 0.5620 - val_accuracy: 0.8910\n",
            "Epoch 38/100\n",
            "70/78 [=========================>....] - ETA: 0s - loss: 0.0364 - accuracy: 0.9879\n",
            "Epoch 38: val_accuracy did not improve from 0.90385\n",
            "78/78 [==============================] - 0s 5ms/step - loss: 0.0468 - accuracy: 0.9848 - val_loss: 0.6905 - val_accuracy: 0.8766\n",
            "Epoch 39/100\n",
            "78/78 [==============================] - ETA: 0s - loss: 0.0605 - accuracy: 0.9803\n",
            "Epoch 39: val_accuracy did not improve from 0.90385\n",
            "78/78 [==============================] - 1s 7ms/step - loss: 0.0605 - accuracy: 0.9803 - val_loss: 0.6300 - val_accuracy: 0.8798\n",
            "Epoch 40/100\n",
            "68/78 [=========================>....] - ETA: 0s - loss: 0.0784 - accuracy: 0.9747\n",
            "Epoch 40: val_accuracy did not improve from 0.90385\n",
            "78/78 [==============================] - 1s 6ms/step - loss: 0.0829 - accuracy: 0.9711 - val_loss: 0.6294 - val_accuracy: 0.8846\n",
            "Epoch 41/100\n",
            "75/78 [===========================>..] - ETA: 0s - loss: 0.0757 - accuracy: 0.9771\n",
            "Epoch 41: val_accuracy did not improve from 0.90385\n",
            "78/78 [==============================] - 0s 5ms/step - loss: 0.0762 - accuracy: 0.9767 - val_loss: 0.7920 - val_accuracy: 0.8606\n",
            "Epoch 42/100\n",
            "65/78 [========================>.....] - ETA: 0s - loss: 0.1326 - accuracy: 0.9606\n",
            "Epoch 42: val_accuracy did not improve from 0.90385\n",
            "78/78 [==============================] - 0s 4ms/step - loss: 0.1264 - accuracy: 0.9603 - val_loss: 0.7033 - val_accuracy: 0.8686\n",
            "Epoch 43/100\n",
            "75/78 [===========================>..] - ETA: 0s - loss: 0.0634 - accuracy: 0.9779\n",
            "Epoch 43: val_accuracy did not improve from 0.90385\n",
            "78/78 [==============================] - 0s 6ms/step - loss: 0.0647 - accuracy: 0.9771 - val_loss: 0.5823 - val_accuracy: 0.8894\n",
            "Epoch 44/100\n",
            "68/78 [=========================>....] - ETA: 0s - loss: 0.0317 - accuracy: 0.9903\n",
            "Epoch 44: val_accuracy improved from 0.90385 to 0.90705, saving model to weights.best.hdf5\n",
            "78/78 [==============================] - 0s 5ms/step - loss: 0.0302 - accuracy: 0.9908 - val_loss: 0.5309 - val_accuracy: 0.9071\n",
            "Epoch 45/100\n",
            "74/78 [===========================>..] - ETA: 0s - loss: 0.0174 - accuracy: 0.9979\n",
            "Epoch 45: val_accuracy did not improve from 0.90705\n",
            "78/78 [==============================] - 0s 5ms/step - loss: 0.0171 - accuracy: 0.9980 - val_loss: 0.5595 - val_accuracy: 0.9022\n",
            "Epoch 46/100\n",
            "66/78 [========================>.....] - ETA: 0s - loss: 0.0164 - accuracy: 0.9967\n",
            "Epoch 46: val_accuracy did not improve from 0.90705\n",
            "78/78 [==============================] - 0s 4ms/step - loss: 0.0163 - accuracy: 0.9964 - val_loss: 0.5869 - val_accuracy: 0.9006\n",
            "Epoch 47/100\n",
            "63/78 [=======================>......] - ETA: 0s - loss: 0.0164 - accuracy: 0.9965\n",
            "Epoch 47: val_accuracy did not improve from 0.90705\n",
            "78/78 [==============================] - 0s 4ms/step - loss: 0.0151 - accuracy: 0.9972 - val_loss: 0.5988 - val_accuracy: 0.8974\n",
            "Epoch 48/100\n",
            "62/78 [======================>.......] - ETA: 0s - loss: 0.0089 - accuracy: 0.9990\n",
            "Epoch 48: val_accuracy did not improve from 0.90705\n",
            "78/78 [==============================] - 0s 4ms/step - loss: 0.0099 - accuracy: 0.9980 - val_loss: 0.5982 - val_accuracy: 0.8990\n",
            "Epoch 49/100\n",
            "65/78 [========================>.....] - ETA: 0s - loss: 0.0089 - accuracy: 0.9990\n",
            "Epoch 49: val_accuracy did not improve from 0.90705\n",
            "78/78 [==============================] - 0s 4ms/step - loss: 0.0110 - accuracy: 0.9980 - val_loss: 0.6137 - val_accuracy: 0.9006\n",
            "Epoch 50/100\n",
            "76/78 [============================>.] - ETA: 0s - loss: 0.0088 - accuracy: 0.9979\n",
            "Epoch 50: val_accuracy improved from 0.90705 to 0.90865, saving model to weights.best.hdf5\n",
            "78/78 [==============================] - 0s 5ms/step - loss: 0.0091 - accuracy: 0.9980 - val_loss: 0.6153 - val_accuracy: 0.9087\n",
            "Epoch 51/100\n",
            "68/78 [=========================>....] - ETA: 0s - loss: 0.0100 - accuracy: 0.9982\n",
            "Epoch 51: val_accuracy did not improve from 0.90865\n",
            "78/78 [==============================] - 0s 5ms/step - loss: 0.0104 - accuracy: 0.9984 - val_loss: 0.6218 - val_accuracy: 0.9054\n",
            "Epoch 52/100\n",
            "63/78 [=======================>......] - ETA: 0s - loss: 0.0104 - accuracy: 0.9965\n",
            "Epoch 52: val_accuracy did not improve from 0.90865\n",
            "78/78 [==============================] - 0s 3ms/step - loss: 0.0103 - accuracy: 0.9968 - val_loss: 0.6663 - val_accuracy: 0.9054\n",
            "Epoch 53/100\n",
            "63/78 [=======================>......] - ETA: 0s - loss: 0.0199 - accuracy: 0.9960\n",
            "Epoch 53: val_accuracy did not improve from 0.90865\n",
            "78/78 [==============================] - 0s 3ms/step - loss: 0.0213 - accuracy: 0.9964 - val_loss: 0.6311 - val_accuracy: 0.9087\n",
            "Epoch 54/100\n",
            "70/78 [=========================>....] - ETA: 0s - loss: 0.0174 - accuracy: 0.9942\n",
            "Epoch 54: val_accuracy did not improve from 0.90865\n",
            "78/78 [==============================] - 0s 4ms/step - loss: 0.0307 - accuracy: 0.9920 - val_loss: 0.6371 - val_accuracy: 0.8926\n",
            "Epoch 55/100\n",
            "78/78 [==============================] - ETA: 0s - loss: 0.1436 - accuracy: 0.9571\n",
            "Epoch 55: val_accuracy did not improve from 0.90865\n",
            "78/78 [==============================] - 0s 5ms/step - loss: 0.1436 - accuracy: 0.9571 - val_loss: 0.6947 - val_accuracy: 0.8830\n",
            "Epoch 56/100\n",
            "70/78 [=========================>....] - ETA: 0s - loss: 0.0963 - accuracy: 0.9692\n",
            "Epoch 56: val_accuracy did not improve from 0.90865\n",
            "78/78 [==============================] - 0s 4ms/step - loss: 0.0946 - accuracy: 0.9687 - val_loss: 0.6181 - val_accuracy: 0.8862\n",
            "Epoch 57/100\n",
            "77/78 [============================>.] - ETA: 0s - loss: 0.0573 - accuracy: 0.9834\n",
            "Epoch 57: val_accuracy did not improve from 0.90865\n",
            "78/78 [==============================] - 0s 4ms/step - loss: 0.0569 - accuracy: 0.9835 - val_loss: 0.6149 - val_accuracy: 0.8926\n",
            "Epoch 58/100\n",
            "76/78 [============================>.] - ETA: 0s - loss: 0.0393 - accuracy: 0.9844\n",
            "Epoch 58: val_accuracy did not improve from 0.90865\n",
            "78/78 [==============================] - 0s 4ms/step - loss: 0.0400 - accuracy: 0.9839 - val_loss: 0.6220 - val_accuracy: 0.8990\n",
            "Epoch 59/100\n",
            "66/78 [========================>.....] - ETA: 0s - loss: 0.0362 - accuracy: 0.9882\n",
            "Epoch 59: val_accuracy did not improve from 0.90865\n",
            "78/78 [==============================] - 0s 4ms/step - loss: 0.0361 - accuracy: 0.9884 - val_loss: 0.6919 - val_accuracy: 0.8926\n",
            "Epoch 60/100\n",
            "63/78 [=======================>......] - ETA: 0s - loss: 0.0553 - accuracy: 0.9821\n",
            "Epoch 60: val_accuracy did not improve from 0.90865\n",
            "78/78 [==============================] - 0s 4ms/step - loss: 0.0651 - accuracy: 0.9791 - val_loss: 0.6635 - val_accuracy: 0.8894\n",
            "Epoch 61/100\n",
            "71/78 [==========================>...] - ETA: 0s - loss: 0.0474 - accuracy: 0.9833\n",
            "Epoch 61: val_accuracy did not improve from 0.90865\n",
            "78/78 [==============================] - 0s 4ms/step - loss: 0.0466 - accuracy: 0.9835 - val_loss: 0.6328 - val_accuracy: 0.9022\n",
            "Epoch 62/100\n",
            "76/78 [============================>.] - ETA: 0s - loss: 0.0105 - accuracy: 0.9984\n",
            "Epoch 62: val_accuracy improved from 0.90865 to 0.91186, saving model to weights.best.hdf5\n",
            "78/78 [==============================] - 0s 3ms/step - loss: 0.0106 - accuracy: 0.9984 - val_loss: 0.5630 - val_accuracy: 0.9119\n",
            "Epoch 63/100\n",
            "72/78 [==========================>...] - ETA: 0s - loss: 0.0113 - accuracy: 0.9970\n",
            "Epoch 63: val_accuracy improved from 0.91186 to 0.91346, saving model to weights.best.hdf5\n",
            "78/78 [==============================] - 0s 3ms/step - loss: 0.0112 - accuracy: 0.9968 - val_loss: 0.5797 - val_accuracy: 0.9135\n",
            "Epoch 64/100\n",
            "74/78 [===========================>..] - ETA: 0s - loss: 0.0197 - accuracy: 0.9945\n",
            "Epoch 64: val_accuracy did not improve from 0.91346\n",
            "78/78 [==============================] - 0s 3ms/step - loss: 0.0200 - accuracy: 0.9944 - val_loss: 0.6528 - val_accuracy: 0.9022\n",
            "Epoch 65/100\n",
            "72/78 [==========================>...] - ETA: 0s - loss: 0.0213 - accuracy: 0.9935\n",
            "Epoch 65: val_accuracy did not improve from 0.91346\n",
            "78/78 [==============================] - 0s 3ms/step - loss: 0.0231 - accuracy: 0.9932 - val_loss: 0.6058 - val_accuracy: 0.9119\n",
            "Epoch 66/100\n",
            "72/78 [==========================>...] - ETA: 0s - loss: 0.0202 - accuracy: 0.9944\n",
            "Epoch 66: val_accuracy improved from 0.91346 to 0.91667, saving model to weights.best.hdf5\n",
            "78/78 [==============================] - 0s 3ms/step - loss: 0.0205 - accuracy: 0.9936 - val_loss: 0.6284 - val_accuracy: 0.9167\n",
            "Epoch 67/100\n",
            "75/78 [===========================>..] - ETA: 0s - loss: 0.0063 - accuracy: 1.0000\n",
            "Epoch 67: val_accuracy did not improve from 0.91667\n",
            "78/78 [==============================] - 0s 3ms/step - loss: 0.0064 - accuracy: 1.0000 - val_loss: 0.6522 - val_accuracy: 0.9103\n",
            "Epoch 68/100\n",
            "72/78 [==========================>...] - ETA: 0s - loss: 0.0184 - accuracy: 0.9952\n",
            "Epoch 68: val_accuracy did not improve from 0.91667\n",
            "78/78 [==============================] - 0s 3ms/step - loss: 0.0193 - accuracy: 0.9952 - val_loss: 0.7324 - val_accuracy: 0.9135\n",
            "Epoch 69/100\n",
            "71/78 [==========================>...] - ETA: 0s - loss: 0.0367 - accuracy: 0.9916\n",
            "Epoch 69: val_accuracy did not improve from 0.91667\n",
            "78/78 [==============================] - 0s 3ms/step - loss: 0.0434 - accuracy: 0.9904 - val_loss: 0.7453 - val_accuracy: 0.8974\n",
            "Epoch 70/100\n",
            "71/78 [==========================>...] - ETA: 0s - loss: 0.0546 - accuracy: 0.9824\n",
            "Epoch 70: val_accuracy did not improve from 0.91667\n",
            "78/78 [==============================] - 0s 3ms/step - loss: 0.0528 - accuracy: 0.9831 - val_loss: 0.6913 - val_accuracy: 0.8862\n",
            "Epoch 71/100\n",
            "74/78 [===========================>..] - ETA: 0s - loss: 0.0411 - accuracy: 0.9873\n",
            "Epoch 71: val_accuracy did not improve from 0.91667\n",
            "78/78 [==============================] - 0s 3ms/step - loss: 0.0401 - accuracy: 0.9880 - val_loss: 0.8560 - val_accuracy: 0.8670\n",
            "Epoch 72/100\n",
            "73/78 [===========================>..] - ETA: 0s - loss: 0.0448 - accuracy: 0.9884\n",
            "Epoch 72: val_accuracy did not improve from 0.91667\n",
            "78/78 [==============================] - 0s 3ms/step - loss: 0.0429 - accuracy: 0.9892 - val_loss: 0.6686 - val_accuracy: 0.9006\n",
            "Epoch 73/100\n",
            "71/78 [==========================>...] - ETA: 0s - loss: 0.0425 - accuracy: 0.9859\n",
            "Epoch 73: val_accuracy did not improve from 0.91667\n",
            "78/78 [==============================] - 0s 3ms/step - loss: 0.0411 - accuracy: 0.9864 - val_loss: 0.7711 - val_accuracy: 0.8830\n",
            "Epoch 74/100\n",
            "76/78 [============================>.] - ETA: 0s - loss: 0.0606 - accuracy: 0.9757\n",
            "Epoch 74: val_accuracy did not improve from 0.91667\n",
            "78/78 [==============================] - 0s 3ms/step - loss: 0.0605 - accuracy: 0.9759 - val_loss: 0.6457 - val_accuracy: 0.8990\n",
            "Epoch 75/100\n",
            "75/78 [===========================>..] - ETA: 0s - loss: 0.0239 - accuracy: 0.9925\n",
            "Epoch 75: val_accuracy did not improve from 0.91667\n",
            "78/78 [==============================] - 0s 3ms/step - loss: 0.0255 - accuracy: 0.9916 - val_loss: 0.6592 - val_accuracy: 0.9054\n",
            "Epoch 76/100\n",
            "68/78 [=========================>....] - ETA: 0s - loss: 0.0567 - accuracy: 0.9867\n",
            "Epoch 76: val_accuracy did not improve from 0.91667\n",
            "78/78 [==============================] - 0s 3ms/step - loss: 0.0514 - accuracy: 0.9884 - val_loss: 0.5889 - val_accuracy: 0.9022\n",
            "Epoch 77/100\n",
            "69/78 [=========================>....] - ETA: 0s - loss: 0.0161 - accuracy: 0.9955\n",
            "Epoch 77: val_accuracy did not improve from 0.91667\n",
            "78/78 [==============================] - 0s 3ms/step - loss: 0.0155 - accuracy: 0.9956 - val_loss: 0.6304 - val_accuracy: 0.9038\n",
            "Epoch 78/100\n",
            "74/78 [===========================>..] - ETA: 0s - loss: 0.0131 - accuracy: 0.9966\n",
            "Epoch 78: val_accuracy did not improve from 0.91667\n",
            "78/78 [==============================] - 0s 3ms/step - loss: 0.0127 - accuracy: 0.9968 - val_loss: 0.6485 - val_accuracy: 0.9087\n",
            "Epoch 79/100\n",
            "76/78 [============================>.] - ETA: 0s - loss: 0.0085 - accuracy: 0.9979\n",
            "Epoch 79: val_accuracy improved from 0.91667 to 0.91827, saving model to weights.best.hdf5\n",
            "78/78 [==============================] - 0s 3ms/step - loss: 0.0083 - accuracy: 0.9980 - val_loss: 0.5973 - val_accuracy: 0.9183\n",
            "Epoch 80/100\n",
            "70/78 [=========================>....] - ETA: 0s - loss: 0.0088 - accuracy: 0.9973\n",
            "Epoch 80: val_accuracy did not improve from 0.91827\n",
            "78/78 [==============================] - 0s 3ms/step - loss: 0.0082 - accuracy: 0.9976 - val_loss: 0.6324 - val_accuracy: 0.9151\n",
            "Epoch 81/100\n",
            "78/78 [==============================] - ETA: 0s - loss: 0.0019 - accuracy: 1.0000\n",
            "Epoch 81: val_accuracy improved from 0.91827 to 0.92147, saving model to weights.best.hdf5\n",
            "78/78 [==============================] - 0s 4ms/step - loss: 0.0019 - accuracy: 1.0000 - val_loss: 0.6056 - val_accuracy: 0.9215\n",
            "Epoch 82/100\n",
            "62/78 [======================>.......] - ETA: 0s - loss: 0.0012 - accuracy: 1.0000\n",
            "Epoch 82: val_accuracy did not improve from 0.92147\n",
            "78/78 [==============================] - 0s 3ms/step - loss: 0.0012 - accuracy: 1.0000 - val_loss: 0.6075 - val_accuracy: 0.9199\n",
            "Epoch 83/100\n",
            "63/78 [=======================>......] - ETA: 0s - loss: 9.1130e-04 - accuracy: 1.0000\n",
            "Epoch 83: val_accuracy did not improve from 0.92147\n",
            "78/78 [==============================] - 0s 3ms/step - loss: 9.7310e-04 - accuracy: 1.0000 - val_loss: 0.6198 - val_accuracy: 0.9215\n",
            "Epoch 84/100\n",
            "60/78 [======================>.......] - ETA: 0s - loss: 9.0302e-04 - accuracy: 1.0000\n",
            "Epoch 84: val_accuracy did not improve from 0.92147\n",
            "78/78 [==============================] - 0s 3ms/step - loss: 9.0969e-04 - accuracy: 1.0000 - val_loss: 0.6185 - val_accuracy: 0.9199\n",
            "Epoch 85/100\n",
            "62/78 [======================>.......] - ETA: 0s - loss: 0.0010 - accuracy: 1.0000\n",
            "Epoch 85: val_accuracy did not improve from 0.92147\n",
            "78/78 [==============================] - 0s 3ms/step - loss: 9.5189e-04 - accuracy: 1.0000 - val_loss: 0.6285 - val_accuracy: 0.9215\n",
            "Epoch 86/100\n",
            "66/78 [========================>.....] - ETA: 0s - loss: 7.3202e-04 - accuracy: 1.0000\n",
            "Epoch 86: val_accuracy did not improve from 0.92147\n",
            "78/78 [==============================] - 0s 3ms/step - loss: 7.1553e-04 - accuracy: 1.0000 - val_loss: 0.6331 - val_accuracy: 0.9215\n",
            "Epoch 87/100\n",
            "65/78 [========================>.....] - ETA: 0s - loss: 6.2174e-04 - accuracy: 1.0000\n",
            "Epoch 87: val_accuracy improved from 0.92147 to 0.92468, saving model to weights.best.hdf5\n",
            "78/78 [==============================] - 0s 4ms/step - loss: 6.5921e-04 - accuracy: 1.0000 - val_loss: 0.6340 - val_accuracy: 0.9247\n",
            "Epoch 88/100\n",
            "73/78 [===========================>..] - ETA: 0s - loss: 6.0267e-04 - accuracy: 1.0000\n",
            "Epoch 88: val_accuracy did not improve from 0.92468\n",
            "78/78 [==============================] - 0s 3ms/step - loss: 6.0875e-04 - accuracy: 1.0000 - val_loss: 0.6434 - val_accuracy: 0.9215\n",
            "Epoch 89/100\n",
            "74/78 [===========================>..] - ETA: 0s - loss: 5.7505e-04 - accuracy: 1.0000\n",
            "Epoch 89: val_accuracy did not improve from 0.92468\n",
            "78/78 [==============================] - 0s 3ms/step - loss: 5.6274e-04 - accuracy: 1.0000 - val_loss: 0.6450 - val_accuracy: 0.9247\n",
            "Epoch 90/100\n",
            "74/78 [===========================>..] - ETA: 0s - loss: 5.5209e-04 - accuracy: 1.0000\n",
            "Epoch 90: val_accuracy did not improve from 0.92468\n",
            "78/78 [==============================] - 0s 3ms/step - loss: 5.5238e-04 - accuracy: 1.0000 - val_loss: 0.6481 - val_accuracy: 0.9247\n",
            "Epoch 91/100\n",
            "75/78 [===========================>..] - ETA: 0s - loss: 4.7275e-04 - accuracy: 1.0000\n",
            "Epoch 91: val_accuracy did not improve from 0.92468\n",
            "78/78 [==============================] - 0s 3ms/step - loss: 4.7909e-04 - accuracy: 1.0000 - val_loss: 0.6531 - val_accuracy: 0.9247\n",
            "Epoch 92/100\n",
            "74/78 [===========================>..] - ETA: 0s - loss: 4.5137e-04 - accuracy: 1.0000\n",
            "Epoch 92: val_accuracy improved from 0.92468 to 0.92628, saving model to weights.best.hdf5\n",
            "78/78 [==============================] - 0s 3ms/step - loss: 5.0058e-04 - accuracy: 1.0000 - val_loss: 0.6584 - val_accuracy: 0.9263\n",
            "Epoch 93/100\n",
            "69/78 [=========================>....] - ETA: 0s - loss: 4.3379e-04 - accuracy: 1.0000\n",
            "Epoch 93: val_accuracy did not improve from 0.92628\n",
            "78/78 [==============================] - 0s 3ms/step - loss: 4.2448e-04 - accuracy: 1.0000 - val_loss: 0.6632 - val_accuracy: 0.9263\n",
            "Epoch 94/100\n",
            "74/78 [===========================>..] - ETA: 0s - loss: 4.0258e-04 - accuracy: 1.0000\n",
            "Epoch 94: val_accuracy did not improve from 0.92628\n",
            "78/78 [==============================] - 0s 3ms/step - loss: 3.9595e-04 - accuracy: 1.0000 - val_loss: 0.6650 - val_accuracy: 0.9247\n",
            "Epoch 95/100\n",
            "71/78 [==========================>...] - ETA: 0s - loss: 3.6608e-04 - accuracy: 1.0000\n",
            "Epoch 95: val_accuracy did not improve from 0.92628\n",
            "78/78 [==============================] - 0s 3ms/step - loss: 3.6964e-04 - accuracy: 1.0000 - val_loss: 0.6705 - val_accuracy: 0.9263\n",
            "Epoch 96/100\n",
            "71/78 [==========================>...] - ETA: 0s - loss: 3.6227e-04 - accuracy: 1.0000\n",
            "Epoch 96: val_accuracy did not improve from 0.92628\n",
            "78/78 [==============================] - 0s 3ms/step - loss: 3.5960e-04 - accuracy: 1.0000 - val_loss: 0.6741 - val_accuracy: 0.9247\n",
            "Epoch 97/100\n",
            "74/78 [===========================>..] - ETA: 0s - loss: 3.3698e-04 - accuracy: 1.0000\n",
            "Epoch 97: val_accuracy did not improve from 0.92628\n",
            "78/78 [==============================] - 0s 3ms/step - loss: 3.3711e-04 - accuracy: 1.0000 - val_loss: 0.6782 - val_accuracy: 0.9247\n",
            "Epoch 98/100\n",
            "69/78 [=========================>....] - ETA: 0s - loss: 3.2640e-04 - accuracy: 1.0000\n",
            "Epoch 98: val_accuracy did not improve from 0.92628\n",
            "78/78 [==============================] - 0s 3ms/step - loss: 3.2326e-04 - accuracy: 1.0000 - val_loss: 0.6812 - val_accuracy: 0.9215\n",
            "Epoch 99/100\n",
            "71/78 [==========================>...] - ETA: 0s - loss: 3.2065e-04 - accuracy: 1.0000\n",
            "Epoch 99: val_accuracy did not improve from 0.92628\n",
            "78/78 [==============================] - 0s 3ms/step - loss: 3.3311e-04 - accuracy: 1.0000 - val_loss: 0.6877 - val_accuracy: 0.9247\n",
            "Epoch 100/100\n",
            "74/78 [===========================>..] - ETA: 0s - loss: 3.0473e-04 - accuracy: 1.0000\n",
            "Epoch 100: val_accuracy did not improve from 0.92628\n",
            "78/78 [==============================] - 0s 3ms/step - loss: 3.0005e-04 - accuracy: 1.0000 - val_loss: 0.6914 - val_accuracy: 0.9247\n"
          ]
        }
      ],
      "source": [
        "# Fitting the ANN to the Training set\n",
        "history = classifier.fit(X_train, y_train, batch_size = 32, epochs = 100, validation_data=(X_test, y_test), callbacks=callbacks_list)"
      ]
    },
    {
      "cell_type": "code",
      "execution_count": 25,
      "metadata": {
        "colab": {
          "base_uri": "https://localhost:8080/",
          "height": 369
        },
        "id": "7GVMAacRKcK5",
        "outputId": "ca5a1c14-bbc3-4ffe-9ce7-79de03368395"
      },
      "outputs": [
        {
          "data": {
            "image/png": "[encoded data removed]",
            "text/plain": [
              "<Figure size 1080x360 with 2 Axes>"
            ]
          },
          "metadata": {
            "needs_background": "light"
          },
          "output_type": "display_data"
        }
      ],
      "source": [
        "# Plot training & validation accuracy and loss values in the same figure (1 row, 2 columns)\n",
        "fig, (ax1, ax2) = plt.subplots(1, 2, figsize=(15, 5))\n",
        "ax1.plot(history.history['accuracy'], label='Training accuracy')\n",
        "ax1.plot(history.history['val_accuracy'], label='Validation accuracy')\n",
        "ax1.set_title('Model accuracy')\n",
        "ax1.set_ylabel('Accuracy')\n",
        "ax1.set_xlabel('Epoch')\n",
        "ax1.legend(loc='upper left')\n",
        "ax2.plot(history.history['loss'], label='Training loss')\n",
        "ax2.plot(history.history['val_loss'], label='Validation loss')\n",
        "ax2.set_title('Model loss')\n",
        "ax2.set_ylabel('Loss')\n",
        "ax2.set_xlabel('Epoch')\n",
        "ax2.legend(loc='upper left')\n",
        "plt.tight_layout()\n",
        "plt.show()"
      ]
    },
    {
      "cell_type": "code",
      "execution_count": 19,
      "metadata": {
        "id": "M6RmG_ZJKAf-"
      },
      "outputs": [],
      "source": [
        "# Load the best model\n",
        "classifier.load_weights(filepath)"
      ]
    },
    {
      "cell_type": "markdown",
      "metadata": {
        "id": "5jepJZO4KB1i"
      },
      "source": [
        "## Evaluating the model"
      ]
    },
    {
      "cell_type": "code",
      "execution_count": 26,
      "metadata": {
        "colab": {
          "base_uri": "https://localhost:8080/"
        },
        "id": "fSSPaghpKD9l",
        "outputId": "c226094a-1ce3-464d-bb32-a7bb9cb48268"
      },
      "outputs": [
        {
          "name": "stdout",
          "output_type": "stream",
          "text": [
            "Test accuracy: 0.9262820482254028\n"
          ]
        }
      ],
      "source": [
        "# Print the accuracy\n",
        "score = classifier.evaluate(X_test, y_test, verbose=0)\n",
        "print('Test accuracy:', score[1])"
      ]
    },
    {
      "cell_type": "code",
      "execution_count": 27,
      "metadata": {
        "colab": {
          "base_uri": "https://localhost:8080/",
          "height": 638
        },
        "id": "sahtG4NdOx2K",
        "outputId": "4dc22246-0019-4fce-e343-821ba2fac3cf"
      },
      "outputs": [
        {
          "name": "stdout",
          "output_type": "stream",
          "text": [
            "20/20 [==============================] - 0s 1ms/step\n"
          ]
        },
        {
          "data": {
            "image/png": "[encoded data removed]",
            "text/plain": [
              "<Figure size 720x720 with 2 Axes>"
            ]
          },
          "metadata": {
            "needs_background": "light"
          },
          "output_type": "display_data"
        }
      ],
      "source": [
        "# Print the confusion matrix with labels names\n",
        "from sklearn.metrics import confusion_matrix\n",
        "import seaborn as sns\n",
        "import matplotlib.pyplot as plt\n",
        "\n",
        "y_pred = classifier.predict(X_test)\n",
        "y_pred = np.argmax(y_pred, axis=1)\n",
        "\n",
        "cm = confusion_matrix(y_test, y_pred)\n",
        "cm = pd.DataFrame(cm, index=le.classes_, columns=le.classes_)\n",
        "plt.figure(figsize=(10, 10))\n",
        "sns.heatmap(cm, annot=True, fmt=\"d\")\n",
        "plt.title(\"Confusion matrix\")\n",
        "plt.ylabel('True label')\n",
        "plt.xlabel('Predicted label')\n",
        "plt.show()"
      ]
    },
    {
      "cell_type": "markdown",
      "metadata": {
        "id": "YrbhZqRzL2Pk"
      },
      "source": [
        "## Interpreting the model"
      ]
    },
    {
      "cell_type": "code",
      "execution_count": 28,
      "metadata": {
        "colab": {
          "base_uri": "https://localhost:8080/",
          "height": 414
        },
        "id": "uPo8DgzuL6L1",
        "outputId": "54692ec2-5f98-4617-b4a1-06668cc66ada"
      },
      "outputs": [
        {
          "data": {
            "image/png": "[encoded data removed]",
            "text/plain": [
              "<Figure size 1080x360 with 1 Axes>"
            ]
          },
          "metadata": {
            "needs_background": "light"
          },
          "output_type": "display_data"
        }
      ],
      "source": [
        "# Understanding the most important features for the model\n",
        "from keras import backend as K\n",
        "import matplotlib.pyplot as plt\n",
        "\n",
        "# Get the weights of the first layer\n",
        "weights = classifier.layers[0].get_weights()[0]\n",
        "\n",
        "# Get the mean of the weights for each feature\n",
        "mean_weights = np.mean(weights, axis=1)\n",
        "\n",
        "# Plot very nicely the mean of the weights for each feature in a bar chart with the feature names\n",
        "plt.figure(figsize=(15, 5))\n",
        "plt.title('Mean of the weights for each feature in the first layer')\n",
        "plt.bar(df.columns[3:-1], mean_weights)\n",
        "plt.xticks(rotation=90)\n",
        "plt.show()"
      ]
    }
  ],
  "metadata": {
    "colab": {
      "machine_shape": "hm",
      "provenance": []
    },
    "kernelspec": {
      "display_name": "Python 3",
      "language": "python",
      "name": "python3"
    },
    "language_info": {
      "name": "python",
      "version": "3.10.10"
    },
    "vscode": {
      "interpreter": {
        "hash": "2c4942a159f4d5aef3ee417b2496c4987664cccd18376e4758d26fa90466618f"
      }
    }
  },
  "nbformat": 4,
  "nbformat_minor": 0
}
