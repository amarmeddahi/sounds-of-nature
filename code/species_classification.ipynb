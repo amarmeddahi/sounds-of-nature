{
  "cells": [
    {
      "cell_type": "markdown",
      "metadata": {
        "id": "rmhGo4h5I6y-"
      },
      "source": [
        "# Deep learning classification of over 60 bird species"
      ]
    },
    {
      "cell_type": "markdown",
      "metadata": {
        "id": "gVY5_cE6JBMt"
      },
      "source": [
        "## Importing Libraries"
      ]
    },
    {
      "cell_type": "code",
      "execution_count": 1,
      "metadata": {
        "id": "_diCPiyTJI1s"
      },
      "outputs": [],
      "source": [
        "import os\n",
        "import librosa\n",
        "import numpy as np\n",
        "import matplotlib.pyplot as plt\n",
        "import pandas as pd\n",
        "from PIL import Image\n",
        "from scipy import signal"
      ]
    },
    {
      "cell_type": "markdown",
      "metadata": {
        "id": "NG_nD4q2JKup"
      },
      "source": [
        "## Importing the dataset"
      ]
    },
    {
      "cell_type": "code",
      "execution_count": 2,
      "metadata": {
        "colab": {
          "base_uri": "https://localhost:8080/"
        },
        "id": "GMd0rvMQJRCN",
        "outputId": "75bf5209-1fa7-496c-e903-8c9a0ad44dd4"
      },
      "outputs": [
        {
          "name": "stdout",
          "output_type": "stream",
          "text": [
            "Cloning into 'projet-long'...\n",
            "remote: Enumerating objects: 11691, done.\u001b[K\n",
            "remote: Counting objects: 100% (31/31), done.\u001b[K\n",
            "remote: Compressing objects: 100% (14/14), done.\u001b[K\n",
            "remote: Total 11691 (delta 17), reused 31 (delta 17), pack-reused 11660\u001b[K\n",
            "Receiving objects: 100% (11691/11691), 83.70 MiB | 20.30 MiB/s, done.\n",
            "Resolving deltas: 100% (1433/1433), done.\n",
            "Updating files: 100% (11711/11711), done.\n"
          ]
        }
      ],
      "source": [
        "!git clone https://github.com/fabiopereira59/projet-long.git"
      ]
    },
    {
      "cell_type": "code",
      "execution_count": 3,
      "metadata": {
        "id": "qPzOF6QlMaxh"
      },
      "outputs": [],
      "source": [
        "train_path = './projet-long/train-spec/' # path to the training set\n",
        "train_labels_path = './projet-long/csv/train_spec_file_labels.csv' # path to the training set labels\n",
        "val_path = './projet-long/val-spec/' # path to the validation set\n",
        "val_labels_path = './projet-long/csv/val_spec_file_labels.csv' # path to the validation set labels\n",
        "test_path = './projet-long/test-spec/' # path to the test set\n",
        "test_labels_path = './projet-long/csv/test_spec_file_labels.csv' # path to the test set labels\n",
        "labels_matching_path = './projet-long/csv/label_numbers.csv' # path to the labels matching table"
      ]
    },
    {
      "cell_type": "markdown",
      "metadata": {
        "id": "WOH6ynBGKQHV"
      },
      "source": [
        "## Loading the data"
      ]
    },
    {
      "cell_type": "code",
      "execution_count": 4,
      "metadata": {
        "id": "5sHZCRsEPlM-"
      },
      "outputs": [],
      "source": [
        "train_labels_table = pd.read_csv(train_labels_path)\n",
        "val_labels_table = pd.read_csv(val_labels_path)\n",
        "test_labels_table = pd.read_csv(test_labels_path)\n",
        "labels_matching_table = pd.read_csv(labels_matching_path)"
      ]
    },
    {
      "cell_type": "code",
      "execution_count": 5,
      "metadata": {
        "id": "dTYXh2y7QxLW"
      },
      "outputs": [],
      "source": [
        "def load_images(images_path, labels_table, resize=False, size=(128, 128), grayscale=True):\n",
        "    \"\"\"\n",
        "    Load the images from the images_path directory and return them as a numpy array.\n",
        "    The labels are loaded from the labels_table dataframe.\n",
        "    \"\"\"\n",
        "    X = []\n",
        "    y = []\n",
        "    for filename in os.listdir(images_path):\n",
        "        if filename.endswith('.png'):\n",
        "            img = Image.open(images_path + filename).convert('RGB')\n",
        "            if grayscale:\n",
        "                img = img.convert('L')\n",
        "            if resize:\n",
        "                img = img.resize(size)\n",
        "            X.append(np.array(img))\n",
        "            y.append(labels_table.loc[labels_table['file_names'] == filename]['label'].values[0])\n",
        "    return np.array(X, dtype=np.float32), np.array(y)"
      ]
    },
    {
      "cell_type": "code",
      "execution_count": null,
      "metadata": {
        "colab": {
          "base_uri": "https://localhost:8080/",
          "height": 380
        },
        "id": "k6b9lRFsQ83j",
        "outputId": "38bd1a7b-821f-4576-8107-b0b0e66911ed"
      },
      "outputs": [],
      "source": [
        "# Loading the training data\n",
        "X_train, y_train = load_images(train_path, train_labels_table, resize=True, grayscale=False)\n",
        "# Loading the validation data\n",
        "X_val, y_val = load_images(val_path, val_labels_table, resize=True, grayscale=False)\n",
        "# Loading the test data\n",
        "X_test, y_test = load_images(test_path, test_labels_table, resize=True, grayscale=False)"
      ]
    },
    {
      "cell_type": "code",
      "execution_count": null,
      "metadata": {
        "id": "zTPMCYOoSvw1"
      },
      "outputs": [],
      "source": [
        "# Dipalying the shapes of the data\n",
        "print('X_train shape:', X_train.shape)\n",
        "print('y_train shape:', y_train.shape)\n",
        "print('X_val shape:', X_val.shape)\n",
        "print('y_val shape:', y_val.shape)\n",
        "print('X_test shape:', X_test.shape)\n",
        "print('y_test shape:', y_test.shape)"
      ]
    },
    {
      "cell_type": "code",
      "execution_count": null,
      "metadata": {
        "id": "ZHW6MFPtVfu_"
      },
      "outputs": [],
      "source": [
        "# Display random 9 images from the training set with their labels (using the labels matching table)\n",
        "fig, axs = plt.subplots(3, 3, figsize=(10, 10))\n",
        "for i in range(3):\n",
        "    for j in range(3):\n",
        "        index = np.random.randint(0, X_train.shape[0])\n",
        "        axs[i, j].imshow(X_train[index].astype(np.uint8))\n",
        "        axs[i, j].set_title(labels_matching_table.loc[labels_matching_table['label_num'] == y_train[index]]['label'].values[0])\n",
        "        axs[i, j].axis('off')\n",
        "plt.show()"
      ]
    },
    {
      "cell_type": "markdown",
      "metadata": {
        "id": "k3RDctVfS2Zs"
      },
      "source": [
        "## Data augmentation"
      ]
    },
    {
      "cell_type": "code",
      "execution_count": null,
      "metadata": {
        "id": "bERi6qO6WnR2"
      },
      "outputs": [],
      "source": [
        "# Random shift, noise and pitch shift\n",
        "def data_augmentation(X, y, shift=0.2, noise=0.35):\n",
        "    \"\"\"\n",
        "    Apply random shift, noise and pitch shift to the data.\n",
        "    \"\"\"\n",
        "    X_aug = []\n",
        "    y_aug = []\n",
        "    for i in range(X.shape[0]):\n",
        "        # Random shift\n",
        "        if np.random.random() < shift:\n",
        "            shift_range = int(X.shape[1] * 0.01)\n",
        "            shift = np.random.randint(-shift_range, shift_range)\n",
        "            X_aug.append(np.roll(X[i], shift, axis=1))\n",
        "            y_aug.append(y[i])\n",
        "        # Random noise\n",
        "        if np.random.random() < noise:\n",
        "            X_aug.append(X[i] + np.random.normal(0, 0.2, X[i].shape))\n",
        "            y_aug.append(y[i])\n",
        "    return np.array(X_aug), np.array(y_aug)"
      ]
    },
    {
      "cell_type": "code",
      "execution_count": null,
      "metadata": {
        "id": "wOOyAVvibhhc"
      },
      "outputs": [],
      "source": [
        "# Applying the data augmentation to the training data\n",
        "X_train_aug, y_train_aug = data_augmentation(X_train, y_train)"
      ]
    },
    {
      "cell_type": "code",
      "execution_count": null,
      "metadata": {
        "id": "z1D_HYX3bh5w"
      },
      "outputs": [],
      "source": [
        "# Display randomly 1 image and its augmented version (precised in the title)\n",
        "index = np.random.randint(0, X_train_aug.shape[0])\n",
        "plt.figure(figsize=(10, 5))\n",
        "plt.subplot(1, 2, 1)\n",
        "plt.imshow(X_train[index].astype(np.uint8), cmap='gray')\n",
        "plt.title('Original image')\n",
        "plt.axis('off')\n",
        "plt.subplot(1, 2, 2)\n",
        "plt.imshow(X_train_aug[index].astype(np.uint8), cmap='gray')\n",
        "plt.title('Augmented image')\n",
        "plt.axis('off')"
      ]
    },
    {
      "cell_type": "code",
      "execution_count": null,
      "metadata": {
        "id": "S3lY-qEJdoSx"
      },
      "outputs": [],
      "source": [
        "# Concatenating the original and augmented training data\n",
        "X_train = np.concatenate((X_train, X_train_aug), axis=0)\n",
        "y_train = np.concatenate((y_train, y_train_aug), axis=0)"
      ]
    },
    {
      "cell_type": "code",
      "execution_count": null,
      "metadata": {
        "id": "7xNho2Bz0XUq"
      },
      "outputs": [],
      "source": [
        "# Remove the augmented data\n",
        "del X_train_aug, y_train_aug"
      ]
    },
    {
      "cell_type": "markdown",
      "metadata": {
        "id": "6EcSMIi2gAmA"
      },
      "source": [
        "## Data preprocessing"
      ]
    },
    {
      "cell_type": "code",
      "execution_count": null,
      "metadata": {
        "id": "ojE3bYR802sB"
      },
      "outputs": [],
      "source": [
        "from tensorflow.keras.applications.mobilenet_v2 import preprocess_input\n",
        "X_train = preprocess_input(X_train)\n",
        "X_val = preprocess_input(X_val)\n",
        "X_test = preprocess_input(X_test)"
      ]
    },
    {
      "cell_type": "markdown",
      "metadata": {
        "id": "pmjTBwSNe0-D"
      },
      "source": [
        "## Building the model"
      ]
    },
    {
      "cell_type": "code",
      "execution_count": 16,
      "metadata": {
        "colab": {
          "base_uri": "https://localhost:8080/"
        },
        "id": "0UXjvdFNgZ1I",
        "outputId": "6213fa90-411f-4e0a-a8c8-470be8731bef"
      },
      "outputs": [
        {
          "name": "stdout",
          "output_type": "stream",
          "text": [
            "Model: \"sequential\"\n",
            "_________________________________________________________________\n",
            " Layer (type)                Output Shape              Param #   \n",
            "=================================================================\n",
            " mobilenetv2_1.00_128 (Funct  (None, 4, 4, 1280)       2257984   \n",
            " ional)                                                          \n",
            "                                                                 \n",
            " flatten (Flatten)           (None, 20480)             0         \n",
            "                                                                 \n",
            " dense (Dense)               (None, 512)               10486272  \n",
            "                                                                 \n",
            " dropout (Dropout)           (None, 512)               0         \n",
            "                                                                 \n",
            " dense_1 (Dense)             (None, 256)               131328    \n",
            "                                                                 \n",
            " dense_2 (Dense)             (None, 67)                17219     \n",
            "                                                                 \n",
            "=================================================================\n",
            "Total params: 12,892,803\n",
            "Trainable params: 12,858,691\n",
            "Non-trainable params: 34,112\n",
            "_________________________________________________________________\n"
          ]
        }
      ],
      "source": [
        "# Importing the libraries\n",
        "from tensorflow.keras.models import Sequential\n",
        "from tensorflow.keras.layers import Dense, Conv2D, MaxPooling2D, Flatten, Dropout, BatchNormalization\n",
        "from tensorflow.keras.optimizers import Adam\n",
        "\n",
        "# PARAMETERS\n",
        "num_classes = len(np.unique(y_train))\n",
        "input_shape = X_train.shape[1:]\n",
        "if len(input_shape) == 2:\n",
        "    input_shape = input_shape + (1,)\n",
        "    \n",
        "lr = 3e-4\n",
        "\n",
        "# Importing the mobilenet model\n",
        "from tensorflow.keras.applications import MobileNetV2\n",
        "from tensorflow.keras.applications.mobilenet_v2 import preprocess_input\n",
        "# Loading the model\n",
        "base_model = MobileNetV2(input_shape=input_shape, include_top=False, weights=None)\n",
        "\n",
        "# Defining the model\n",
        "model = Sequential()\n",
        "model.add(base_model)\n",
        "model.add(Flatten())\n",
        "model.add(Dense(512, activation='relu'))\n",
        "model.add(Dropout(0.5))\n",
        "model.add(Dense(256, activation='relu'))\n",
        "\n",
        "model.add(Dense(num_classes, activation='softmax'))\n",
        "\n",
        "# Displaying the model summary\n",
        "model.summary()\n",
        "\n",
        "# Compiling the model\n",
        "model.compile(loss='sparse_categorical_crossentropy', optimizer=Adam(learning_rate=lr), metrics=['accuracy'])"
      ]
    },
    {
      "cell_type": "markdown",
      "metadata": {
        "id": "Ive4nQAtkfha"
      },
      "source": [
        "## Training the model"
      ]
    },
    {
      "cell_type": "code",
      "execution_count": 18,
      "metadata": {
        "id": "rt-7aYifkhFn"
      },
      "outputs": [],
      "source": [
        "# Checkpoint Callback\n",
        "from keras.callbacks import ModelCheckpoint\n",
        "filepath=\"weights.best.hdf5\""
      ]
    },
    {
      "cell_type": "code",
      "execution_count": null,
      "metadata": {
        "id": "RlnJNuzSLS9D"
      },
      "outputs": [],
      "source": [
        "checkpoint = ModelCheckpoint(filepath, monitor='val_accuracy', verbose=1, save_best_only=True, mode='max')\n",
        "callbacks_list = [checkpoint]"
      ]
    },
    {
      "cell_type": "code",
      "execution_count": 17,
      "metadata": {
        "colab": {
          "base_uri": "https://localhost:8080/"
        },
        "id": "00xfZ2Xzkixt",
        "outputId": "2be27dd8-4f12-4460-89b8-152756c6d858"
      },
      "outputs": [
        {
          "name": "stdout",
          "output_type": "stream",
          "text": [
            "Epoch 1/100\n",
            "786/786 [==============================] - ETA: 0s - loss: 3.6746 - accuracy: 0.0958\n",
            "Epoch 1: val_accuracy improved from -inf to 0.02146, saving model to weights.best.hdf5\n",
            "786/786 [==============================] - 72s 41ms/step - loss: 3.6746 - accuracy: 0.0958 - val_loss: 4.2121 - val_accuracy: 0.0215\n",
            "Epoch 2/100\n",
            "786/786 [==============================] - ETA: 0s - loss: 3.2152 - accuracy: 0.1425\n",
            "Epoch 2: val_accuracy improved from 0.02146 to 0.02747, saving model to weights.best.hdf5\n",
            "786/786 [==============================] - 31s 39ms/step - loss: 3.2152 - accuracy: 0.1425 - val_loss: 4.2843 - val_accuracy: 0.0275\n",
            "Epoch 3/100\n",
            "786/786 [==============================] - ETA: 0s - loss: 3.0343 - accuracy: 0.1596\n",
            "Epoch 3: val_accuracy did not improve from 0.02747\n",
            "786/786 [==============================] - 29s 38ms/step - loss: 3.0343 - accuracy: 0.1596 - val_loss: 4.5208 - val_accuracy: 0.0180\n",
            "Epoch 4/100\n",
            "786/786 [==============================] - ETA: 0s - loss: 2.9067 - accuracy: 0.1962\n",
            "Epoch 4: val_accuracy improved from 0.02747 to 0.04292, saving model to weights.best.hdf5\n",
            "786/786 [==============================] - 31s 39ms/step - loss: 2.9067 - accuracy: 0.1962 - val_loss: 4.7800 - val_accuracy: 0.0429\n",
            "Epoch 5/100\n",
            "786/786 [==============================] - ETA: 0s - loss: 2.8249 - accuracy: 0.2105\n",
            "Epoch 5: val_accuracy did not improve from 0.04292\n",
            "786/786 [==============================] - 30s 39ms/step - loss: 2.8249 - accuracy: 0.2105 - val_loss: 4.6586 - val_accuracy: 0.0429\n",
            "Epoch 6/100\n",
            "786/786 [==============================] - ETA: 0s - loss: 2.7561 - accuracy: 0.2254\n",
            "Epoch 6: val_accuracy did not improve from 0.04292\n",
            "786/786 [==============================] - 30s 38ms/step - loss: 2.7561 - accuracy: 0.2254 - val_loss: 5.1340 - val_accuracy: 0.0429\n",
            "Epoch 7/100\n",
            "785/786 [============================>.] - ETA: 0s - loss: 2.7031 - accuracy: 0.2374\n",
            "Epoch 7: val_accuracy improved from 0.04292 to 0.04378, saving model to weights.best.hdf5\n",
            "786/786 [==============================] - 30s 38ms/step - loss: 2.7031 - accuracy: 0.2375 - val_loss: 4.9195 - val_accuracy: 0.0438\n",
            "Epoch 8/100\n",
            "785/786 [============================>.] - ETA: 0s - loss: 2.6230 - accuracy: 0.2580\n",
            "Epoch 8: val_accuracy improved from 0.04378 to 0.16052, saving model to weights.best.hdf5\n",
            "786/786 [==============================] - 31s 39ms/step - loss: 2.6230 - accuracy: 0.2580 - val_loss: 3.4115 - val_accuracy: 0.1605\n",
            "Epoch 9/100\n",
            "786/786 [==============================] - ETA: 0s - loss: 2.5476 - accuracy: 0.2791\n",
            "Epoch 9: val_accuracy improved from 0.16052 to 0.30300, saving model to weights.best.hdf5\n",
            "786/786 [==============================] - 31s 39ms/step - loss: 2.5476 - accuracy: 0.2791 - val_loss: 2.5557 - val_accuracy: 0.3030\n",
            "Epoch 10/100\n",
            "786/786 [==============================] - ETA: 0s - loss: 2.3937 - accuracy: 0.3130\n",
            "Epoch 10: val_accuracy improved from 0.30300 to 0.38369, saving model to weights.best.hdf5\n",
            "786/786 [==============================] - 31s 39ms/step - loss: 2.3937 - accuracy: 0.3130 - val_loss: 2.3224 - val_accuracy: 0.3837\n",
            "Epoch 11/100\n",
            "785/786 [============================>.] - ETA: 0s - loss: 2.2452 - accuracy: 0.3577\n",
            "Epoch 11: val_accuracy did not improve from 0.38369\n",
            "786/786 [==============================] - 29s 37ms/step - loss: 2.2449 - accuracy: 0.3577 - val_loss: 2.3468 - val_accuracy: 0.3631\n",
            "Epoch 12/100\n",
            "785/786 [============================>.] - ETA: 0s - loss: 2.1292 - accuracy: 0.3820\n",
            "Epoch 12: val_accuracy did not improve from 0.38369\n",
            "786/786 [==============================] - 31s 39ms/step - loss: 2.1290 - accuracy: 0.3821 - val_loss: 2.3498 - val_accuracy: 0.3536\n",
            "Epoch 13/100\n",
            "785/786 [============================>.] - ETA: 0s - loss: 2.0411 - accuracy: 0.4044\n",
            "Epoch 13: val_accuracy did not improve from 0.38369\n",
            "786/786 [==============================] - 30s 38ms/step - loss: 2.0415 - accuracy: 0.4043 - val_loss: 2.4455 - val_accuracy: 0.3828\n",
            "Epoch 14/100\n",
            "785/786 [============================>.] - ETA: 0s - loss: 1.9322 - accuracy: 0.4267\n",
            "Epoch 14: val_accuracy improved from 0.38369 to 0.40687, saving model to weights.best.hdf5\n",
            "786/786 [==============================] - 31s 40ms/step - loss: 1.9323 - accuracy: 0.4266 - val_loss: 2.2978 - val_accuracy: 0.4069\n",
            "Epoch 15/100\n",
            "785/786 [============================>.] - ETA: 0s - loss: 1.8202 - accuracy: 0.4512\n",
            "Epoch 15: val_accuracy did not improve from 0.40687\n",
            "786/786 [==============================] - 29s 37ms/step - loss: 1.8201 - accuracy: 0.4513 - val_loss: 2.5780 - val_accuracy: 0.3433\n",
            "Epoch 16/100\n",
            "786/786 [==============================] - ETA: 0s - loss: 1.7295 - accuracy: 0.4892\n",
            "Epoch 16: val_accuracy improved from 0.40687 to 0.41202, saving model to weights.best.hdf5\n",
            "786/786 [==============================] - 31s 39ms/step - loss: 1.7295 - accuracy: 0.4892 - val_loss: 2.1170 - val_accuracy: 0.4120\n",
            "Epoch 17/100\n",
            "785/786 [============================>.] - ETA: 0s - loss: 1.6491 - accuracy: 0.5021\n",
            "Epoch 17: val_accuracy did not improve from 0.41202\n",
            "786/786 [==============================] - 30s 38ms/step - loss: 1.6494 - accuracy: 0.5021 - val_loss: 2.2030 - val_accuracy: 0.3888\n",
            "Epoch 18/100\n",
            "785/786 [============================>.] - ETA: 0s - loss: 1.5412 - accuracy: 0.5298\n",
            "Epoch 18: val_accuracy improved from 0.41202 to 0.41803, saving model to weights.best.hdf5\n",
            "786/786 [==============================] - 30s 39ms/step - loss: 1.5414 - accuracy: 0.5298 - val_loss: 2.1788 - val_accuracy: 0.4180\n",
            "Epoch 19/100\n",
            "786/786 [==============================] - ETA: 0s - loss: 1.4741 - accuracy: 0.5461\n",
            "Epoch 19: val_accuracy improved from 0.41803 to 0.43348, saving model to weights.best.hdf5\n",
            "786/786 [==============================] - 31s 39ms/step - loss: 1.4741 - accuracy: 0.5461 - val_loss: 2.0614 - val_accuracy: 0.4335\n",
            "Epoch 20/100\n",
            "786/786 [==============================] - ETA: 0s - loss: 1.3996 - accuracy: 0.5682\n",
            "Epoch 20: val_accuracy improved from 0.43348 to 0.47124, saving model to weights.best.hdf5\n",
            "786/786 [==============================] - 31s 40ms/step - loss: 1.3996 - accuracy: 0.5682 - val_loss: 1.8677 - val_accuracy: 0.4712\n",
            "Epoch 21/100\n",
            "785/786 [============================>.] - ETA: 0s - loss: 1.3366 - accuracy: 0.5852\n",
            "Epoch 21: val_accuracy did not improve from 0.47124\n",
            "786/786 [==============================] - 30s 39ms/step - loss: 1.3365 - accuracy: 0.5852 - val_loss: 2.0246 - val_accuracy: 0.4635\n",
            "Epoch 22/100\n",
            "786/786 [==============================] - ETA: 0s - loss: 1.2966 - accuracy: 0.5980\n",
            "Epoch 22: val_accuracy improved from 0.47124 to 0.49957, saving model to weights.best.hdf5\n",
            "786/786 [==============================] - 32s 40ms/step - loss: 1.2966 - accuracy: 0.5980 - val_loss: 1.9809 - val_accuracy: 0.4996\n",
            "Epoch 23/100\n",
            "786/786 [==============================] - ETA: 0s - loss: 1.2289 - accuracy: 0.6199\n",
            "Epoch 23: val_accuracy did not improve from 0.49957\n",
            "786/786 [==============================] - 30s 39ms/step - loss: 1.2289 - accuracy: 0.6199 - val_loss: 1.8817 - val_accuracy: 0.4867\n",
            "Epoch 24/100\n",
            "786/786 [==============================] - ETA: 0s - loss: 1.1723 - accuracy: 0.6339\n",
            "Epoch 24: val_accuracy did not improve from 0.49957\n",
            "786/786 [==============================] - 30s 38ms/step - loss: 1.1723 - accuracy: 0.6339 - val_loss: 1.9191 - val_accuracy: 0.4953\n",
            "Epoch 25/100\n",
            "786/786 [==============================] - ETA: 0s - loss: 1.0963 - accuracy: 0.6541\n",
            "Epoch 25: val_accuracy improved from 0.49957 to 0.50215, saving model to weights.best.hdf5\n",
            "786/786 [==============================] - 30s 39ms/step - loss: 1.0963 - accuracy: 0.6541 - val_loss: 1.9966 - val_accuracy: 0.5021\n",
            "Epoch 26/100\n",
            "786/786 [==============================] - ETA: 0s - loss: 1.0809 - accuracy: 0.6582\n",
            "Epoch 26: val_accuracy did not improve from 0.50215\n",
            "786/786 [==============================] - 30s 38ms/step - loss: 1.0809 - accuracy: 0.6582 - val_loss: 2.0454 - val_accuracy: 0.4472\n",
            "Epoch 27/100\n",
            "785/786 [============================>.] - ETA: 0s - loss: 1.0305 - accuracy: 0.6773\n",
            "Epoch 27: val_accuracy did not improve from 0.50215\n",
            "786/786 [==============================] - 30s 38ms/step - loss: 1.0301 - accuracy: 0.6775 - val_loss: 2.1188 - val_accuracy: 0.4807\n",
            "Epoch 28/100\n",
            "786/786 [==============================] - ETA: 0s - loss: 0.9626 - accuracy: 0.6973\n",
            "Epoch 28: val_accuracy did not improve from 0.50215\n",
            "786/786 [==============================] - 29s 37ms/step - loss: 0.9626 - accuracy: 0.6973 - val_loss: 2.0742 - val_accuracy: 0.4944\n",
            "Epoch 29/100\n",
            "785/786 [============================>.] - ETA: 0s - loss: 0.9294 - accuracy: 0.7080\n",
            "Epoch 29: val_accuracy did not improve from 0.50215\n",
            "786/786 [==============================] - 30s 38ms/step - loss: 0.9293 - accuracy: 0.7080 - val_loss: 2.0023 - val_accuracy: 0.4755\n",
            "Epoch 30/100\n",
            "785/786 [============================>.] - ETA: 0s - loss: 0.8897 - accuracy: 0.7197\n",
            "Epoch 30: val_accuracy did not improve from 0.50215\n",
            "786/786 [==============================] - 29s 37ms/step - loss: 0.8899 - accuracy: 0.7197 - val_loss: 2.1195 - val_accuracy: 0.5004\n",
            "Epoch 31/100\n",
            "786/786 [==============================] - ETA: 0s - loss: 0.8403 - accuracy: 0.7344\n",
            "Epoch 31: val_accuracy improved from 0.50215 to 0.52532, saving model to weights.best.hdf5\n",
            "786/786 [==============================] - 32s 40ms/step - loss: 0.8403 - accuracy: 0.7344 - val_loss: 2.1254 - val_accuracy: 0.5253\n",
            "Epoch 32/100\n",
            "786/786 [==============================] - ETA: 0s - loss: 0.8330 - accuracy: 0.7386\n",
            "Epoch 32: val_accuracy did not improve from 0.52532\n",
            "786/786 [==============================] - 30s 38ms/step - loss: 0.8330 - accuracy: 0.7386 - val_loss: 1.9811 - val_accuracy: 0.5176\n",
            "Epoch 33/100\n",
            "786/786 [==============================] - ETA: 0s - loss: 0.7848 - accuracy: 0.7507\n",
            "Epoch 33: val_accuracy improved from 0.52532 to 0.54592, saving model to weights.best.hdf5\n",
            "786/786 [==============================] - 32s 40ms/step - loss: 0.7848 - accuracy: 0.7507 - val_loss: 1.9690 - val_accuracy: 0.5459\n",
            "Epoch 34/100\n",
            "786/786 [==============================] - ETA: 0s - loss: 0.7553 - accuracy: 0.7613\n",
            "Epoch 34: val_accuracy did not improve from 0.54592\n",
            "786/786 [==============================] - 30s 38ms/step - loss: 0.7553 - accuracy: 0.7613 - val_loss: 1.9990 - val_accuracy: 0.5159\n",
            "Epoch 35/100\n",
            "785/786 [============================>.] - ETA: 0s - loss: 0.7427 - accuracy: 0.7652\n",
            "Epoch 35: val_accuracy improved from 0.54592 to 0.54764, saving model to weights.best.hdf5\n",
            "786/786 [==============================] - 33s 42ms/step - loss: 0.7431 - accuracy: 0.7651 - val_loss: 1.9095 - val_accuracy: 0.5476\n",
            "Epoch 36/100\n",
            "785/786 [============================>.] - ETA: 0s - loss: 0.6945 - accuracy: 0.7747\n",
            "Epoch 36: val_accuracy did not improve from 0.54764\n",
            "786/786 [==============================] - 31s 39ms/step - loss: 0.6946 - accuracy: 0.7746 - val_loss: 2.1791 - val_accuracy: 0.4652\n",
            "Epoch 37/100\n",
            "786/786 [==============================] - ETA: 0s - loss: 0.6766 - accuracy: 0.7860\n",
            "Epoch 37: val_accuracy did not improve from 0.54764\n",
            "786/786 [==============================] - 30s 38ms/step - loss: 0.6766 - accuracy: 0.7860 - val_loss: 2.1850 - val_accuracy: 0.5253\n",
            "Epoch 38/100\n",
            "786/786 [==============================] - ETA: 0s - loss: 0.6561 - accuracy: 0.7913\n",
            "Epoch 38: val_accuracy did not improve from 0.54764\n",
            "786/786 [==============================] - 30s 38ms/step - loss: 0.6561 - accuracy: 0.7913 - val_loss: 2.3347 - val_accuracy: 0.5167\n",
            "Epoch 39/100\n",
            "786/786 [==============================] - ETA: 0s - loss: 0.6400 - accuracy: 0.7977\n",
            "Epoch 39: val_accuracy did not improve from 0.54764\n",
            "786/786 [==============================] - 30s 38ms/step - loss: 0.6400 - accuracy: 0.7977 - val_loss: 2.1364 - val_accuracy: 0.5313\n",
            "Epoch 40/100\n",
            "785/786 [============================>.] - ETA: 0s - loss: 0.5873 - accuracy: 0.8131\n",
            "Epoch 40: val_accuracy did not improve from 0.54764\n",
            "786/786 [==============================] - 30s 38ms/step - loss: 0.5872 - accuracy: 0.8131 - val_loss: 2.0074 - val_accuracy: 0.5433\n",
            "Epoch 41/100\n",
            "785/786 [============================>.] - ETA: 0s - loss: 0.5905 - accuracy: 0.8088\n",
            "Epoch 41: val_accuracy did not improve from 0.54764\n",
            "786/786 [==============================] - 32s 40ms/step - loss: 0.5906 - accuracy: 0.8088 - val_loss: 2.1503 - val_accuracy: 0.5391\n",
            "Epoch 42/100\n",
            "785/786 [============================>.] - ETA: 0s - loss: 0.5638 - accuracy: 0.8218\n",
            "Epoch 42: val_accuracy did not improve from 0.54764\n",
            "786/786 [==============================] - 32s 41ms/step - loss: 0.5636 - accuracy: 0.8219 - val_loss: 2.4876 - val_accuracy: 0.5253\n",
            "Epoch 43/100\n",
            "786/786 [==============================] - ETA: 0s - loss: 0.5373 - accuracy: 0.8256\n",
            "Epoch 43: val_accuracy improved from 0.54764 to 0.54850, saving model to weights.best.hdf5\n",
            "786/786 [==============================] - 31s 40ms/step - loss: 0.5373 - accuracy: 0.8256 - val_loss: 2.1152 - val_accuracy: 0.5485\n",
            "Epoch 44/100\n",
            "785/786 [============================>.] - ETA: 0s - loss: 0.5498 - accuracy: 0.8234\n",
            "Epoch 44: val_accuracy did not improve from 0.54850\n",
            "786/786 [==============================] - 31s 39ms/step - loss: 0.5504 - accuracy: 0.8233 - val_loss: 2.2139 - val_accuracy: 0.5262\n",
            "Epoch 45/100\n",
            "786/786 [==============================] - ETA: 0s - loss: 0.5156 - accuracy: 0.8346\n",
            "Epoch 45: val_accuracy did not improve from 0.54850\n",
            "786/786 [==============================] - 30s 39ms/step - loss: 0.5156 - accuracy: 0.8346 - val_loss: 2.2572 - val_accuracy: 0.5322\n",
            "Epoch 46/100\n",
            "786/786 [==============================] - ETA: 0s - loss: 0.4948 - accuracy: 0.8411\n",
            "Epoch 46: val_accuracy improved from 0.54850 to 0.55107, saving model to weights.best.hdf5\n",
            "786/786 [==============================] - 32s 41ms/step - loss: 0.4948 - accuracy: 0.8411 - val_loss: 2.3372 - val_accuracy: 0.5511\n",
            "Epoch 47/100\n",
            "786/786 [==============================] - ETA: 0s - loss: 0.4805 - accuracy: 0.8466\n",
            "Epoch 47: val_accuracy did not improve from 0.55107\n",
            "786/786 [==============================] - 42s 53ms/step - loss: 0.4805 - accuracy: 0.8466 - val_loss: 2.2941 - val_accuracy: 0.5373\n",
            "Epoch 48/100\n",
            "785/786 [============================>.] - ETA: 0s - loss: 0.4797 - accuracy: 0.8445\n",
            "Epoch 48: val_accuracy did not improve from 0.55107\n",
            "786/786 [==============================] - 35s 45ms/step - loss: 0.4797 - accuracy: 0.8446 - val_loss: 2.4909 - val_accuracy: 0.5236\n",
            "Epoch 49/100\n",
            "785/786 [============================>.] - ETA: 0s - loss: 0.4473 - accuracy: 0.8578\n",
            "Epoch 49: val_accuracy did not improve from 0.55107\n",
            "786/786 [==============================] - 31s 39ms/step - loss: 0.4471 - accuracy: 0.8579 - val_loss: 2.4050 - val_accuracy: 0.5485\n",
            "Epoch 50/100\n",
            "785/786 [============================>.] - ETA: 0s - loss: 0.4290 - accuracy: 0.8611\n",
            "Epoch 50: val_accuracy did not improve from 0.55107\n",
            "786/786 [==============================] - 30s 38ms/step - loss: 0.4295 - accuracy: 0.8609 - val_loss: 2.4789 - val_accuracy: 0.5270\n",
            "Epoch 51/100\n",
            "786/786 [==============================] - ETA: 0s - loss: 0.4683 - accuracy: 0.8497\n",
            "Epoch 51: val_accuracy did not improve from 0.55107\n",
            "786/786 [==============================] - 30s 38ms/step - loss: 0.4683 - accuracy: 0.8497 - val_loss: 2.3213 - val_accuracy: 0.5433\n",
            "Epoch 52/100\n",
            "785/786 [============================>.] - ETA: 0s - loss: 0.4260 - accuracy: 0.8652\n",
            "Epoch 52: val_accuracy improved from 0.55107 to 0.55193, saving model to weights.best.hdf5\n",
            "786/786 [==============================] - 31s 40ms/step - loss: 0.4260 - accuracy: 0.8653 - val_loss: 2.2249 - val_accuracy: 0.5519\n",
            "Epoch 53/100\n",
            "785/786 [============================>.] - ETA: 0s - loss: 0.4110 - accuracy: 0.8656\n",
            "Epoch 53: val_accuracy did not improve from 0.55193\n",
            "786/786 [==============================] - 30s 38ms/step - loss: 0.4110 - accuracy: 0.8656 - val_loss: 2.3929 - val_accuracy: 0.5373\n",
            "Epoch 54/100\n",
            "785/786 [============================>.] - ETA: 0s - loss: 0.3918 - accuracy: 0.8714\n",
            "Epoch 54: val_accuracy did not improve from 0.55193\n",
            "786/786 [==============================] - 30s 38ms/step - loss: 0.3921 - accuracy: 0.8713 - val_loss: 2.3007 - val_accuracy: 0.5485\n",
            "Epoch 55/100\n",
            "786/786 [==============================] - ETA: 0s - loss: 0.3873 - accuracy: 0.8773\n",
            "Epoch 55: val_accuracy did not improve from 0.55193\n",
            "786/786 [==============================] - 30s 38ms/step - loss: 0.3873 - accuracy: 0.8773 - val_loss: 2.6239 - val_accuracy: 0.5288\n",
            "Epoch 56/100\n",
            "786/786 [==============================] - ETA: 0s - loss: 0.4097 - accuracy: 0.8712\n",
            "Epoch 56: val_accuracy did not improve from 0.55193\n",
            "786/786 [==============================] - 30s 38ms/step - loss: 0.4097 - accuracy: 0.8712 - val_loss: 2.3267 - val_accuracy: 0.5468\n",
            "Epoch 57/100\n",
            "786/786 [==============================] - ETA: 0s - loss: 0.3717 - accuracy: 0.8772\n",
            "Epoch 57: val_accuracy did not improve from 0.55193\n",
            "786/786 [==============================] - 30s 39ms/step - loss: 0.3717 - accuracy: 0.8772 - val_loss: 2.4781 - val_accuracy: 0.5502\n",
            "Epoch 58/100\n",
            "786/786 [==============================] - ETA: 0s - loss: 0.3653 - accuracy: 0.8818\n",
            "Epoch 58: val_accuracy did not improve from 0.55193\n",
            "786/786 [==============================] - 30s 38ms/step - loss: 0.3653 - accuracy: 0.8818 - val_loss: 2.4094 - val_accuracy: 0.5459\n",
            "Epoch 59/100\n",
            "786/786 [==============================] - ETA: 0s - loss: 0.3624 - accuracy: 0.8833\n",
            "Epoch 59: val_accuracy did not improve from 0.55193\n",
            "786/786 [==============================] - 30s 38ms/step - loss: 0.3624 - accuracy: 0.8833 - val_loss: 2.4758 - val_accuracy: 0.5339\n",
            "Epoch 60/100\n",
            "785/786 [============================>.] - ETA: 0s - loss: 0.3511 - accuracy: 0.8856\n",
            "Epoch 60: val_accuracy improved from 0.55193 to 0.55279, saving model to weights.best.hdf5\n",
            "786/786 [==============================] - 31s 39ms/step - loss: 0.3515 - accuracy: 0.8855 - val_loss: 2.3872 - val_accuracy: 0.5528\n",
            "Epoch 61/100\n",
            "785/786 [============================>.] - ETA: 0s - loss: 0.3471 - accuracy: 0.8870\n",
            "Epoch 61: val_accuracy did not improve from 0.55279\n",
            "786/786 [==============================] - 30s 38ms/step - loss: 0.3470 - accuracy: 0.8871 - val_loss: 2.5490 - val_accuracy: 0.5442\n",
            "Epoch 62/100\n",
            "785/786 [============================>.] - ETA: 0s - loss: 0.3242 - accuracy: 0.8951\n",
            "Epoch 62: val_accuracy did not improve from 0.55279\n",
            "786/786 [==============================] - 30s 38ms/step - loss: 0.3241 - accuracy: 0.8951 - val_loss: 2.5663 - val_accuracy: 0.5528\n",
            "Epoch 63/100\n",
            "785/786 [============================>.] - ETA: 0s - loss: 0.3173 - accuracy: 0.8961\n",
            "Epoch 63: val_accuracy did not improve from 0.55279\n",
            "786/786 [==============================] - 30s 38ms/step - loss: 0.3173 - accuracy: 0.8961 - val_loss: 2.5543 - val_accuracy: 0.5305\n",
            "Epoch 64/100\n",
            "785/786 [============================>.] - ETA: 0s - loss: 0.3043 - accuracy: 0.9015\n",
            "Epoch 64: val_accuracy did not improve from 0.55279\n",
            "786/786 [==============================] - 31s 39ms/step - loss: 0.3042 - accuracy: 0.9016 - val_loss: 2.9965 - val_accuracy: 0.5296\n",
            "Epoch 65/100\n",
            "785/786 [============================>.] - ETA: 0s - loss: 0.3240 - accuracy: 0.8979\n",
            "Epoch 65: val_accuracy did not improve from 0.55279\n",
            "786/786 [==============================] - 29s 37ms/step - loss: 0.3240 - accuracy: 0.8978 - val_loss: 2.6382 - val_accuracy: 0.5330\n",
            "Epoch 66/100\n",
            "785/786 [============================>.] - ETA: 0s - loss: 0.3114 - accuracy: 0.8977\n",
            "Epoch 66: val_accuracy did not improve from 0.55279\n",
            "786/786 [==============================] - 30s 38ms/step - loss: 0.3114 - accuracy: 0.8977 - val_loss: 2.5104 - val_accuracy: 0.5476\n",
            "Epoch 67/100\n",
            "785/786 [============================>.] - ETA: 0s - loss: 0.2831 - accuracy: 0.9071\n",
            "Epoch 67: val_accuracy did not improve from 0.55279\n",
            "786/786 [==============================] - 30s 38ms/step - loss: 0.2834 - accuracy: 0.9070 - val_loss: 2.6705 - val_accuracy: 0.5476\n",
            "Epoch 68/100\n",
            "785/786 [============================>.] - ETA: 0s - loss: 0.2942 - accuracy: 0.9046\n",
            "Epoch 68: val_accuracy improved from 0.55279 to 0.55708, saving model to weights.best.hdf5\n",
            "786/786 [==============================] - 31s 40ms/step - loss: 0.2944 - accuracy: 0.9046 - val_loss: 2.5863 - val_accuracy: 0.5571\n",
            "Epoch 69/100\n",
            "785/786 [============================>.] - ETA: 0s - loss: 0.2891 - accuracy: 0.9047\n",
            "Epoch 69: val_accuracy did not improve from 0.55708\n",
            "786/786 [==============================] - 30s 38ms/step - loss: 0.2893 - accuracy: 0.9047 - val_loss: 2.5769 - val_accuracy: 0.5279\n",
            "Epoch 70/100\n",
            "785/786 [============================>.] - ETA: 0s - loss: 0.2692 - accuracy: 0.9126\n",
            "Epoch 70: val_accuracy improved from 0.55708 to 0.56910, saving model to weights.best.hdf5\n",
            "786/786 [==============================] - 31s 39ms/step - loss: 0.2691 - accuracy: 0.9126 - val_loss: 2.6314 - val_accuracy: 0.5691\n",
            "Epoch 71/100\n",
            "786/786 [==============================] - ETA: 0s - loss: 0.2675 - accuracy: 0.9136\n",
            "Epoch 71: val_accuracy did not improve from 0.56910\n",
            "786/786 [==============================] - 30s 38ms/step - loss: 0.2675 - accuracy: 0.9136 - val_loss: 2.8223 - val_accuracy: 0.5639\n",
            "Epoch 72/100\n",
            "785/786 [============================>.] - ETA: 0s - loss: 0.2515 - accuracy: 0.9187\n",
            "Epoch 72: val_accuracy did not improve from 0.56910\n",
            "786/786 [==============================] - 31s 39ms/step - loss: 0.2519 - accuracy: 0.9185 - val_loss: 2.9843 - val_accuracy: 0.5373\n",
            "Epoch 73/100\n",
            "786/786 [==============================] - ETA: 0s - loss: 0.2544 - accuracy: 0.9176\n",
            "Epoch 73: val_accuracy did not improve from 0.56910\n",
            "786/786 [==============================] - 30s 38ms/step - loss: 0.2544 - accuracy: 0.9176 - val_loss: 2.7042 - val_accuracy: 0.5622\n",
            "Epoch 74/100\n",
            "786/786 [==============================] - ETA: 0s - loss: 0.2746 - accuracy: 0.9111\n",
            "Epoch 74: val_accuracy did not improve from 0.56910\n",
            "786/786 [==============================] - 29s 37ms/step - loss: 0.2746 - accuracy: 0.9111 - val_loss: 2.5691 - val_accuracy: 0.5502\n",
            "Epoch 75/100\n",
            "786/786 [==============================] - ETA: 0s - loss: 0.2492 - accuracy: 0.9199\n",
            "Epoch 75: val_accuracy did not improve from 0.56910\n",
            "786/786 [==============================] - 30s 38ms/step - loss: 0.2492 - accuracy: 0.9199 - val_loss: 2.8982 - val_accuracy: 0.5382\n",
            "Epoch 76/100\n",
            "785/786 [============================>.] - ETA: 0s - loss: 0.2455 - accuracy: 0.9205\n",
            "Epoch 76: val_accuracy did not improve from 0.56910\n",
            "786/786 [==============================] - 29s 37ms/step - loss: 0.2458 - accuracy: 0.9205 - val_loss: 2.7156 - val_accuracy: 0.5313\n",
            "Epoch 77/100\n",
            "786/786 [==============================] - ETA: 0s - loss: 0.2474 - accuracy: 0.9197\n",
            "Epoch 77: val_accuracy did not improve from 0.56910\n",
            "786/786 [==============================] - 31s 39ms/step - loss: 0.2474 - accuracy: 0.9197 - val_loss: 2.8227 - val_accuracy: 0.5382\n",
            "Epoch 78/100\n",
            "786/786 [==============================] - ETA: 0s - loss: 0.2386 - accuracy: 0.9232\n",
            "Epoch 78: val_accuracy did not improve from 0.56910\n",
            "786/786 [==============================] - 29s 37ms/step - loss: 0.2386 - accuracy: 0.9232 - val_loss: 2.8337 - val_accuracy: 0.5399\n",
            "Epoch 79/100\n",
            "786/786 [==============================] - ETA: 0s - loss: 0.2251 - accuracy: 0.9254\n",
            "Epoch 79: val_accuracy did not improve from 0.56910\n",
            "786/786 [==============================] - 31s 39ms/step - loss: 0.2251 - accuracy: 0.9254 - val_loss: 2.7118 - val_accuracy: 0.5433\n",
            "Epoch 80/100\n",
            "785/786 [============================>.] - ETA: 0s - loss: 0.2149 - accuracy: 0.9299\n",
            "Epoch 80: val_accuracy did not improve from 0.56910\n",
            "786/786 [==============================] - 29s 37ms/step - loss: 0.2148 - accuracy: 0.9300 - val_loss: 2.9590 - val_accuracy: 0.5459\n",
            "Epoch 81/100\n",
            "786/786 [==============================] - ETA: 0s - loss: 0.2261 - accuracy: 0.9267\n",
            "Epoch 81: val_accuracy did not improve from 0.56910\n",
            "786/786 [==============================] - 30s 38ms/step - loss: 0.2261 - accuracy: 0.9267 - val_loss: 3.1021 - val_accuracy: 0.5399\n",
            "Epoch 82/100\n",
            "785/786 [============================>.] - ETA: 0s - loss: 0.2122 - accuracy: 0.9314\n",
            "Epoch 82: val_accuracy did not improve from 0.56910\n",
            "786/786 [==============================] - 30s 38ms/step - loss: 0.2126 - accuracy: 0.9313 - val_loss: 2.9047 - val_accuracy: 0.5545\n",
            "Epoch 83/100\n",
            "786/786 [==============================] - ETA: 0s - loss: 0.2210 - accuracy: 0.9305\n",
            "Epoch 83: val_accuracy did not improve from 0.56910\n",
            "786/786 [==============================] - 29s 37ms/step - loss: 0.2210 - accuracy: 0.9305 - val_loss: 2.5948 - val_accuracy: 0.5502\n",
            "Epoch 84/100\n",
            "785/786 [============================>.] - ETA: 0s - loss: 0.2000 - accuracy: 0.9351\n",
            "Epoch 84: val_accuracy did not improve from 0.56910\n",
            "786/786 [==============================] - 30s 38ms/step - loss: 0.2003 - accuracy: 0.9350 - val_loss: 3.1088 - val_accuracy: 0.5227\n",
            "Epoch 85/100\n",
            "785/786 [============================>.] - ETA: 0s - loss: 0.2112 - accuracy: 0.9316\n",
            "Epoch 85: val_accuracy did not improve from 0.56910\n",
            "786/786 [==============================] - 29s 37ms/step - loss: 0.2111 - accuracy: 0.9316 - val_loss: 2.9072 - val_accuracy: 0.5330\n",
            "Epoch 86/100\n",
            "785/786 [============================>.] - ETA: 0s - loss: 0.1915 - accuracy: 0.9392\n",
            "Epoch 86: val_accuracy did not improve from 0.56910\n",
            "786/786 [==============================] - 30s 38ms/step - loss: 0.1914 - accuracy: 0.9392 - val_loss: 2.8514 - val_accuracy: 0.5433\n",
            "Epoch 87/100\n",
            "786/786 [==============================] - ETA: 0s - loss: 0.2059 - accuracy: 0.9360\n",
            "Epoch 87: val_accuracy did not improve from 0.56910\n",
            "786/786 [==============================] - 31s 39ms/step - loss: 0.2059 - accuracy: 0.9360 - val_loss: 2.9799 - val_accuracy: 0.5485\n",
            "Epoch 88/100\n",
            "786/786 [==============================] - ETA: 0s - loss: 0.2118 - accuracy: 0.9332\n",
            "Epoch 88: val_accuracy did not improve from 0.56910\n",
            "786/786 [==============================] - 30s 38ms/step - loss: 0.2118 - accuracy: 0.9332 - val_loss: 2.9393 - val_accuracy: 0.5391\n",
            "Epoch 89/100\n",
            "785/786 [============================>.] - ETA: 0s - loss: 0.2033 - accuracy: 0.9346\n",
            "Epoch 89: val_accuracy did not improve from 0.56910\n",
            "786/786 [==============================] - 30s 38ms/step - loss: 0.2034 - accuracy: 0.9345 - val_loss: 2.7766 - val_accuracy: 0.5528\n",
            "Epoch 90/100\n",
            "786/786 [==============================] - ETA: 0s - loss: 0.1816 - accuracy: 0.9429\n",
            "Epoch 90: val_accuracy did not improve from 0.56910\n",
            "786/786 [==============================] - 30s 38ms/step - loss: 0.1816 - accuracy: 0.9429 - val_loss: 2.8023 - val_accuracy: 0.5545\n",
            "Epoch 91/100\n",
            "786/786 [==============================] - ETA: 0s - loss: 0.1858 - accuracy: 0.9408\n",
            "Epoch 91: val_accuracy did not improve from 0.56910\n",
            "786/786 [==============================] - 30s 38ms/step - loss: 0.1858 - accuracy: 0.9408 - val_loss: 3.2182 - val_accuracy: 0.5373\n",
            "Epoch 92/100\n",
            "786/786 [==============================] - ETA: 0s - loss: 0.1824 - accuracy: 0.9419\n",
            "Epoch 92: val_accuracy did not improve from 0.56910\n",
            "786/786 [==============================] - 29s 37ms/step - loss: 0.1824 - accuracy: 0.9419 - val_loss: 2.9302 - val_accuracy: 0.5322\n",
            "Epoch 93/100\n",
            "786/786 [==============================] - ETA: 0s - loss: 0.1842 - accuracy: 0.9429\n",
            "Epoch 93: val_accuracy improved from 0.56910 to 0.57082, saving model to weights.best.hdf5\n",
            "786/786 [==============================] - 32s 41ms/step - loss: 0.1842 - accuracy: 0.9429 - val_loss: 2.7855 - val_accuracy: 0.5708\n",
            "Epoch 94/100\n",
            "786/786 [==============================] - ETA: 0s - loss: 0.1738 - accuracy: 0.9439\n",
            "Epoch 94: val_accuracy did not improve from 0.57082\n",
            "786/786 [==============================] - 31s 40ms/step - loss: 0.1738 - accuracy: 0.9439 - val_loss: 2.8451 - val_accuracy: 0.5511\n",
            "Epoch 95/100\n",
            "786/786 [==============================] - ETA: 0s - loss: 0.1831 - accuracy: 0.9412\n",
            "Epoch 95: val_accuracy did not improve from 0.57082\n",
            "786/786 [==============================] - 30s 38ms/step - loss: 0.1831 - accuracy: 0.9412 - val_loss: 2.8358 - val_accuracy: 0.5511\n",
            "Epoch 96/100\n",
            "785/786 [============================>.] - ETA: 0s - loss: 0.1864 - accuracy: 0.9424\n",
            "Epoch 96: val_accuracy did not improve from 0.57082\n",
            "786/786 [==============================] - 30s 38ms/step - loss: 0.1875 - accuracy: 0.9423 - val_loss: 2.9022 - val_accuracy: 0.5562\n",
            "Epoch 97/100\n",
            "785/786 [============================>.] - ETA: 0s - loss: 0.1716 - accuracy: 0.9456\n",
            "Epoch 97: val_accuracy did not improve from 0.57082\n",
            "786/786 [==============================] - 30s 38ms/step - loss: 0.1716 - accuracy: 0.9456 - val_loss: 2.8884 - val_accuracy: 0.5639\n",
            "Epoch 98/100\n",
            "785/786 [============================>.] - ETA: 0s - loss: 0.1598 - accuracy: 0.9479\n",
            "Epoch 98: val_accuracy did not improve from 0.57082\n",
            "786/786 [==============================] - 29s 37ms/step - loss: 0.1598 - accuracy: 0.9479 - val_loss: 3.0018 - val_accuracy: 0.5305\n",
            "Epoch 99/100\n",
            "786/786 [==============================] - ETA: 0s - loss: 0.1682 - accuracy: 0.9491\n",
            "Epoch 99: val_accuracy did not improve from 0.57082\n",
            "786/786 [==============================] - 30s 38ms/step - loss: 0.1682 - accuracy: 0.9491 - val_loss: 2.9560 - val_accuracy: 0.5485\n",
            "Epoch 100/100\n",
            "786/786 [==============================] - ETA: 0s - loss: 0.1618 - accuracy: 0.9498\n",
            "Epoch 100: val_accuracy did not improve from 0.57082\n",
            "786/786 [==============================] - 30s 39ms/step - loss: 0.1618 - accuracy: 0.9498 - val_loss: 2.9626 - val_accuracy: 0.5451\n"
          ]
        }
      ],
      "source": [
        "# Fitting the ANN to the Training set\n",
        "history = model.fit(X_train, y_train, batch_size = 16, epochs = 30, validation_data=(X_val, y_val), callbacks=callbacks_list)"
      ]
    },
    {
      "cell_type": "code",
      "execution_count": 18,
      "metadata": {
        "colab": {
          "base_uri": "https://localhost:8080/",
          "height": 369
        },
        "id": "P7hxuVOOEDyB",
        "outputId": "79b5ad61-a8ad-4920-864b-1f4e100e2f46"
      },
      "outputs": [
        {
          "data": {
            "image/png": "[encoded data removed]",
            "text/plain": [
              "<Figure size 1080x360 with 2 Axes>"
            ]
          },
          "metadata": {
            "needs_background": "light"
          },
          "output_type": "display_data"
        }
      ],
      "source": [
        "# Plot training & validation accuracy and loss values in the same figure (1 row, 2 columns)\n",
        "fig, (ax1, ax2) = plt.subplots(1, 2, figsize=(15, 5))\n",
        "ax1.plot(history.history['accuracy'], label='Training accuracy')\n",
        "ax1.plot(history.history['val_accuracy'], label='Validation accuracy')\n",
        "ax1.set_title('Model accuracy')\n",
        "ax1.set_ylabel('Accuracy')\n",
        "ax1.set_xlabel('Epoch')\n",
        "ax1.legend(loc='upper left')\n",
        "ax2.plot(history.history['loss'], label='Training loss')\n",
        "ax2.plot(history.history['val_loss'], label='Validation loss')\n",
        "ax2.set_title('Model loss')\n",
        "ax2.set_ylabel('Loss')\n",
        "ax2.set_xlabel('Epoch')\n",
        "ax2.legend(loc='upper left')\n",
        "plt.tight_layout()\n",
        "plt.show()"
      ]
    },
    {
      "cell_type": "code",
      "execution_count": 19,
      "metadata": {
        "id": "s7cH7pfKEH75"
      },
      "outputs": [],
      "source": [
        "# Load the best model\n",
        "model.load_weights(filepath)"
      ]
    },
    {
      "attachments": {},
      "cell_type": "markdown",
      "metadata": {
        "id": "_8I6OYMCEJGr"
      },
      "source": [
        "## Evaluating the model"
      ]
    },
    {
      "cell_type": "code",
      "execution_count": 20,
      "metadata": {
        "colab": {
          "base_uri": "https://localhost:8080/"
        },
        "id": "UaYdiJ00ELyF",
        "outputId": "e1088ff9-9d3f-4e26-d4bf-3cbff8fb1c42"
      },
      "outputs": [
        {
          "name": "stdout",
          "output_type": "stream",
          "text": [
            "Test accuracy: 0.5356222987174988\n"
          ]
        }
      ],
      "source": [
        "# Print the accuracy\n",
        "score = model.evaluate(X_test, y_test, verbose=0)\n",
        "print('Test accuracy:', score[1])"
      ]
    },
    {
      "cell_type": "code",
      "execution_count": 22,
      "metadata": {
        "colab": {
          "base_uri": "https://localhost:8080/"
        },
        "id": "YS2mT5YeLnDQ",
        "outputId": "bb294d6a-48d1-43c7-e16a-ee880d35e643"
      },
      "outputs": [
        {
          "name": "stdout",
          "output_type": "stream",
          "text": [
            "37/37 [==============================] - 1s 29ms/step\n"
          ]
        }
      ],
      "source": [
        "# Compute the accuacies for each class\n",
        "y_pred = model.predict(X_test)\n",
        "y_pred = np.argmax(y_pred, axis=1)\n",
        "class_accuracy = []\n",
        "for i in range(num_classes):\n",
        "    class_accuracy.append(np.sum(y_pred[y_test == i] == i) / np.sum(y_test == i))\n",
        "class_accuracy = np.array(class_accuracy)"
      ]
    },
    {
      "cell_type": "code",
      "execution_count": 27,
      "metadata": {
        "colab": {
          "base_uri": "https://localhost:8080/",
          "height": 478
        },
        "id": "bWPhu0mbKPBv",
        "outputId": "f2847c7a-cc33-4762-de1c-977e33716491"
      },
      "outputs": [
        {
          "data": {
            "image/png": "[encoded data removed]",
            "text/plain": [
              "<Figure size 1440x360 with 1 Axes>"
            ]
          },
          "metadata": {
            "needs_background": "light"
          },
          "output_type": "display_data"
        }
      ],
      "source": [
        "# Plot the accuracy for each class as a bar plot\n",
        "# Plot the class names as a legend\n",
        "plt.figure(figsize=(20, 5))\n",
        "plt.bar(np.arange(num_classes), class_accuracy)\n",
        "plt.xticks(np.arange(num_classes), labels_matching_table['label'].values, rotation=90)\n",
        "plt.title('Accuracy for each class')\n",
        "plt.show()\n"
      ]
    }
  ],
  "metadata": {
    "accelerator": "GPU",
    "colab": {
      "provenance": []
    },
    "gpuClass": "standard",
    "kernelspec": {
      "display_name": "Python 3",
      "name": "python3"
    },
    "language_info": {
      "name": "python"
    }
  },
  "nbformat": 4,
  "nbformat_minor": 0
}
