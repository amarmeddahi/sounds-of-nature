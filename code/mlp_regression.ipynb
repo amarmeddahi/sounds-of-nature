{
  "nbformat": 4,
  "nbformat_minor": 0,
  "metadata": {
    "colab": {
      "provenance": [],
      "machine_shape": "hm"
    },
    "kernelspec": {
      "name": "python3",
      "display_name": "Python 3"
    }
  },
  "cells": [
    {
      "cell_type": "markdown",
      "metadata": {
        "id": "0MRC0e0KhQ0S"
      },
      "source": [
        "# Deep Learning regression of biodiversity data"
      ]
    },
    {
      "cell_type": "markdown",
      "metadata": {
        "id": "LWd1UlMnhT2s"
      },
      "source": [
        "## Importing the libraries"
      ]
    },
    {
      "cell_type": "code",
      "metadata": {
        "id": "YvGPUQaHhXfL"
      },
      "source": [
        "import numpy as np\n",
        "import matplotlib.pyplot as plt\n",
        "import pandas as pd"
      ],
      "execution_count": null,
      "outputs": []
    },
    {
      "cell_type": "markdown",
      "metadata": {
        "id": "K1VMqkGvhc3-"
      },
      "source": [
        "## Importing the dataset"
      ]
    },
    {
      "cell_type": "code",
      "source": [
        "!git clone https://github.com/amarmeddahi/sounds-of-nature.git"
      ],
      "metadata": {
        "colab": {
          "base_uri": "https://localhost:8080/"
        },
        "id": "VFqwgZPpae5m",
        "outputId": "d6a1b4ca-0147-4574-b873-e2c976a8fa41"
      },
      "execution_count": null,
      "outputs": [
        {
          "output_type": "stream",
          "name": "stdout",
          "text": [
            "Cloning into 'sounds-of-nature'...\n",
            "remote: Enumerating objects: 131, done.\u001b[K\n",
            "remote: Counting objects: 100% (131/131), done.\u001b[K\n",
            "remote: Compressing objects: 100% (109/109), done.\u001b[K\n",
            "remote: Total 131 (delta 45), reused 83 (delta 17), pack-reused 0\u001b[K\n",
            "Receiving objects: 100% (131/131), 33.27 MiB | 15.62 MiB/s, done.\n",
            "Resolving deltas: 100% (45/45), done.\n"
          ]
        }
      ]
    },
    {
      "cell_type": "code",
      "metadata": {
        "id": "M52QDmyzhh9s"
      },
      "source": [
        "path_data = \"./sounds-of-nature/data/latent_space_mel256_512.csv\""
      ],
      "execution_count": null,
      "outputs": []
    },
    {
      "cell_type": "code",
      "source": [
        "data = pd.read_csv(path_data)\n",
        "joint_table = pd.read_csv(\"./sounds-of-nature/data/reg-ind_joint_table.csv\")\n",
        "regression = pd.read_csv(\"./sounds-of-nature/data/regression.csv\")"
      ],
      "metadata": {
        "id": "jGBgfdHboUgG"
      },
      "execution_count": null,
      "outputs": []
    },
    {
      "cell_type": "markdown",
      "source": [
        "## Cleaning the dataset"
      ],
      "metadata": {
        "id": "3fC0MepOLi2-"
      }
    },
    {
      "cell_type": "code",
      "source": [
        "# Drop duplicate rows\n",
        "data = data.drop_duplicates()"
      ],
      "metadata": {
        "id": "GXCaS9T8N9oe"
      },
      "execution_count": null,
      "outputs": []
    },
    {
      "cell_type": "code",
      "source": [
        "# Drop columns with high percentage of missing values\n",
        "missing_threshold = 0.8\n",
        "data = data.dropna(thresh=int(missing_threshold * len(data)), axis=1)"
      ],
      "metadata": {
        "id": "UyjhErSYPU9t"
      },
      "execution_count": null,
      "outputs": []
    },
    {
      "cell_type": "code",
      "source": [
        "# Drop rows with missing values\n",
        "data = data.dropna()"
      ],
      "metadata": {
        "id": "AZ-NRfjnRI8r"
      },
      "execution_count": null,
      "outputs": []
    },
    {
      "cell_type": "markdown",
      "source": [
        "## Selecting the labels"
      ],
      "metadata": {
        "id": "-roj7Jmqx4Ns"
      }
    },
    {
      "cell_type": "code",
      "source": [
        "X = data.iloc[:, 3:-1].values.astype(float)"
      ],
      "metadata": {
        "id": "KhVLyqiwPZf6"
      },
      "execution_count": null,
      "outputs": []
    },
    {
      "cell_type": "code",
      "source": [
        "y = []\n",
        "for filename in data['filename']:\n",
        "  id = joint_table.loc[joint_table['filename'] == filename, 'transect'].values[0]\n",
        "  y.append(regression.loc[regression['id'] == id].values[0][1:])\n",
        "y = np.array(y)"
      ],
      "metadata": {
        "id": "t4qDLPWpkL-J"
      },
      "execution_count": null,
      "outputs": []
    },
    {
      "cell_type": "markdown",
      "source": [
        "## Encoding the labels"
      ],
      "metadata": {
        "id": "8sAVdFGgUiPc"
      }
    },
    {
      "cell_type": "code",
      "source": [
        "from sklearn.preprocessing import LabelEncoder\n",
        "le = LabelEncoder()\n",
        "cat_idx = regression.columns.get_loc('TFV_G11_GROUP') - 1\n",
        "y[:,cat_idx] = le.fit_transform(y[:,cat_idx])\n",
        "y = y.astype(float)"
      ],
      "metadata": {
        "id": "3twvs8b0UnWb"
      },
      "execution_count": null,
      "outputs": []
    },
    {
      "cell_type": "code",
      "source": [
        "# Print the categorical values and their corresponding integer values\n",
        "print('Categorical values:', le.classes_)\n",
        "print('Integer values:', le.transform(le.classes_))"
      ],
      "metadata": {
        "colab": {
          "base_uri": "https://localhost:8080/"
        },
        "id": "VeWACeiCoumZ",
        "outputId": "2fad1416-3e1c-46aa-f69e-371ce0c032e2"
      },
      "execution_count": null,
      "outputs": [
        {
          "output_type": "stream",
          "name": "stdout",
          "text": [
            "Categorical values: ['Conifères' 'Feuillus' 'Mixte']\n",
            "Integer values: [0 1 2]\n"
          ]
        }
      ]
    },
    {
      "cell_type": "markdown",
      "metadata": {
        "id": "YvxIPVyMhmKp"
      },
      "source": [
        "## Splitting the dataset into the Training set and Test set"
      ]
    },
    {
      "cell_type": "code",
      "metadata": {
        "id": "AVzJWAXIhxoC"
      },
      "source": [
        "# Splitting randomy the dataset into the Training set and Test set (80/20)\n",
        "from sklearn.model_selection import train_test_split\n",
        "X_train, X_test, y_train, y_test = train_test_split(X, y, test_size = 0.2, random_state = 0)"
      ],
      "execution_count": null,
      "outputs": []
    },
    {
      "cell_type": "markdown",
      "source": [
        "## Feature scaling"
      ],
      "metadata": {
        "id": "_Upa_vHS6Qb7"
      }
    },
    {
      "cell_type": "code",
      "source": [
        "from sklearn.preprocessing import StandardScaler\n",
        "sc = StandardScaler()\n",
        "X_train = sc.fit_transform(X_train)\n",
        "X_test = sc.transform(X_test)"
      ],
      "metadata": {
        "id": "F4RSlN596SLB"
      },
      "execution_count": null,
      "outputs": []
    },
    {
      "cell_type": "markdown",
      "source": [
        "## Building the model"
      ],
      "metadata": {
        "id": "6sJJnAlZqe34"
      }
    },
    {
      "cell_type": "code",
      "source": [
        "from keras.models import Sequential\n",
        "from keras.layers import Dense\n",
        "\n",
        "numLabels = y_train.shape[1]\n",
        "\n",
        "# Initialising the ANN\n",
        "regressor = Sequential()\n",
        "\n",
        "# Adding the input layer and the first hidden layer\n",
        "regressor.add(Dense(units = 256, kernel_initializer = 'uniform', activation = 'relu', input_dim = X_train.shape[1]))\n",
        "regressor.add(Dense(units = 128, kernel_initializer = 'uniform', activation = 'relu'))\n",
        "regressor.add(Dense(units = 64, kernel_initializer = 'uniform', activation = 'relu'))\n",
        "regressor.add(Dense(units = numLabels, kernel_initializer = 'uniform', activation = 'linear'))"
      ],
      "metadata": {
        "id": "ns4Sz0djqg-h"
      },
      "execution_count": null,
      "outputs": []
    },
    {
      "cell_type": "code",
      "source": [
        "regressor.build(input_shape=(None, X_train.shape[1]))\n",
        "regressor.summary()"
      ],
      "metadata": {
        "colab": {
          "base_uri": "https://localhost:8080/"
        },
        "id": "WFax25hxqyuO",
        "outputId": "47c8d0a5-1137-4e78-840a-44871890907e"
      },
      "execution_count": null,
      "outputs": [
        {
          "output_type": "stream",
          "name": "stdout",
          "text": [
            "Model: \"sequential_1\"\n",
            "_________________________________________________________________\n",
            " Layer (type)                Output Shape              Param #   \n",
            "=================================================================\n",
            " dense_4 (Dense)             (None, 256)               131328    \n",
            "                                                                 \n",
            " dense_5 (Dense)             (None, 128)               32896     \n",
            "                                                                 \n",
            " dense_6 (Dense)             (None, 64)                8256      \n",
            "                                                                 \n",
            " dense_7 (Dense)             (None, 14)                910       \n",
            "                                                                 \n",
            "=================================================================\n",
            "Total params: 173,390\n",
            "Trainable params: 173,390\n",
            "Non-trainable params: 0\n",
            "_________________________________________________________________\n"
          ]
        }
      ]
    },
    {
      "cell_type": "code",
      "source": [
        "regressor.compile(optimizer = 'adam', loss = 'mean_squared_error')"
      ],
      "metadata": {
        "id": "MczkQNbbq3-U"
      },
      "execution_count": null,
      "outputs": []
    },
    {
      "cell_type": "markdown",
      "source": [
        "## Training the models"
      ],
      "metadata": {
        "id": "at0qSGpzfcl0"
      }
    },
    {
      "cell_type": "code",
      "source": [
        "# Checkpoint Callback\n",
        "from keras.callbacks import ModelCheckpoint\n",
        "filepath=\"weights.best.hdf5\"\n",
        "checkpoint = ModelCheckpoint(filepath, monitor='val_loss', verbose=1, save_best_only=True, mode='min')\n",
        "callbacks_list = [checkpoint]"
      ],
      "metadata": {
        "id": "TkzuyUhNi4yC"
      },
      "execution_count": null,
      "outputs": []
    },
    {
      "cell_type": "code",
      "source": [
        "# Fitting the ANN to the Training set\n",
        "history = regressor.fit(X_train, y_train, batch_size = 32, epochs = 100, validation_data=(X_test, y_test), callbacks=callbacks_list)"
      ],
      "metadata": {
        "colab": {
          "base_uri": "https://localhost:8080/"
        },
        "id": "U9OQWwk7q_NJ",
        "outputId": "4c6d525d-fbde-4753-c974-23a4cfe6081b"
      },
      "execution_count": null,
      "outputs": [
        {
          "output_type": "stream",
          "name": "stdout",
          "text": [
            "Epoch 1/100\n",
            "89/93 [===========================>..] - ETA: 0s - loss: 113483.9219\n",
            "Epoch 1: val_loss improved from inf to 10595.49805, saving model to weights.best.hdf5\n",
            "93/93 [==============================] - 2s 8ms/step - loss: 109069.9922 - val_loss: 10595.4980\n",
            "Epoch 2/100\n",
            "89/93 [===========================>..] - ETA: 0s - loss: 6824.8345\n",
            "Epoch 2: val_loss improved from 10595.49805 to 5321.15381, saving model to weights.best.hdf5\n",
            "93/93 [==============================] - 0s 5ms/step - loss: 6708.1265 - val_loss: 5321.1538\n",
            "Epoch 3/100\n",
            "84/93 [==========================>...] - ETA: 0s - loss: 4251.8994\n",
            "Epoch 3: val_loss improved from 5321.15381 to 4382.03125, saving model to weights.best.hdf5\n",
            "93/93 [==============================] - 1s 6ms/step - loss: 4280.1611 - val_loss: 4382.0312\n",
            "Epoch 4/100\n",
            "85/93 [==========================>...] - ETA: 0s - loss: 3360.2085\n",
            "Epoch 4: val_loss improved from 4382.03125 to 3602.60181, saving model to weights.best.hdf5\n",
            "93/93 [==============================] - 1s 5ms/step - loss: 3369.6296 - val_loss: 3602.6018\n",
            "Epoch 5/100\n",
            "87/93 [===========================>..] - ETA: 0s - loss: 2830.5627\n",
            "Epoch 5: val_loss improved from 3602.60181 to 3386.65820, saving model to weights.best.hdf5\n",
            "93/93 [==============================] - 0s 5ms/step - loss: 2818.7153 - val_loss: 3386.6582\n",
            "Epoch 6/100\n",
            "88/93 [===========================>..] - ETA: 0s - loss: 2521.8394\n",
            "Epoch 6: val_loss improved from 3386.65820 to 3160.25562, saving model to weights.best.hdf5\n",
            "93/93 [==============================] - 1s 5ms/step - loss: 2541.0923 - val_loss: 3160.2556\n",
            "Epoch 7/100\n",
            "83/93 [=========================>....] - ETA: 0s - loss: 2352.8069\n",
            "Epoch 7: val_loss improved from 3160.25562 to 2851.01270, saving model to weights.best.hdf5\n",
            "93/93 [==============================] - 1s 5ms/step - loss: 2322.6538 - val_loss: 2851.0127\n",
            "Epoch 8/100\n",
            "91/93 [============================>.] - ETA: 0s - loss: 2074.7532\n",
            "Epoch 8: val_loss improved from 2851.01270 to 2822.43384, saving model to weights.best.hdf5\n",
            "93/93 [==============================] - 0s 5ms/step - loss: 2075.5837 - val_loss: 2822.4338\n",
            "Epoch 9/100\n",
            "89/93 [===========================>..] - ETA: 0s - loss: 1927.9363\n",
            "Epoch 9: val_loss improved from 2822.43384 to 2580.89233, saving model to weights.best.hdf5\n",
            "93/93 [==============================] - 0s 5ms/step - loss: 1922.7517 - val_loss: 2580.8923\n",
            "Epoch 10/100\n",
            "82/93 [=========================>....] - ETA: 0s - loss: 1834.6318\n",
            "Epoch 10: val_loss did not improve from 2580.89233\n",
            "93/93 [==============================] - 0s 5ms/step - loss: 1832.2394 - val_loss: 2616.5320\n",
            "Epoch 11/100\n",
            "93/93 [==============================] - ETA: 0s - loss: 1702.9581\n",
            "Epoch 11: val_loss did not improve from 2580.89233\n",
            "93/93 [==============================] - 0s 5ms/step - loss: 1702.9581 - val_loss: 2650.4285\n",
            "Epoch 12/100\n",
            "90/93 [============================>.] - ETA: 0s - loss: 1644.6385\n",
            "Epoch 12: val_loss improved from 2580.89233 to 2461.16040, saving model to weights.best.hdf5\n",
            "93/93 [==============================] - 0s 5ms/step - loss: 1652.5669 - val_loss: 2461.1604\n",
            "Epoch 13/100\n",
            "91/93 [============================>.] - ETA: 0s - loss: 1545.3666\n",
            "Epoch 13: val_loss did not improve from 2461.16040\n",
            "93/93 [==============================] - 1s 6ms/step - loss: 1549.0527 - val_loss: 2491.1926\n",
            "Epoch 14/100\n",
            "93/93 [==============================] - ETA: 0s - loss: 1517.4740\n",
            "Epoch 14: val_loss improved from 2461.16040 to 2447.70020, saving model to weights.best.hdf5\n",
            "93/93 [==============================] - 1s 6ms/step - loss: 1517.4740 - val_loss: 2447.7002\n",
            "Epoch 15/100\n",
            "90/93 [============================>.] - ETA: 0s - loss: 1476.8257\n",
            "Epoch 15: val_loss improved from 2447.70020 to 2383.18237, saving model to weights.best.hdf5\n",
            "93/93 [==============================] - 1s 6ms/step - loss: 1476.1388 - val_loss: 2383.1824\n",
            "Epoch 16/100\n",
            "91/93 [============================>.] - ETA: 0s - loss: 1410.7014\n",
            "Epoch 16: val_loss improved from 2383.18237 to 2297.50049, saving model to weights.best.hdf5\n",
            "93/93 [==============================] - 1s 6ms/step - loss: 1414.5175 - val_loss: 2297.5005\n",
            "Epoch 17/100\n",
            "85/93 [==========================>...] - ETA: 0s - loss: 1341.6888\n",
            "Epoch 17: val_loss did not improve from 2297.50049\n",
            "93/93 [==============================] - 0s 5ms/step - loss: 1342.2212 - val_loss: 2343.5654\n",
            "Epoch 18/100\n",
            "91/93 [============================>.] - ETA: 0s - loss: 1300.2377\n",
            "Epoch 18: val_loss did not improve from 2297.50049\n",
            "93/93 [==============================] - 0s 5ms/step - loss: 1298.3883 - val_loss: 2431.7881\n",
            "Epoch 19/100\n",
            "81/93 [=========================>....] - ETA: 0s - loss: 1250.7168\n",
            "Epoch 19: val_loss improved from 2297.50049 to 2288.85547, saving model to weights.best.hdf5\n",
            "93/93 [==============================] - 1s 5ms/step - loss: 1259.9677 - val_loss: 2288.8555\n",
            "Epoch 20/100\n",
            "93/93 [==============================] - ETA: 0s - loss: 1219.7025\n",
            "Epoch 20: val_loss did not improve from 2288.85547\n",
            "93/93 [==============================] - 0s 5ms/step - loss: 1219.7025 - val_loss: 2381.9131\n",
            "Epoch 21/100\n",
            "90/93 [============================>.] - ETA: 0s - loss: 1153.8610\n",
            "Epoch 21: val_loss improved from 2288.85547 to 2241.50366, saving model to weights.best.hdf5\n",
            "93/93 [==============================] - 0s 5ms/step - loss: 1156.2750 - val_loss: 2241.5037\n",
            "Epoch 22/100\n",
            "89/93 [===========================>..] - ETA: 0s - loss: 1158.7924\n",
            "Epoch 22: val_loss improved from 2241.50366 to 2220.79883, saving model to weights.best.hdf5\n",
            "93/93 [==============================] - 0s 5ms/step - loss: 1160.2013 - val_loss: 2220.7988\n",
            "Epoch 23/100\n",
            "92/93 [============================>.] - ETA: 0s - loss: 1145.5088\n",
            "Epoch 23: val_loss improved from 2220.79883 to 2203.92578, saving model to weights.best.hdf5\n",
            "93/93 [==============================] - 0s 5ms/step - loss: 1150.2032 - val_loss: 2203.9258\n",
            "Epoch 24/100\n",
            "92/93 [============================>.] - ETA: 0s - loss: 1094.4354\n",
            "Epoch 24: val_loss did not improve from 2203.92578\n",
            "93/93 [==============================] - 0s 5ms/step - loss: 1094.6885 - val_loss: 2206.7422\n",
            "Epoch 25/100\n",
            "91/93 [============================>.] - ETA: 0s - loss: 1056.2545\n",
            "Epoch 25: val_loss improved from 2203.92578 to 2181.10083, saving model to weights.best.hdf5\n",
            "93/93 [==============================] - 0s 5ms/step - loss: 1054.7310 - val_loss: 2181.1008\n",
            "Epoch 26/100\n",
            "93/93 [==============================] - ETA: 0s - loss: 1018.9904\n",
            "Epoch 26: val_loss improved from 2181.10083 to 2118.62305, saving model to weights.best.hdf5\n",
            "93/93 [==============================] - 0s 5ms/step - loss: 1018.9904 - val_loss: 2118.6230\n",
            "Epoch 27/100\n",
            "92/93 [============================>.] - ETA: 0s - loss: 1043.9916\n",
            "Epoch 27: val_loss improved from 2118.62305 to 2069.80737, saving model to weights.best.hdf5\n",
            "93/93 [==============================] - 0s 5ms/step - loss: 1043.1602 - val_loss: 2069.8074\n",
            "Epoch 28/100\n",
            "91/93 [============================>.] - ETA: 0s - loss: 1010.1428\n",
            "Epoch 28: val_loss did not improve from 2069.80737\n",
            "93/93 [==============================] - 0s 5ms/step - loss: 1012.6337 - val_loss: 2070.4077\n",
            "Epoch 29/100\n",
            "86/93 [==========================>...] - ETA: 0s - loss: 1016.0283\n",
            "Epoch 29: val_loss did not improve from 2069.80737\n",
            "93/93 [==============================] - 0s 5ms/step - loss: 1009.2798 - val_loss: 2124.2937\n",
            "Epoch 30/100\n",
            "89/93 [===========================>..] - ETA: 0s - loss: 957.8154\n",
            "Epoch 30: val_loss did not improve from 2069.80737\n",
            "93/93 [==============================] - 0s 5ms/step - loss: 965.8887 - val_loss: 2199.8887\n",
            "Epoch 31/100\n",
            "93/93 [==============================] - ETA: 0s - loss: 974.2263\n",
            "Epoch 31: val_loss improved from 2069.80737 to 2050.63428, saving model to weights.best.hdf5\n",
            "93/93 [==============================] - 0s 5ms/step - loss: 974.2263 - val_loss: 2050.6343\n",
            "Epoch 32/100\n",
            "82/93 [=========================>....] - ETA: 0s - loss: 929.1315\n",
            "Epoch 32: val_loss did not improve from 2050.63428\n",
            "93/93 [==============================] - 0s 5ms/step - loss: 928.3886 - val_loss: 2154.0332\n",
            "Epoch 33/100\n",
            "91/93 [============================>.] - ETA: 0s - loss: 918.4622\n",
            "Epoch 33: val_loss improved from 2050.63428 to 2043.19690, saving model to weights.best.hdf5\n",
            "93/93 [==============================] - 0s 5ms/step - loss: 920.7600 - val_loss: 2043.1969\n",
            "Epoch 34/100\n",
            "91/93 [============================>.] - ETA: 0s - loss: 934.8083\n",
            "Epoch 34: val_loss did not improve from 2043.19690\n",
            "93/93 [==============================] - 0s 5ms/step - loss: 931.6113 - val_loss: 2116.5664\n",
            "Epoch 35/100\n",
            "89/93 [===========================>..] - ETA: 0s - loss: 875.0833\n",
            "Epoch 35: val_loss did not improve from 2043.19690\n",
            "93/93 [==============================] - 0s 5ms/step - loss: 890.0096 - val_loss: 2141.5752\n",
            "Epoch 36/100\n",
            "90/93 [============================>.] - ETA: 0s - loss: 932.6852\n",
            "Epoch 36: val_loss did not improve from 2043.19690\n",
            "93/93 [==============================] - 0s 5ms/step - loss: 934.2753 - val_loss: 2115.2305\n",
            "Epoch 37/100\n",
            "82/93 [=========================>....] - ETA: 0s - loss: 882.7663\n",
            "Epoch 37: val_loss improved from 2043.19690 to 2036.88257, saving model to weights.best.hdf5\n",
            "93/93 [==============================] - 0s 5ms/step - loss: 883.8887 - val_loss: 2036.8826\n",
            "Epoch 38/100\n",
            "93/93 [==============================] - ETA: 0s - loss: 867.1185\n",
            "Epoch 38: val_loss did not improve from 2036.88257\n",
            "93/93 [==============================] - 1s 6ms/step - loss: 867.1185 - val_loss: 2042.0706\n",
            "Epoch 39/100\n",
            "90/93 [============================>.] - ETA: 0s - loss: 857.9622\n",
            "Epoch 39: val_loss did not improve from 2036.88257\n",
            "93/93 [==============================] - 1s 6ms/step - loss: 867.7684 - val_loss: 2041.1013\n",
            "Epoch 40/100\n",
            "92/93 [============================>.] - ETA: 0s - loss: 816.6344\n",
            "Epoch 40: val_loss improved from 2036.88257 to 1967.10364, saving model to weights.best.hdf5\n",
            "93/93 [==============================] - 1s 6ms/step - loss: 817.4368 - val_loss: 1967.1036\n",
            "Epoch 41/100\n",
            "86/93 [==========================>...] - ETA: 0s - loss: 811.8284\n",
            "Epoch 41: val_loss did not improve from 1967.10364\n",
            "93/93 [==============================] - 1s 6ms/step - loss: 812.9752 - val_loss: 1994.9406\n",
            "Epoch 42/100\n",
            "89/93 [===========================>..] - ETA: 0s - loss: 840.2023\n",
            "Epoch 42: val_loss improved from 1967.10364 to 1919.24988, saving model to weights.best.hdf5\n",
            "93/93 [==============================] - 0s 5ms/step - loss: 843.9299 - val_loss: 1919.2499\n",
            "Epoch 43/100\n",
            "90/93 [============================>.] - ETA: 0s - loss: 811.3749\n",
            "Epoch 43: val_loss did not improve from 1919.24988\n",
            "93/93 [==============================] - 0s 5ms/step - loss: 809.2983 - val_loss: 2010.0643\n",
            "Epoch 44/100\n",
            "92/93 [============================>.] - ETA: 0s - loss: 773.8065\n",
            "Epoch 44: val_loss did not improve from 1919.24988\n",
            "93/93 [==============================] - 0s 5ms/step - loss: 772.8917 - val_loss: 1986.5049\n",
            "Epoch 45/100\n",
            "88/93 [===========================>..] - ETA: 0s - loss: 735.7815\n",
            "Epoch 45: val_loss did not improve from 1919.24988\n",
            "93/93 [==============================] - 0s 5ms/step - loss: 738.3809 - val_loss: 1998.6406\n",
            "Epoch 46/100\n",
            "85/93 [==========================>...] - ETA: 0s - loss: 736.8684\n",
            "Epoch 46: val_loss did not improve from 1919.24988\n",
            "93/93 [==============================] - 0s 5ms/step - loss: 744.3259 - val_loss: 1955.6073\n",
            "Epoch 47/100\n",
            "82/93 [=========================>....] - ETA: 0s - loss: 725.9175\n",
            "Epoch 47: val_loss improved from 1919.24988 to 1915.01355, saving model to weights.best.hdf5\n",
            "93/93 [==============================] - 1s 6ms/step - loss: 729.2239 - val_loss: 1915.0135\n",
            "Epoch 48/100\n",
            "87/93 [===========================>..] - ETA: 0s - loss: 722.2852\n",
            "Epoch 48: val_loss improved from 1915.01355 to 1882.15125, saving model to weights.best.hdf5\n",
            "93/93 [==============================] - 0s 5ms/step - loss: 716.9269 - val_loss: 1882.1512\n",
            "Epoch 49/100\n",
            "86/93 [==========================>...] - ETA: 0s - loss: 708.6089\n",
            "Epoch 49: val_loss did not improve from 1882.15125\n",
            "93/93 [==============================] - 0s 5ms/step - loss: 702.6146 - val_loss: 1923.4683\n",
            "Epoch 50/100\n",
            "84/93 [==========================>...] - ETA: 0s - loss: 666.0232\n",
            "Epoch 50: val_loss did not improve from 1882.15125\n",
            "93/93 [==============================] - 0s 5ms/step - loss: 677.9671 - val_loss: 1920.3213\n",
            "Epoch 51/100\n",
            "90/93 [============================>.] - ETA: 0s - loss: 681.4819\n",
            "Epoch 51: val_loss did not improve from 1882.15125\n",
            "93/93 [==============================] - 0s 5ms/step - loss: 678.3755 - val_loss: 1969.8970\n",
            "Epoch 52/100\n",
            "90/93 [============================>.] - ETA: 0s - loss: 690.8956\n",
            "Epoch 52: val_loss improved from 1882.15125 to 1878.39050, saving model to weights.best.hdf5\n",
            "93/93 [==============================] - 0s 5ms/step - loss: 689.7300 - val_loss: 1878.3905\n",
            "Epoch 53/100\n",
            "93/93 [==============================] - ETA: 0s - loss: 665.9200\n",
            "Epoch 53: val_loss improved from 1878.39050 to 1865.15527, saving model to weights.best.hdf5\n",
            "93/93 [==============================] - 0s 5ms/step - loss: 665.9200 - val_loss: 1865.1553\n",
            "Epoch 54/100\n",
            "88/93 [===========================>..] - ETA: 0s - loss: 689.7597\n",
            "Epoch 54: val_loss improved from 1865.15527 to 1859.53528, saving model to weights.best.hdf5\n",
            "93/93 [==============================] - 0s 5ms/step - loss: 687.6182 - val_loss: 1859.5353\n",
            "Epoch 55/100\n",
            "90/93 [============================>.] - ETA: 0s - loss: 616.6000\n",
            "Epoch 55: val_loss improved from 1859.53528 to 1819.82776, saving model to weights.best.hdf5\n",
            "93/93 [==============================] - 0s 5ms/step - loss: 618.4722 - val_loss: 1819.8278\n",
            "Epoch 56/100\n",
            "92/93 [============================>.] - ETA: 0s - loss: 599.9080\n",
            "Epoch 56: val_loss did not improve from 1819.82776\n",
            "93/93 [==============================] - 0s 5ms/step - loss: 601.2040 - val_loss: 1828.4327\n",
            "Epoch 57/100\n",
            "85/93 [==========================>...] - ETA: 0s - loss: 558.4824\n",
            "Epoch 57: val_loss improved from 1819.82776 to 1758.45496, saving model to weights.best.hdf5\n",
            "93/93 [==============================] - 1s 6ms/step - loss: 555.8986 - val_loss: 1758.4550\n",
            "Epoch 58/100\n",
            "93/93 [==============================] - ETA: 0s - loss: 540.1614\n",
            "Epoch 58: val_loss did not improve from 1758.45496\n",
            "93/93 [==============================] - 1s 5ms/step - loss: 540.1614 - val_loss: 1790.2026\n",
            "Epoch 59/100\n",
            "82/93 [=========================>....] - ETA: 0s - loss: 546.8496\n",
            "Epoch 59: val_loss did not improve from 1758.45496\n",
            "93/93 [==============================] - 0s 5ms/step - loss: 546.7347 - val_loss: 1816.0178\n",
            "Epoch 60/100\n",
            "85/93 [==========================>...] - ETA: 0s - loss: 522.4164\n",
            "Epoch 60: val_loss did not improve from 1758.45496\n",
            "93/93 [==============================] - 0s 5ms/step - loss: 521.7664 - val_loss: 1763.9188\n",
            "Epoch 61/100\n",
            "93/93 [==============================] - ETA: 0s - loss: 503.6313\n",
            "Epoch 61: val_loss improved from 1758.45496 to 1736.37415, saving model to weights.best.hdf5\n",
            "93/93 [==============================] - 0s 5ms/step - loss: 503.6313 - val_loss: 1736.3741\n",
            "Epoch 62/100\n",
            "89/93 [===========================>..] - ETA: 0s - loss: 507.6152\n",
            "Epoch 62: val_loss did not improve from 1736.37415\n",
            "93/93 [==============================] - 1s 7ms/step - loss: 505.7062 - val_loss: 1740.8076\n",
            "Epoch 63/100\n",
            "89/93 [===========================>..] - ETA: 0s - loss: 478.6232\n",
            "Epoch 63: val_loss did not improve from 1736.37415\n",
            "93/93 [==============================] - 1s 6ms/step - loss: 487.1134 - val_loss: 1742.2329\n",
            "Epoch 64/100\n",
            "85/93 [==========================>...] - ETA: 0s - loss: 469.4009\n",
            "Epoch 64: val_loss improved from 1736.37415 to 1727.94824, saving model to weights.best.hdf5\n",
            "93/93 [==============================] - 1s 5ms/step - loss: 467.8982 - val_loss: 1727.9482\n",
            "Epoch 65/100\n",
            "85/93 [==========================>...] - ETA: 0s - loss: 428.9603\n",
            "Epoch 65: val_loss improved from 1727.94824 to 1716.59949, saving model to weights.best.hdf5\n",
            "93/93 [==============================] - 1s 6ms/step - loss: 435.2125 - val_loss: 1716.5995\n",
            "Epoch 66/100\n",
            "92/93 [============================>.] - ETA: 0s - loss: 435.3213\n",
            "Epoch 66: val_loss improved from 1716.59949 to 1637.72192, saving model to weights.best.hdf5\n",
            "93/93 [==============================] - 0s 5ms/step - loss: 437.6573 - val_loss: 1637.7219\n",
            "Epoch 67/100\n",
            "91/93 [============================>.] - ETA: 0s - loss: 416.4023\n",
            "Epoch 67: val_loss improved from 1637.72192 to 1620.34326, saving model to weights.best.hdf5\n",
            "93/93 [==============================] - 0s 5ms/step - loss: 415.1521 - val_loss: 1620.3433\n",
            "Epoch 68/100\n",
            "92/93 [============================>.] - ETA: 0s - loss: 391.0583\n",
            "Epoch 68: val_loss did not improve from 1620.34326\n",
            "93/93 [==============================] - 0s 5ms/step - loss: 390.3424 - val_loss: 1705.2970\n",
            "Epoch 69/100\n",
            "93/93 [==============================] - ETA: 0s - loss: 407.7987\n",
            "Epoch 69: val_loss improved from 1620.34326 to 1616.71606, saving model to weights.best.hdf5\n",
            "93/93 [==============================] - 0s 5ms/step - loss: 407.7987 - val_loss: 1616.7161\n",
            "Epoch 70/100\n",
            "92/93 [============================>.] - ETA: 0s - loss: 357.2842\n",
            "Epoch 70: val_loss did not improve from 1616.71606\n",
            "93/93 [==============================] - 0s 5ms/step - loss: 356.2311 - val_loss: 1649.0978\n",
            "Epoch 71/100\n",
            "86/93 [==========================>...] - ETA: 0s - loss: 354.1060\n",
            "Epoch 71: val_loss did not improve from 1616.71606\n",
            "93/93 [==============================] - 0s 5ms/step - loss: 350.9453 - val_loss: 1655.2692\n",
            "Epoch 72/100\n",
            "84/93 [==========================>...] - ETA: 0s - loss: 320.6435\n",
            "Epoch 72: val_loss improved from 1616.71606 to 1610.29956, saving model to weights.best.hdf5\n",
            "93/93 [==============================] - 1s 6ms/step - loss: 331.2669 - val_loss: 1610.2996\n",
            "Epoch 73/100\n",
            "80/93 [========================>.....] - ETA: 0s - loss: 302.3796\n",
            "Epoch 73: val_loss did not improve from 1610.29956\n",
            "93/93 [==============================] - 0s 5ms/step - loss: 321.1747 - val_loss: 1624.8585\n",
            "Epoch 74/100\n",
            "82/93 [=========================>....] - ETA: 0s - loss: 352.4378\n",
            "Epoch 74: val_loss improved from 1610.29956 to 1606.64783, saving model to weights.best.hdf5\n",
            "93/93 [==============================] - 0s 5ms/step - loss: 353.2828 - val_loss: 1606.6478\n",
            "Epoch 75/100\n",
            "90/93 [============================>.] - ETA: 0s - loss: 325.3488\n",
            "Epoch 75: val_loss did not improve from 1606.64783\n",
            "93/93 [==============================] - 0s 5ms/step - loss: 320.7041 - val_loss: 1621.2144\n",
            "Epoch 76/100\n",
            "87/93 [===========================>..] - ETA: 0s - loss: 306.7949\n",
            "Epoch 76: val_loss did not improve from 1606.64783\n",
            "93/93 [==============================] - 0s 5ms/step - loss: 304.3102 - val_loss: 1661.5885\n",
            "Epoch 77/100\n",
            "89/93 [===========================>..] - ETA: 0s - loss: 324.0123\n",
            "Epoch 77: val_loss improved from 1606.64783 to 1597.49731, saving model to weights.best.hdf5\n",
            "93/93 [==============================] - 0s 5ms/step - loss: 326.1136 - val_loss: 1597.4973\n",
            "Epoch 78/100\n",
            "86/93 [==========================>...] - ETA: 0s - loss: 295.9850\n",
            "Epoch 78: val_loss did not improve from 1597.49731\n",
            "93/93 [==============================] - 0s 5ms/step - loss: 302.3781 - val_loss: 1634.0979\n",
            "Epoch 79/100\n",
            "80/93 [========================>.....] - ETA: 0s - loss: 307.5628\n",
            "Epoch 79: val_loss did not improve from 1597.49731\n",
            "93/93 [==============================] - 0s 5ms/step - loss: 303.7346 - val_loss: 1616.5959\n",
            "Epoch 80/100\n",
            "85/93 [==========================>...] - ETA: 0s - loss: 268.5986\n",
            "Epoch 80: val_loss did not improve from 1597.49731\n",
            "93/93 [==============================] - 0s 5ms/step - loss: 265.4044 - val_loss: 1623.7687\n",
            "Epoch 81/100\n",
            "89/93 [===========================>..] - ETA: 0s - loss: 241.1677\n",
            "Epoch 81: val_loss did not improve from 1597.49731\n",
            "93/93 [==============================] - 0s 5ms/step - loss: 241.3646 - val_loss: 1612.6736\n",
            "Epoch 82/100\n",
            "82/93 [=========================>....] - ETA: 0s - loss: 259.9310\n",
            "Epoch 82: val_loss did not improve from 1597.49731\n",
            "93/93 [==============================] - 0s 5ms/step - loss: 264.0735 - val_loss: 1597.5919\n",
            "Epoch 83/100\n",
            "85/93 [==========================>...] - ETA: 0s - loss: 256.2149\n",
            "Epoch 83: val_loss did not improve from 1597.49731\n",
            "93/93 [==============================] - 1s 7ms/step - loss: 250.3761 - val_loss: 1708.8385\n",
            "Epoch 84/100\n",
            "92/93 [============================>.] - ETA: 0s - loss: 259.3383\n",
            "Epoch 84: val_loss did not improve from 1597.49731\n",
            "93/93 [==============================] - 1s 5ms/step - loss: 258.1589 - val_loss: 1638.6597\n",
            "Epoch 85/100\n",
            "91/93 [============================>.] - ETA: 0s - loss: 242.5974\n",
            "Epoch 85: val_loss did not improve from 1597.49731\n",
            "93/93 [==============================] - 1s 7ms/step - loss: 241.1008 - val_loss: 1647.7914\n",
            "Epoch 86/100\n",
            "83/93 [=========================>....] - ETA: 0s - loss: 278.5464\n",
            "Epoch 86: val_loss did not improve from 1597.49731\n",
            "93/93 [==============================] - 0s 5ms/step - loss: 274.0222 - val_loss: 1757.6973\n",
            "Epoch 87/100\n",
            "85/93 [==========================>...] - ETA: 0s - loss: 261.5953\n",
            "Epoch 87: val_loss did not improve from 1597.49731\n",
            "93/93 [==============================] - 1s 6ms/step - loss: 254.7040 - val_loss: 1621.3545\n",
            "Epoch 88/100\n",
            "91/93 [============================>.] - ETA: 0s - loss: 234.2453\n",
            "Epoch 88: val_loss did not improve from 1597.49731\n",
            "93/93 [==============================] - 1s 6ms/step - loss: 232.6537 - val_loss: 1660.4449\n",
            "Epoch 89/100\n",
            "91/93 [============================>.] - ETA: 0s - loss: 240.0265\n",
            "Epoch 89: val_loss did not improve from 1597.49731\n",
            "93/93 [==============================] - 1s 6ms/step - loss: 238.6355 - val_loss: 1617.1129\n",
            "Epoch 90/100\n",
            "87/93 [===========================>..] - ETA: 0s - loss: 224.7188\n",
            "Epoch 90: val_loss improved from 1597.49731 to 1587.10046, saving model to weights.best.hdf5\n",
            "93/93 [==============================] - 1s 5ms/step - loss: 225.0622 - val_loss: 1587.1005\n",
            "Epoch 91/100\n",
            "83/93 [=========================>....] - ETA: 0s - loss: 206.9461\n",
            "Epoch 91: val_loss did not improve from 1587.10046\n",
            "93/93 [==============================] - 0s 5ms/step - loss: 220.5699 - val_loss: 1645.0394\n",
            "Epoch 92/100\n",
            "82/93 [=========================>....] - ETA: 0s - loss: 281.7260\n",
            "Epoch 92: val_loss did not improve from 1587.10046\n",
            "93/93 [==============================] - 0s 5ms/step - loss: 273.6467 - val_loss: 1598.6447\n",
            "Epoch 93/100\n",
            "83/93 [=========================>....] - ETA: 0s - loss: 219.6856\n",
            "Epoch 93: val_loss did not improve from 1587.10046\n",
            "93/93 [==============================] - 0s 5ms/step - loss: 210.4142 - val_loss: 1609.0876\n",
            "Epoch 94/100\n",
            "88/93 [===========================>..] - ETA: 0s - loss: 226.3358\n",
            "Epoch 94: val_loss improved from 1587.10046 to 1570.23755, saving model to weights.best.hdf5\n",
            "93/93 [==============================] - 1s 5ms/step - loss: 223.2005 - val_loss: 1570.2375\n",
            "Epoch 95/100\n",
            "87/93 [===========================>..] - ETA: 0s - loss: 190.3223\n",
            "Epoch 95: val_loss did not improve from 1570.23755\n",
            "93/93 [==============================] - 0s 5ms/step - loss: 200.4648 - val_loss: 1618.6655\n",
            "Epoch 96/100\n",
            "92/93 [============================>.] - ETA: 0s - loss: 249.0768\n",
            "Epoch 96: val_loss did not improve from 1570.23755\n",
            "93/93 [==============================] - 0s 5ms/step - loss: 247.6768 - val_loss: 1669.7202\n",
            "Epoch 97/100\n",
            "88/93 [===========================>..] - ETA: 0s - loss: 217.6741\n",
            "Epoch 97: val_loss did not improve from 1570.23755\n",
            "93/93 [==============================] - 0s 5ms/step - loss: 215.6796 - val_loss: 1618.9437\n",
            "Epoch 98/100\n",
            "87/93 [===========================>..] - ETA: 0s - loss: 202.0968\n",
            "Epoch 98: val_loss did not improve from 1570.23755\n",
            "93/93 [==============================] - 0s 5ms/step - loss: 207.4561 - val_loss: 1652.4446\n",
            "Epoch 99/100\n",
            "89/93 [===========================>..] - ETA: 0s - loss: 228.1605\n",
            "Epoch 99: val_loss did not improve from 1570.23755\n",
            "93/93 [==============================] - 0s 5ms/step - loss: 227.2635 - val_loss: 1717.1017\n",
            "Epoch 100/100\n",
            "91/93 [============================>.] - ETA: 0s - loss: 209.8726\n",
            "Epoch 100: val_loss did not improve from 1570.23755\n",
            "93/93 [==============================] - 0s 5ms/step - loss: 208.3682 - val_loss: 1654.7211\n"
          ]
        }
      ]
    },
    {
      "cell_type": "code",
      "source": [
        "# Plot training & validation accuracy and loss values in the same figure (1 row, 2 columns)\n",
        "fig, ax = plt.subplots(figsize=(10, 5)) \n",
        "ax.plot(history.history['loss'], label='Training loss')\n",
        "ax.plot(history.history['val_loss'], label='Validation loss')\n",
        "ax.set_title('Model loss')\n",
        "ax.set_ylabel('Loss')\n",
        "ax.set_xlabel('Epoch')\n",
        "ax.legend(loc='upper left')\n",
        "plt.tight_layout()\n",
        "plt.show()"
      ],
      "metadata": {
        "colab": {
          "base_uri": "https://localhost:8080/",
          "height": 369
        },
        "id": "KpQSJcZtr0c9",
        "outputId": "dbdc9b8c-5904-42ec-fdc3-ffff155b83a3"
      },
      "execution_count": null,
      "outputs": [
        {
          "output_type": "display_data",
          "data": {
            "text/plain": [
              "<Figure size 720x360 with 1 Axes>"
            ],
            "image/png": "[encoded data removed]"
          },
          "metadata": {
            "needs_background": "light"
          }
        }
      ]
    },
    {
      "cell_type": "code",
      "source": [
        "# Load the best model\n",
        "regressor.load_weights(filepath)"
      ],
      "metadata": {
        "id": "ofKpWlaVr3bW"
      },
      "execution_count": null,
      "outputs": []
    },
    {
      "cell_type": "markdown",
      "source": [
        "## Evaluating the model"
      ],
      "metadata": {
        "id": "wrMzqAzSxbmX"
      }
    },
    {
      "cell_type": "code",
      "source": [
        "# Evaluate the model\n",
        "score = regressor.evaluate(X_test, y_test, verbose=0)\n",
        "print('Test loss:', score)"
      ],
      "metadata": {
        "colab": {
          "base_uri": "https://localhost:8080/"
        },
        "id": "g1Yecxw5r6Jh",
        "outputId": "4089bf33-fbe7-4de0-cde2-0957d8e077e3"
      },
      "execution_count": null,
      "outputs": [
        {
          "output_type": "stream",
          "name": "stdout",
          "text": [
            "Test loss: 1570.237548828125\n"
          ]
        }
      ]
    }
  ]
}