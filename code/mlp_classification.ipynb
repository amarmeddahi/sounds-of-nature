{
  "nbformat": 4,
  "nbformat_minor": 0,
  "metadata": {
    "colab": {
      "provenance": [],
      "machine_shape": "hm"
    },
    "kernelspec": {
      "name": "python3",
      "display_name": "Python 3"
    }
  },
  "cells": [
    {
      "cell_type": "markdown",
      "metadata": {
        "id": "0MRC0e0KhQ0S"
      },
      "source": [
        "# Deep Learning Classification of accoustic indices"
      ]
    },
    {
      "cell_type": "markdown",
      "metadata": {
        "id": "LWd1UlMnhT2s"
      },
      "source": [
        "## Importing the libraries"
      ]
    },
    {
      "cell_type": "code",
      "metadata": {
        "id": "YvGPUQaHhXfL"
      },
      "source": [
        "import numpy as np\n",
        "import matplotlib.pyplot as plt\n",
        "import pandas as pd"
      ],
      "execution_count": 1,
      "outputs": []
    },
    {
      "cell_type": "markdown",
      "metadata": {
        "id": "K1VMqkGvhc3-"
      },
      "source": [
        "## Importing the dataset"
      ]
    },
    {
      "cell_type": "code",
      "metadata": {
        "id": "M52QDmyzhh9s",
        "colab": {
          "base_uri": "https://localhost:8080/"
        },
        "outputId": "a41f0a16-f5a1-4d93-daed-57b47b649358"
      },
      "source": [
        "!git clone https://github.com/amarmeddahi/sounds-of-nature.git\n",
        "path = \"./sounds-of-nature/data/latent_space_mel128_512.csv\""
      ],
      "execution_count": 2,
      "outputs": [
        {
          "output_type": "stream",
          "name": "stdout",
          "text": [
            "Cloning into 'sounds-of-nature'...\n",
            "remote: Enumerating objects: 104, done.\u001b[K\n",
            "remote: Counting objects: 100% (104/104), done.\u001b[K\n",
            "remote: Compressing objects: 100% (87/87), done.\u001b[K\n",
            "remote: Total 104 (delta 39), reused 56 (delta 12), pack-reused 0\u001b[K\n",
            "Receiving objects: 100% (104/104), 17.90 MiB | 23.06 MiB/s, done.\n",
            "Resolving deltas: 100% (39/39), done.\n"
          ]
        }
      ]
    },
    {
      "cell_type": "code",
      "source": [
        "df = pd.read_csv(path)"
      ],
      "metadata": {
        "id": "7d9jFCF-05gs"
      },
      "execution_count": 3,
      "outputs": []
    },
    {
      "cell_type": "markdown",
      "source": [
        "## Cleaning the dataset"
      ],
      "metadata": {
        "id": "3fC0MepOLi2-"
      }
    },
    {
      "cell_type": "code",
      "source": [
        "# Drop duplicate rows\n",
        "df = df.drop_duplicates()"
      ],
      "metadata": {
        "id": "GXCaS9T8N9oe"
      },
      "execution_count": 4,
      "outputs": []
    },
    {
      "cell_type": "code",
      "source": [
        "# Drop columns with high percentage of missing values\n",
        "missing_threshold = 0.8\n",
        "df = df.dropna(thresh=int(missing_threshold * len(df)), axis=1)"
      ],
      "metadata": {
        "id": "UyjhErSYPU9t"
      },
      "execution_count": 5,
      "outputs": []
    },
    {
      "cell_type": "code",
      "source": [
        "# Drop rows with missing values\n",
        "df = df.dropna()"
      ],
      "metadata": {
        "id": "AZ-NRfjnRI8r"
      },
      "execution_count": 6,
      "outputs": []
    },
    {
      "cell_type": "code",
      "source": [
        "X = df.iloc[:, 3:-1].values.astype(float)"
      ],
      "metadata": {
        "id": "KhVLyqiwPZf6"
      },
      "execution_count": 7,
      "outputs": []
    },
    {
      "cell_type": "code",
      "source": [
        "labels = [\"BE-BL-RE-RL\", \"R-B\", \"L-E\"]\n",
        "l = labels[0]\n",
        "if l == \"R-B\":\n",
        "  y = np.array([s[0] for s in df.iloc[:, -1].values])\n",
        "elif l == \"L-E\":\n",
        "  y = np.array([s[1] for s in df.iloc[:, -1].values])\n",
        "else:\n",
        "  y = df.iloc[:, -1].values"
      ],
      "metadata": {
        "id": "qxQw6uio01AC"
      },
      "execution_count": 8,
      "outputs": []
    },
    {
      "cell_type": "markdown",
      "source": [
        "## Encoding the labels"
      ],
      "metadata": {
        "id": "8sAVdFGgUiPc"
      }
    },
    {
      "cell_type": "code",
      "source": [
        "from sklearn.preprocessing import LabelEncoder\n",
        "le = LabelEncoder()\n",
        "y = le.fit_transform(y)"
      ],
      "metadata": {
        "id": "3twvs8b0UnWb"
      },
      "execution_count": 9,
      "outputs": []
    },
    {
      "cell_type": "markdown",
      "metadata": {
        "id": "YvxIPVyMhmKp"
      },
      "source": [
        "## Splitting the dataset into the Training set and Test set"
      ]
    },
    {
      "cell_type": "code",
      "metadata": {
        "id": "AVzJWAXIhxoC"
      },
      "source": [
        "# Splitting randomy the dataset into the Training set and Test set (80/20)\n",
        "from sklearn.model_selection import train_test_split\n",
        "X_train, X_test, y_train, y_test = train_test_split(X, y, test_size = 0.2, random_state = 0)"
      ],
      "execution_count": 10,
      "outputs": []
    },
    {
      "cell_type": "code",
      "source": [
        "# Print the labels distribution in the training and test sets\n",
        "print('Labels counts in y_train:', np.bincount(y_train))\n",
        "print('Labels counts in y_test:', np.bincount(y_test))"
      ],
      "metadata": {
        "colab": {
          "base_uri": "https://localhost:8080/"
        },
        "id": "fTD6zkQYToQ6",
        "outputId": "5f9146db-9fa3-43de-8ebd-dbfb73103b02"
      },
      "execution_count": 11,
      "outputs": [
        {
          "output_type": "stream",
          "name": "stdout",
          "text": [
            "Labels counts in y_train: [826 824 731 595]\n",
            "Labels counts in y_test: [197 199 199 149]\n"
          ]
        }
      ]
    },
    {
      "cell_type": "markdown",
      "source": [
        "## Feature Scaling"
      ],
      "metadata": {
        "id": "0QmTMR5yUUM2"
      }
    },
    {
      "cell_type": "code",
      "source": [
        "from sklearn.preprocessing import StandardScaler\n",
        "sc = StandardScaler()\n",
        "X_train = sc.fit_transform(X_train)\n",
        "X_test = sc.transform(X_test)"
      ],
      "metadata": {
        "id": "j9PpMK3BUWSp"
      },
      "execution_count": 12,
      "outputs": []
    },
    {
      "cell_type": "markdown",
      "source": [
        "## Building the model"
      ],
      "metadata": {
        "id": "zW_wT3y4HZvh"
      }
    },
    {
      "cell_type": "code",
      "source": [
        "from keras.models import Sequential\n",
        "from keras.layers import Dense\n",
        "\n",
        "numLabels = len(np.unique(y_train))\n",
        "\n",
        "# Initialising the ANN\n",
        "classifier = Sequential()\n",
        "\n",
        "# Adding the input layer and the first hidden layer\n",
        "classifier.add(Dense(units = 256, kernel_initializer = 'uniform', activation = 'relu'))\n",
        "classifier.add(Dense(units = 128, kernel_initializer = 'uniform', activation = 'relu'))\n",
        "classifier.add(Dense(units = 64, kernel_initializer = 'uniform', activation = 'relu'))\n",
        "classifier.add(Dense(units = numLabels, kernel_initializer = 'uniform', activation = 'softmax'))"
      ],
      "metadata": {
        "id": "G94dzrp0IW3e"
      },
      "execution_count": 13,
      "outputs": []
    },
    {
      "cell_type": "code",
      "source": [
        "classifier.build(input_shape=(None, X_train.shape[1]))\n",
        "classifier.summary()"
      ],
      "metadata": {
        "colab": {
          "base_uri": "https://localhost:8080/"
        },
        "id": "APQ0V08xIXk1",
        "outputId": "04f9071e-1058-40b7-dad4-0a5622810f54"
      },
      "execution_count": 14,
      "outputs": [
        {
          "output_type": "stream",
          "name": "stdout",
          "text": [
            "Model: \"sequential\"\n",
            "_________________________________________________________________\n",
            " Layer (type)                Output Shape              Param #   \n",
            "=================================================================\n",
            " dense (Dense)               (None, 256)               131328    \n",
            "                                                                 \n",
            " dense_1 (Dense)             (None, 128)               32896     \n",
            "                                                                 \n",
            " dense_2 (Dense)             (None, 64)                8256      \n",
            "                                                                 \n",
            " dense_3 (Dense)             (None, 4)                 260       \n",
            "                                                                 \n",
            "=================================================================\n",
            "Total params: 172,740\n",
            "Trainable params: 172,740\n",
            "Non-trainable params: 0\n",
            "_________________________________________________________________\n"
          ]
        }
      ]
    },
    {
      "cell_type": "code",
      "source": [
        "classifier.compile(optimizer = 'adam', loss = 'sparse_categorical_crossentropy', metrics = ['accuracy'])"
      ],
      "metadata": {
        "id": "WcmKLnWqIoQK"
      },
      "execution_count": 15,
      "outputs": []
    },
    {
      "cell_type": "markdown",
      "metadata": {
        "id": "bb6jCOCQiAmP"
      },
      "source": [
        "## Training the models\n",
        "\n"
      ]
    },
    {
      "cell_type": "code",
      "source": [
        "# Checkpoint Callback\n",
        "from keras.callbacks import ModelCheckpoint\n",
        "filepath=\"weights.best.hdf5\"\n",
        "checkpoint = ModelCheckpoint(filepath, monitor='val_accuracy', verbose=1, save_best_only=True, mode='max')\n",
        "callbacks_list = [checkpoint]"
      ],
      "metadata": {
        "id": "yHt924vzJI7w"
      },
      "execution_count": 16,
      "outputs": []
    },
    {
      "cell_type": "code",
      "source": [
        "# Fitting the ANN to the Training set\n",
        "history = classifier.fit(X_train, y_train, batch_size = 32, epochs = 100, validation_data=(X_test, y_test), callbacks=callbacks_list)"
      ],
      "metadata": {
        "colab": {
          "base_uri": "https://localhost:8080/"
        },
        "id": "Wk-OjK0lHc0a",
        "outputId": "c9c2d02d-0165-4262-a2ec-667f87d20aec"
      },
      "execution_count": 17,
      "outputs": [
        {
          "output_type": "stream",
          "name": "stdout",
          "text": [
            "Epoch 1/100\n",
            "88/93 [===========================>..] - ETA: 0s - loss: 0.9893 - accuracy: 0.5692\n",
            "Epoch 1: val_accuracy improved from -inf to 0.75134, saving model to weights.best.hdf5\n",
            "93/93 [==============================] - 2s 8ms/step - loss: 0.9662 - accuracy: 0.5820 - val_loss: 0.5749 - val_accuracy: 0.7513\n",
            "Epoch 2/100\n",
            "81/93 [=========================>....] - ETA: 0s - loss: 0.4418 - accuracy: 0.8283\n",
            "Epoch 2: val_accuracy improved from 0.75134 to 0.79973, saving model to weights.best.hdf5\n",
            "93/93 [==============================] - 0s 5ms/step - loss: 0.4341 - accuracy: 0.8293 - val_loss: 0.4826 - val_accuracy: 0.7997\n",
            "Epoch 3/100\n",
            "83/93 [=========================>....] - ETA: 0s - loss: 0.2525 - accuracy: 0.9040\n",
            "Epoch 3: val_accuracy improved from 0.79973 to 0.84812, saving model to weights.best.hdf5\n",
            "93/93 [==============================] - 0s 5ms/step - loss: 0.2569 - accuracy: 0.9019 - val_loss: 0.3901 - val_accuracy: 0.8481\n",
            "Epoch 4/100\n",
            "86/93 [==========================>...] - ETA: 0s - loss: 0.1890 - accuracy: 0.9237\n",
            "Epoch 4: val_accuracy did not improve from 0.84812\n",
            "93/93 [==============================] - 0s 5ms/step - loss: 0.1881 - accuracy: 0.9234 - val_loss: 0.4039 - val_accuracy: 0.8454\n",
            "Epoch 5/100\n",
            "86/93 [==========================>...] - ETA: 0s - loss: 0.1183 - accuracy: 0.9528\n",
            "Epoch 5: val_accuracy improved from 0.84812 to 0.86290, saving model to weights.best.hdf5\n",
            "93/93 [==============================] - 0s 5ms/step - loss: 0.1202 - accuracy: 0.9516 - val_loss: 0.4285 - val_accuracy: 0.8629\n",
            "Epoch 6/100\n",
            "87/93 [===========================>..] - ETA: 0s - loss: 0.0855 - accuracy: 0.9619\n",
            "Epoch 6: val_accuracy improved from 0.86290 to 0.88306, saving model to weights.best.hdf5\n",
            "93/93 [==============================] - 0s 5ms/step - loss: 0.0866 - accuracy: 0.9610 - val_loss: 0.3608 - val_accuracy: 0.8831\n",
            "Epoch 7/100\n",
            "93/93 [==============================] - ETA: 0s - loss: 0.0968 - accuracy: 0.9590\n",
            "Epoch 7: val_accuracy did not improve from 0.88306\n",
            "93/93 [==============================] - 0s 5ms/step - loss: 0.0968 - accuracy: 0.9590 - val_loss: 0.4478 - val_accuracy: 0.8642\n",
            "Epoch 8/100\n",
            "87/93 [===========================>..] - ETA: 0s - loss: 0.0978 - accuracy: 0.9573\n",
            "Epoch 8: val_accuracy did not improve from 0.88306\n",
            "93/93 [==============================] - 0s 4ms/step - loss: 0.0994 - accuracy: 0.9563 - val_loss: 0.5944 - val_accuracy: 0.8414\n",
            "Epoch 9/100\n",
            "87/93 [===========================>..] - ETA: 0s - loss: 0.1043 - accuracy: 0.9591\n",
            "Epoch 9: val_accuracy did not improve from 0.88306\n",
            "93/93 [==============================] - 0s 4ms/step - loss: 0.1024 - accuracy: 0.9597 - val_loss: 0.4833 - val_accuracy: 0.8737\n",
            "Epoch 10/100\n",
            "88/93 [===========================>..] - ETA: 0s - loss: 0.0795 - accuracy: 0.9659\n",
            "Epoch 10: val_accuracy did not improve from 0.88306\n",
            "93/93 [==============================] - 0s 4ms/step - loss: 0.0799 - accuracy: 0.9657 - val_loss: 0.3924 - val_accuracy: 0.8737\n",
            "Epoch 11/100\n",
            "86/93 [==========================>...] - ETA: 0s - loss: 0.0677 - accuracy: 0.9677\n",
            "Epoch 11: val_accuracy did not improve from 0.88306\n",
            "93/93 [==============================] - 0s 4ms/step - loss: 0.0679 - accuracy: 0.9671 - val_loss: 0.4087 - val_accuracy: 0.8656\n",
            "Epoch 12/100\n",
            "87/93 [===========================>..] - ETA: 0s - loss: 0.0499 - accuracy: 0.9774\n",
            "Epoch 12: val_accuracy did not improve from 0.88306\n",
            "93/93 [==============================] - 0s 5ms/step - loss: 0.0489 - accuracy: 0.9778 - val_loss: 0.3969 - val_accuracy: 0.8804\n",
            "Epoch 13/100\n",
            "85/93 [==========================>...] - ETA: 0s - loss: 0.0448 - accuracy: 0.9783\n",
            "Epoch 13: val_accuracy improved from 0.88306 to 0.88441, saving model to weights.best.hdf5\n",
            "93/93 [==============================] - 0s 5ms/step - loss: 0.0450 - accuracy: 0.9778 - val_loss: 0.3839 - val_accuracy: 0.8844\n",
            "Epoch 14/100\n",
            "85/93 [==========================>...] - ETA: 0s - loss: 0.0426 - accuracy: 0.9772\n",
            "Epoch 14: val_accuracy improved from 0.88441 to 0.88978, saving model to weights.best.hdf5\n",
            "93/93 [==============================] - 0s 5ms/step - loss: 0.0433 - accuracy: 0.9765 - val_loss: 0.3873 - val_accuracy: 0.8898\n",
            "Epoch 15/100\n",
            "88/93 [===========================>..] - ETA: 0s - loss: 0.0421 - accuracy: 0.9780\n",
            "Epoch 15: val_accuracy did not improve from 0.88978\n",
            "93/93 [==============================] - 0s 4ms/step - loss: 0.0433 - accuracy: 0.9782 - val_loss: 0.3900 - val_accuracy: 0.8884\n",
            "Epoch 16/100\n",
            "86/93 [==========================>...] - ETA: 0s - loss: 0.0443 - accuracy: 0.9778\n",
            "Epoch 16: val_accuracy improved from 0.88978 to 0.89113, saving model to weights.best.hdf5\n",
            "93/93 [==============================] - 0s 5ms/step - loss: 0.0429 - accuracy: 0.9782 - val_loss: 0.3938 - val_accuracy: 0.8911\n",
            "Epoch 17/100\n",
            "87/93 [===========================>..] - ETA: 0s - loss: 0.0429 - accuracy: 0.9784\n",
            "Epoch 17: val_accuracy did not improve from 0.89113\n",
            "93/93 [==============================] - 0s 5ms/step - loss: 0.0429 - accuracy: 0.9782 - val_loss: 0.3973 - val_accuracy: 0.8898\n",
            "Epoch 18/100\n",
            "87/93 [===========================>..] - ETA: 0s - loss: 0.0406 - accuracy: 0.9788\n",
            "Epoch 18: val_accuracy did not improve from 0.89113\n",
            "93/93 [==============================] - 1s 6ms/step - loss: 0.0429 - accuracy: 0.9782 - val_loss: 0.4019 - val_accuracy: 0.8898\n",
            "Epoch 19/100\n",
            "89/93 [===========================>..] - ETA: 0s - loss: 0.0437 - accuracy: 0.9772\n",
            "Epoch 19: val_accuracy did not improve from 0.89113\n",
            "93/93 [==============================] - 1s 7ms/step - loss: 0.0429 - accuracy: 0.9775 - val_loss: 0.4048 - val_accuracy: 0.8884\n",
            "Epoch 20/100\n",
            "80/93 [========================>.....] - ETA: 0s - loss: 0.0423 - accuracy: 0.9773\n",
            "Epoch 20: val_accuracy did not improve from 0.89113\n",
            "93/93 [==============================] - 0s 5ms/step - loss: 0.0428 - accuracy: 0.9775 - val_loss: 0.4076 - val_accuracy: 0.8898\n",
            "Epoch 21/100\n",
            "87/93 [===========================>..] - ETA: 0s - loss: 0.0416 - accuracy: 0.9777\n",
            "Epoch 21: val_accuracy did not improve from 0.89113\n",
            "93/93 [==============================] - 0s 5ms/step - loss: 0.0428 - accuracy: 0.9772 - val_loss: 0.4125 - val_accuracy: 0.8884\n",
            "Epoch 22/100\n",
            "88/93 [===========================>..] - ETA: 0s - loss: 0.0425 - accuracy: 0.9790\n",
            "Epoch 22: val_accuracy did not improve from 0.89113\n",
            "93/93 [==============================] - 0s 4ms/step - loss: 0.0428 - accuracy: 0.9785 - val_loss: 0.4147 - val_accuracy: 0.8898\n",
            "Epoch 23/100\n",
            "83/93 [=========================>....] - ETA: 0s - loss: 0.0453 - accuracy: 0.9759\n",
            "Epoch 23: val_accuracy improved from 0.89113 to 0.89247, saving model to weights.best.hdf5\n",
            "93/93 [==============================] - 1s 6ms/step - loss: 0.0427 - accuracy: 0.9772 - val_loss: 0.4166 - val_accuracy: 0.8925\n",
            "Epoch 24/100\n",
            "92/93 [============================>.] - ETA: 0s - loss: 0.0427 - accuracy: 0.9783\n",
            "Epoch 24: val_accuracy did not improve from 0.89247\n",
            "93/93 [==============================] - 1s 5ms/step - loss: 0.0427 - accuracy: 0.9782 - val_loss: 0.4193 - val_accuracy: 0.8911\n",
            "Epoch 25/100\n",
            "86/93 [==========================>...] - ETA: 0s - loss: 0.0427 - accuracy: 0.9771\n",
            "Epoch 25: val_accuracy did not improve from 0.89247\n",
            "93/93 [==============================] - 1s 6ms/step - loss: 0.0428 - accuracy: 0.9768 - val_loss: 0.4221 - val_accuracy: 0.8911\n",
            "Epoch 26/100\n",
            "86/93 [==========================>...] - ETA: 0s - loss: 0.0429 - accuracy: 0.9786\n",
            "Epoch 26: val_accuracy did not improve from 0.89247\n",
            "93/93 [==============================] - 1s 6ms/step - loss: 0.0426 - accuracy: 0.9782 - val_loss: 0.4232 - val_accuracy: 0.8911\n",
            "Epoch 27/100\n",
            "86/93 [==========================>...] - ETA: 0s - loss: 0.0434 - accuracy: 0.9760\n",
            "Epoch 27: val_accuracy did not improve from 0.89247\n",
            "93/93 [==============================] - 0s 5ms/step - loss: 0.0427 - accuracy: 0.9765 - val_loss: 0.4262 - val_accuracy: 0.8898\n",
            "Epoch 28/100\n",
            "93/93 [==============================] - ETA: 0s - loss: 0.0428 - accuracy: 0.9775\n",
            "Epoch 28: val_accuracy did not improve from 0.89247\n",
            "93/93 [==============================] - 0s 5ms/step - loss: 0.0428 - accuracy: 0.9775 - val_loss: 0.4281 - val_accuracy: 0.8898\n",
            "Epoch 29/100\n",
            "84/93 [==========================>...] - ETA: 0s - loss: 0.0407 - accuracy: 0.9766\n",
            "Epoch 29: val_accuracy did not improve from 0.89247\n",
            "93/93 [==============================] - 0s 5ms/step - loss: 0.0428 - accuracy: 0.9758 - val_loss: 0.4316 - val_accuracy: 0.8898\n",
            "Epoch 30/100\n",
            "93/93 [==============================] - ETA: 0s - loss: 0.0427 - accuracy: 0.9785\n",
            "Epoch 30: val_accuracy did not improve from 0.89247\n",
            "93/93 [==============================] - 1s 5ms/step - loss: 0.0427 - accuracy: 0.9785 - val_loss: 0.4339 - val_accuracy: 0.8884\n",
            "Epoch 31/100\n",
            "90/93 [============================>.] - ETA: 0s - loss: 0.0431 - accuracy: 0.9785\n",
            "Epoch 31: val_accuracy did not improve from 0.89247\n",
            "93/93 [==============================] - 0s 5ms/step - loss: 0.0427 - accuracy: 0.9785 - val_loss: 0.4357 - val_accuracy: 0.8884\n",
            "Epoch 32/100\n",
            "92/93 [============================>.] - ETA: 0s - loss: 0.0428 - accuracy: 0.9772\n",
            "Epoch 32: val_accuracy did not improve from 0.89247\n",
            "93/93 [==============================] - 0s 5ms/step - loss: 0.0427 - accuracy: 0.9775 - val_loss: 0.4371 - val_accuracy: 0.8884\n",
            "Epoch 33/100\n",
            "82/93 [=========================>....] - ETA: 0s - loss: 0.0428 - accuracy: 0.9771\n",
            "Epoch 33: val_accuracy did not improve from 0.89247\n",
            "93/93 [==============================] - 0s 5ms/step - loss: 0.0427 - accuracy: 0.9768 - val_loss: 0.4408 - val_accuracy: 0.8884\n",
            "Epoch 34/100\n",
            "81/93 [=========================>....] - ETA: 0s - loss: 0.0444 - accuracy: 0.9765\n",
            "Epoch 34: val_accuracy did not improve from 0.89247\n",
            "93/93 [==============================] - 0s 5ms/step - loss: 0.0426 - accuracy: 0.9772 - val_loss: 0.4425 - val_accuracy: 0.8884\n",
            "Epoch 35/100\n",
            "82/93 [=========================>....] - ETA: 0s - loss: 0.0428 - accuracy: 0.9779\n",
            "Epoch 35: val_accuracy did not improve from 0.89247\n",
            "93/93 [==============================] - 0s 5ms/step - loss: 0.0426 - accuracy: 0.9778 - val_loss: 0.4454 - val_accuracy: 0.8884\n",
            "Epoch 36/100\n",
            "88/93 [===========================>..] - ETA: 0s - loss: 0.0422 - accuracy: 0.9776\n",
            "Epoch 36: val_accuracy did not improve from 0.89247\n",
            "93/93 [==============================] - 0s 4ms/step - loss: 0.0427 - accuracy: 0.9768 - val_loss: 0.4461 - val_accuracy: 0.8911\n",
            "Epoch 37/100\n",
            "90/93 [============================>.] - ETA: 0s - loss: 0.0425 - accuracy: 0.9785\n",
            "Epoch 37: val_accuracy did not improve from 0.89247\n",
            "93/93 [==============================] - 0s 4ms/step - loss: 0.0427 - accuracy: 0.9782 - val_loss: 0.4476 - val_accuracy: 0.8871\n",
            "Epoch 38/100\n",
            "93/93 [==============================] - ETA: 0s - loss: 0.0427 - accuracy: 0.9778\n",
            "Epoch 38: val_accuracy did not improve from 0.89247\n",
            "93/93 [==============================] - 0s 4ms/step - loss: 0.0427 - accuracy: 0.9778 - val_loss: 0.4505 - val_accuracy: 0.8884\n",
            "Epoch 39/100\n",
            "83/93 [=========================>....] - ETA: 0s - loss: 0.0426 - accuracy: 0.9782\n",
            "Epoch 39: val_accuracy did not improve from 0.89247\n",
            "93/93 [==============================] - 0s 4ms/step - loss: 0.0426 - accuracy: 0.9785 - val_loss: 0.4524 - val_accuracy: 0.8871\n",
            "Epoch 40/100\n",
            "84/93 [==========================>...] - ETA: 0s - loss: 0.0432 - accuracy: 0.9762\n",
            "Epoch 40: val_accuracy did not improve from 0.89247\n",
            "93/93 [==============================] - 0s 4ms/step - loss: 0.0426 - accuracy: 0.9765 - val_loss: 0.4536 - val_accuracy: 0.8871\n",
            "Epoch 41/100\n",
            "93/93 [==============================] - ETA: 0s - loss: 0.0427 - accuracy: 0.9768\n",
            "Epoch 41: val_accuracy did not improve from 0.89247\n",
            "93/93 [==============================] - 0s 4ms/step - loss: 0.0427 - accuracy: 0.9768 - val_loss: 0.4566 - val_accuracy: 0.8871\n",
            "Epoch 42/100\n",
            "87/93 [===========================>..] - ETA: 0s - loss: 0.0430 - accuracy: 0.9752\n",
            "Epoch 42: val_accuracy did not improve from 0.89247\n",
            "93/93 [==============================] - 0s 4ms/step - loss: 0.0429 - accuracy: 0.9751 - val_loss: 0.4569 - val_accuracy: 0.8898\n",
            "Epoch 43/100\n",
            "92/93 [============================>.] - ETA: 0s - loss: 0.0421 - accuracy: 0.9789\n",
            "Epoch 43: val_accuracy did not improve from 0.89247\n",
            "93/93 [==============================] - 0s 4ms/step - loss: 0.0426 - accuracy: 0.9788 - val_loss: 0.4612 - val_accuracy: 0.8871\n",
            "Epoch 44/100\n",
            "91/93 [============================>.] - ETA: 0s - loss: 0.0415 - accuracy: 0.9794\n",
            "Epoch 44: val_accuracy did not improve from 0.89247\n",
            "93/93 [==============================] - 0s 4ms/step - loss: 0.0426 - accuracy: 0.9785 - val_loss: 0.4626 - val_accuracy: 0.8884\n",
            "Epoch 45/100\n",
            "87/93 [===========================>..] - ETA: 0s - loss: 0.0413 - accuracy: 0.9781\n",
            "Epoch 45: val_accuracy did not improve from 0.89247\n",
            "93/93 [==============================] - 0s 4ms/step - loss: 0.0426 - accuracy: 0.9775 - val_loss: 0.4632 - val_accuracy: 0.8871\n",
            "Epoch 46/100\n",
            "88/93 [===========================>..] - ETA: 0s - loss: 0.0432 - accuracy: 0.9769\n",
            "Epoch 46: val_accuracy did not improve from 0.89247\n",
            "93/93 [==============================] - 0s 4ms/step - loss: 0.0427 - accuracy: 0.9768 - val_loss: 0.4657 - val_accuracy: 0.8884\n",
            "Epoch 47/100\n",
            "84/93 [==========================>...] - ETA: 0s - loss: 0.0439 - accuracy: 0.9784\n",
            "Epoch 47: val_accuracy did not improve from 0.89247\n",
            "93/93 [==============================] - 0s 4ms/step - loss: 0.0426 - accuracy: 0.9788 - val_loss: 0.4674 - val_accuracy: 0.8871\n",
            "Epoch 48/100\n",
            "82/93 [=========================>....] - ETA: 0s - loss: 0.0428 - accuracy: 0.9783\n",
            "Epoch 48: val_accuracy did not improve from 0.89247\n",
            "93/93 [==============================] - 0s 5ms/step - loss: 0.0427 - accuracy: 0.9785 - val_loss: 0.4680 - val_accuracy: 0.8884\n",
            "Epoch 49/100\n",
            "88/93 [===========================>..] - ETA: 0s - loss: 0.0426 - accuracy: 0.9787\n",
            "Epoch 49: val_accuracy did not improve from 0.89247\n",
            "93/93 [==============================] - 0s 4ms/step - loss: 0.0426 - accuracy: 0.9785 - val_loss: 0.4704 - val_accuracy: 0.8871\n",
            "Epoch 50/100\n",
            "86/93 [==========================>...] - ETA: 0s - loss: 0.0425 - accuracy: 0.9789\n",
            "Epoch 50: val_accuracy did not improve from 0.89247\n",
            "93/93 [==============================] - 0s 5ms/step - loss: 0.0426 - accuracy: 0.9785 - val_loss: 0.4741 - val_accuracy: 0.8844\n",
            "Epoch 51/100\n",
            "93/93 [==============================] - ETA: 0s - loss: 0.0431 - accuracy: 0.9782\n",
            "Epoch 51: val_accuracy did not improve from 0.89247\n",
            "93/93 [==============================] - 0s 5ms/step - loss: 0.0431 - accuracy: 0.9782 - val_loss: 0.4812 - val_accuracy: 0.8858\n",
            "Epoch 52/100\n",
            "86/93 [==========================>...] - ETA: 0s - loss: 0.0418 - accuracy: 0.9789\n",
            "Epoch 52: val_accuracy did not improve from 0.89247\n",
            "93/93 [==============================] - 0s 5ms/step - loss: 0.0428 - accuracy: 0.9785 - val_loss: 0.4805 - val_accuracy: 0.8858\n",
            "Epoch 53/100\n",
            "85/93 [==========================>...] - ETA: 0s - loss: 0.0443 - accuracy: 0.9772\n",
            "Epoch 53: val_accuracy did not improve from 0.89247\n",
            "93/93 [==============================] - 0s 5ms/step - loss: 0.0425 - accuracy: 0.9785 - val_loss: 0.4798 - val_accuracy: 0.8858\n",
            "Epoch 54/100\n",
            "84/93 [==========================>...] - ETA: 0s - loss: 0.0440 - accuracy: 0.9781\n",
            "Epoch 54: val_accuracy did not improve from 0.89247\n",
            "93/93 [==============================] - 0s 4ms/step - loss: 0.0426 - accuracy: 0.9785 - val_loss: 0.4839 - val_accuracy: 0.8858\n",
            "Epoch 55/100\n",
            "89/93 [===========================>..] - ETA: 0s - loss: 0.0415 - accuracy: 0.9779\n",
            "Epoch 55: val_accuracy did not improve from 0.89247\n",
            "93/93 [==============================] - 0s 4ms/step - loss: 0.0427 - accuracy: 0.9772 - val_loss: 0.4839 - val_accuracy: 0.8844\n",
            "Epoch 56/100\n",
            "90/93 [============================>.] - ETA: 0s - loss: 0.0412 - accuracy: 0.9795\n",
            "Epoch 56: val_accuracy did not improve from 0.89247\n",
            "93/93 [==============================] - 0s 4ms/step - loss: 0.0426 - accuracy: 0.9785 - val_loss: 0.4863 - val_accuracy: 0.8858\n",
            "Epoch 57/100\n",
            "93/93 [==============================] - ETA: 0s - loss: 0.0426 - accuracy: 0.9785\n",
            "Epoch 57: val_accuracy did not improve from 0.89247\n",
            "93/93 [==============================] - 0s 4ms/step - loss: 0.0426 - accuracy: 0.9785 - val_loss: 0.4906 - val_accuracy: 0.8871\n",
            "Epoch 58/100\n",
            "89/93 [===========================>..] - ETA: 0s - loss: 0.0442 - accuracy: 0.9768\n",
            "Epoch 58: val_accuracy did not improve from 0.89247\n",
            "93/93 [==============================] - 0s 4ms/step - loss: 0.0427 - accuracy: 0.9778 - val_loss: 0.4889 - val_accuracy: 0.8871\n",
            "Epoch 59/100\n",
            "82/93 [=========================>....] - ETA: 0s - loss: 0.0435 - accuracy: 0.9790\n",
            "Epoch 59: val_accuracy did not improve from 0.89247\n",
            "93/93 [==============================] - 0s 5ms/step - loss: 0.0426 - accuracy: 0.9785 - val_loss: 0.4911 - val_accuracy: 0.8858\n",
            "Epoch 60/100\n",
            "91/93 [============================>.] - ETA: 0s - loss: 0.0419 - accuracy: 0.9791\n",
            "Epoch 60: val_accuracy did not improve from 0.89247\n",
            "93/93 [==============================] - 0s 4ms/step - loss: 0.0425 - accuracy: 0.9785 - val_loss: 0.4941 - val_accuracy: 0.8858\n",
            "Epoch 61/100\n",
            "88/93 [===========================>..] - ETA: 0s - loss: 0.0442 - accuracy: 0.9769\n",
            "Epoch 61: val_accuracy did not improve from 0.89247\n",
            "93/93 [==============================] - 0s 4ms/step - loss: 0.0427 - accuracy: 0.9778 - val_loss: 0.4949 - val_accuracy: 0.8858\n",
            "Epoch 62/100\n",
            "93/93 [==============================] - ETA: 0s - loss: 0.0427 - accuracy: 0.9785\n",
            "Epoch 62: val_accuracy did not improve from 0.89247\n",
            "93/93 [==============================] - 0s 5ms/step - loss: 0.0427 - accuracy: 0.9785 - val_loss: 0.4961 - val_accuracy: 0.8858\n",
            "Epoch 63/100\n",
            "82/93 [=========================>....] - ETA: 0s - loss: 0.0412 - accuracy: 0.9794\n",
            "Epoch 63: val_accuracy did not improve from 0.89247\n",
            "93/93 [==============================] - 0s 5ms/step - loss: 0.0425 - accuracy: 0.9785 - val_loss: 0.4983 - val_accuracy: 0.8858\n",
            "Epoch 64/100\n",
            "83/93 [=========================>....] - ETA: 0s - loss: 0.0434 - accuracy: 0.9778\n",
            "Epoch 64: val_accuracy did not improve from 0.89247\n",
            "93/93 [==============================] - 0s 5ms/step - loss: 0.0426 - accuracy: 0.9785 - val_loss: 0.5003 - val_accuracy: 0.8858\n",
            "Epoch 65/100\n",
            "88/93 [===========================>..] - ETA: 0s - loss: 0.0399 - accuracy: 0.9801\n",
            "Epoch 65: val_accuracy did not improve from 0.89247\n",
            "93/93 [==============================] - 0s 4ms/step - loss: 0.0425 - accuracy: 0.9785 - val_loss: 0.5012 - val_accuracy: 0.8858\n",
            "Epoch 66/100\n",
            "86/93 [==========================>...] - ETA: 0s - loss: 0.0438 - accuracy: 0.9778\n",
            "Epoch 66: val_accuracy did not improve from 0.89247\n",
            "93/93 [==============================] - 0s 4ms/step - loss: 0.0425 - accuracy: 0.9785 - val_loss: 0.5038 - val_accuracy: 0.8858\n",
            "Epoch 67/100\n",
            "85/93 [==========================>...] - ETA: 0s - loss: 0.0426 - accuracy: 0.9787\n",
            "Epoch 67: val_accuracy did not improve from 0.89247\n",
            "93/93 [==============================] - 0s 4ms/step - loss: 0.0425 - accuracy: 0.9785 - val_loss: 0.5060 - val_accuracy: 0.8858\n",
            "Epoch 68/100\n",
            "82/93 [=========================>....] - ETA: 0s - loss: 0.0438 - accuracy: 0.9783\n",
            "Epoch 68: val_accuracy did not improve from 0.89247\n",
            "93/93 [==============================] - 0s 5ms/step - loss: 0.0426 - accuracy: 0.9785 - val_loss: 0.5079 - val_accuracy: 0.8858\n",
            "Epoch 69/100\n",
            "82/93 [=========================>....] - ETA: 0s - loss: 0.0424 - accuracy: 0.9760\n",
            "Epoch 69: val_accuracy did not improve from 0.89247\n",
            "93/93 [==============================] - 0s 5ms/step - loss: 0.0425 - accuracy: 0.9765 - val_loss: 0.5094 - val_accuracy: 0.8858\n",
            "Epoch 70/100\n",
            "83/93 [=========================>....] - ETA: 0s - loss: 0.0437 - accuracy: 0.9778\n",
            "Epoch 70: val_accuracy did not improve from 0.89247\n",
            "93/93 [==============================] - 0s 5ms/step - loss: 0.0426 - accuracy: 0.9785 - val_loss: 0.5101 - val_accuracy: 0.8858\n",
            "Epoch 71/100\n",
            "80/93 [========================>.....] - ETA: 0s - loss: 0.0454 - accuracy: 0.9770\n",
            "Epoch 71: val_accuracy did not improve from 0.89247\n",
            "93/93 [==============================] - 0s 5ms/step - loss: 0.0425 - accuracy: 0.9785 - val_loss: 0.5124 - val_accuracy: 0.8858\n",
            "Epoch 72/100\n",
            "92/93 [============================>.] - ETA: 0s - loss: 0.0426 - accuracy: 0.9783\n",
            "Epoch 72: val_accuracy did not improve from 0.89247\n",
            "93/93 [==============================] - 0s 5ms/step - loss: 0.0425 - accuracy: 0.9785 - val_loss: 0.5150 - val_accuracy: 0.8858\n",
            "Epoch 73/100\n",
            "93/93 [==============================] - ETA: 0s - loss: 0.0426 - accuracy: 0.9761\n",
            "Epoch 73: val_accuracy did not improve from 0.89247\n",
            "93/93 [==============================] - 0s 5ms/step - loss: 0.0426 - accuracy: 0.9761 - val_loss: 0.5149 - val_accuracy: 0.8858\n",
            "Epoch 74/100\n",
            "87/93 [===========================>..] - ETA: 0s - loss: 0.0427 - accuracy: 0.9784\n",
            "Epoch 74: val_accuracy did not improve from 0.89247\n",
            "93/93 [==============================] - 0s 4ms/step - loss: 0.0426 - accuracy: 0.9785 - val_loss: 0.5145 - val_accuracy: 0.8884\n",
            "Epoch 75/100\n",
            "87/93 [===========================>..] - ETA: 0s - loss: 0.0435 - accuracy: 0.9784\n",
            "Epoch 75: val_accuracy did not improve from 0.89247\n",
            "93/93 [==============================] - 0s 4ms/step - loss: 0.0426 - accuracy: 0.9785 - val_loss: 0.5190 - val_accuracy: 0.8858\n",
            "Epoch 76/100\n",
            "83/93 [=========================>....] - ETA: 0s - loss: 0.0449 - accuracy: 0.9736\n",
            "Epoch 76: val_accuracy did not improve from 0.89247\n",
            "93/93 [==============================] - 0s 4ms/step - loss: 0.0427 - accuracy: 0.9758 - val_loss: 0.5166 - val_accuracy: 0.8884\n",
            "Epoch 77/100\n",
            "87/93 [===========================>..] - ETA: 0s - loss: 0.0429 - accuracy: 0.9774\n",
            "Epoch 77: val_accuracy did not improve from 0.89247\n",
            "93/93 [==============================] - 0s 5ms/step - loss: 0.0425 - accuracy: 0.9775 - val_loss: 0.5187 - val_accuracy: 0.8871\n",
            "Epoch 78/100\n",
            "89/93 [===========================>..] - ETA: 0s - loss: 0.0429 - accuracy: 0.9779\n",
            "Epoch 78: val_accuracy did not improve from 0.89247\n",
            "93/93 [==============================] - 0s 5ms/step - loss: 0.0425 - accuracy: 0.9785 - val_loss: 0.5218 - val_accuracy: 0.8858\n",
            "Epoch 79/100\n",
            "89/93 [===========================>..] - ETA: 0s - loss: 0.0430 - accuracy: 0.9782\n",
            "Epoch 79: val_accuracy did not improve from 0.89247\n",
            "93/93 [==============================] - 0s 5ms/step - loss: 0.0425 - accuracy: 0.9785 - val_loss: 0.5229 - val_accuracy: 0.8858\n",
            "Epoch 80/100\n",
            "89/93 [===========================>..] - ETA: 0s - loss: 0.0410 - accuracy: 0.9786\n",
            "Epoch 80: val_accuracy did not improve from 0.89247\n",
            "93/93 [==============================] - 0s 5ms/step - loss: 0.0425 - accuracy: 0.9778 - val_loss: 0.5248 - val_accuracy: 0.8871\n",
            "Epoch 81/100\n",
            "91/93 [============================>.] - ETA: 0s - loss: 0.0429 - accuracy: 0.9784\n",
            "Epoch 81: val_accuracy did not improve from 0.89247\n",
            "93/93 [==============================] - 1s 10ms/step - loss: 0.0425 - accuracy: 0.9785 - val_loss: 0.5277 - val_accuracy: 0.8871\n",
            "Epoch 82/100\n",
            "89/93 [===========================>..] - ETA: 0s - loss: 0.0436 - accuracy: 0.9754\n",
            "Epoch 82: val_accuracy did not improve from 0.89247\n",
            "93/93 [==============================] - 1s 8ms/step - loss: 0.0425 - accuracy: 0.9765 - val_loss: 0.5288 - val_accuracy: 0.8871\n",
            "Epoch 83/100\n",
            "92/93 [============================>.] - ETA: 0s - loss: 0.0426 - accuracy: 0.9786\n",
            "Epoch 83: val_accuracy did not improve from 0.89247\n",
            "93/93 [==============================] - 1s 8ms/step - loss: 0.0425 - accuracy: 0.9785 - val_loss: 0.5320 - val_accuracy: 0.8884\n",
            "Epoch 84/100\n",
            "85/93 [==========================>...] - ETA: 0s - loss: 0.0441 - accuracy: 0.9779\n",
            "Epoch 84: val_accuracy did not improve from 0.89247\n",
            "93/93 [==============================] - 1s 8ms/step - loss: 0.0425 - accuracy: 0.9785 - val_loss: 0.5336 - val_accuracy: 0.8884\n",
            "Epoch 85/100\n",
            "88/93 [===========================>..] - ETA: 0s - loss: 0.0405 - accuracy: 0.9798\n",
            "Epoch 85: val_accuracy did not improve from 0.89247\n",
            "93/93 [==============================] - 1s 7ms/step - loss: 0.0425 - accuracy: 0.9785 - val_loss: 0.5341 - val_accuracy: 0.8871\n",
            "Epoch 86/100\n",
            "84/93 [==========================>...] - ETA: 0s - loss: 0.0424 - accuracy: 0.9784\n",
            "Epoch 86: val_accuracy did not improve from 0.89247\n",
            "93/93 [==============================] - 1s 7ms/step - loss: 0.0425 - accuracy: 0.9785 - val_loss: 0.5367 - val_accuracy: 0.8858\n",
            "Epoch 87/100\n",
            "82/93 [=========================>....] - ETA: 0s - loss: 0.0414 - accuracy: 0.9783\n",
            "Epoch 87: val_accuracy did not improve from 0.89247\n",
            "93/93 [==============================] - 0s 5ms/step - loss: 0.0425 - accuracy: 0.9785 - val_loss: 0.5382 - val_accuracy: 0.8858\n",
            "Epoch 88/100\n",
            "92/93 [============================>.] - ETA: 0s - loss: 0.0415 - accuracy: 0.9793\n",
            "Epoch 88: val_accuracy did not improve from 0.89247\n",
            "93/93 [==============================] - 0s 5ms/step - loss: 0.0425 - accuracy: 0.9785 - val_loss: 0.5402 - val_accuracy: 0.8871\n",
            "Epoch 89/100\n",
            "82/93 [=========================>....] - ETA: 0s - loss: 0.0401 - accuracy: 0.9802\n",
            "Epoch 89: val_accuracy did not improve from 0.89247\n",
            "93/93 [==============================] - 0s 5ms/step - loss: 0.0425 - accuracy: 0.9785 - val_loss: 0.5431 - val_accuracy: 0.8871\n",
            "Epoch 90/100\n",
            "85/93 [==========================>...] - ETA: 0s - loss: 0.0428 - accuracy: 0.9787\n",
            "Epoch 90: val_accuracy did not improve from 0.89247\n",
            "93/93 [==============================] - 0s 4ms/step - loss: 0.0425 - accuracy: 0.9785 - val_loss: 0.5440 - val_accuracy: 0.8844\n",
            "Epoch 91/100\n",
            "84/93 [==========================>...] - ETA: 0s - loss: 0.0411 - accuracy: 0.9795\n",
            "Epoch 91: val_accuracy did not improve from 0.89247\n",
            "93/93 [==============================] - 0s 5ms/step - loss: 0.0425 - accuracy: 0.9785 - val_loss: 0.5454 - val_accuracy: 0.8844\n",
            "Epoch 92/100\n",
            "93/93 [==============================] - ETA: 0s - loss: 0.0425 - accuracy: 0.9775\n",
            "Epoch 92: val_accuracy did not improve from 0.89247\n",
            "93/93 [==============================] - 0s 5ms/step - loss: 0.0425 - accuracy: 0.9775 - val_loss: 0.5456 - val_accuracy: 0.8858\n",
            "Epoch 93/100\n",
            "85/93 [==========================>...] - ETA: 0s - loss: 0.0420 - accuracy: 0.9787\n",
            "Epoch 93: val_accuracy did not improve from 0.89247\n",
            "93/93 [==============================] - 0s 4ms/step - loss: 0.0425 - accuracy: 0.9785 - val_loss: 0.5474 - val_accuracy: 0.8871\n",
            "Epoch 94/100\n",
            "92/93 [============================>.] - ETA: 0s - loss: 0.0425 - accuracy: 0.9786\n",
            "Epoch 94: val_accuracy did not improve from 0.89247\n",
            "93/93 [==============================] - 0s 4ms/step - loss: 0.0425 - accuracy: 0.9785 - val_loss: 0.5519 - val_accuracy: 0.8858\n",
            "Epoch 95/100\n",
            "84/93 [==========================>...] - ETA: 0s - loss: 0.0407 - accuracy: 0.9792\n",
            "Epoch 95: val_accuracy did not improve from 0.89247\n",
            "93/93 [==============================] - 0s 5ms/step - loss: 0.0425 - accuracy: 0.9785 - val_loss: 0.5532 - val_accuracy: 0.8898\n",
            "Epoch 96/100\n",
            "90/93 [============================>.] - ETA: 0s - loss: 0.0429 - accuracy: 0.9781\n",
            "Epoch 96: val_accuracy did not improve from 0.89247\n",
            "93/93 [==============================] - 0s 4ms/step - loss: 0.0424 - accuracy: 0.9785 - val_loss: 0.5542 - val_accuracy: 0.8858\n",
            "Epoch 97/100\n",
            "86/93 [==========================>...] - ETA: 0s - loss: 0.0390 - accuracy: 0.9800\n",
            "Epoch 97: val_accuracy did not improve from 0.89247\n",
            "93/93 [==============================] - 0s 4ms/step - loss: 0.0424 - accuracy: 0.9785 - val_loss: 0.5553 - val_accuracy: 0.8884\n",
            "Epoch 98/100\n",
            "87/93 [===========================>..] - ETA: 0s - loss: 0.0439 - accuracy: 0.9781\n",
            "Epoch 98: val_accuracy did not improve from 0.89247\n",
            "93/93 [==============================] - 0s 4ms/step - loss: 0.0425 - accuracy: 0.9785 - val_loss: 0.5593 - val_accuracy: 0.8898\n",
            "Epoch 99/100\n",
            "82/93 [=========================>....] - ETA: 0s - loss: 0.0448 - accuracy: 0.9771\n",
            "Epoch 99: val_accuracy did not improve from 0.89247\n",
            "93/93 [==============================] - 0s 5ms/step - loss: 0.0424 - accuracy: 0.9785 - val_loss: 0.5608 - val_accuracy: 0.8884\n",
            "Epoch 100/100\n",
            "83/93 [=========================>....] - ETA: 0s - loss: 0.0424 - accuracy: 0.9782\n",
            "Epoch 100: val_accuracy did not improve from 0.89247\n",
            "93/93 [==============================] - 0s 5ms/step - loss: 0.0424 - accuracy: 0.9785 - val_loss: 0.5630 - val_accuracy: 0.8871\n"
          ]
        }
      ]
    },
    {
      "cell_type": "code",
      "source": [
        "# Plot training & validation accuracy and loss values in the same figure (1 row, 2 columns)\n",
        "fig, (ax1, ax2) = plt.subplots(1, 2, figsize=(15, 5))\n",
        "ax1.plot(history.history['accuracy'], label='Training accuracy')\n",
        "ax1.plot(history.history['val_accuracy'], label='Validation accuracy')\n",
        "ax1.set_title('Model accuracy')\n",
        "ax1.set_ylabel('Accuracy')\n",
        "ax1.set_xlabel('Epoch')\n",
        "ax1.legend(loc='upper left')\n",
        "ax2.plot(history.history['loss'], label='Training loss')\n",
        "ax2.plot(history.history['val_loss'], label='Validation loss')\n",
        "ax2.set_title('Model loss')\n",
        "ax2.set_ylabel('Loss')\n",
        "ax2.set_xlabel('Epoch')\n",
        "ax2.legend(loc='upper left')\n",
        "plt.tight_layout()\n",
        "plt.show()"
      ],
      "metadata": {
        "colab": {
          "base_uri": "https://localhost:8080/",
          "height": 369
        },
        "id": "7GVMAacRKcK5",
        "outputId": "be0dc017-8541-4eed-8b89-ac51067c668c"
      },
      "execution_count": 18,
      "outputs": [
        {
          "output_type": "display_data",
          "data": {
            "text/plain": [
              "<Figure size 1080x360 with 2 Axes>"
            ],
            "image/png": "[encoded data removed]"
          },
          "metadata": {
            "needs_background": "light"
          }
        }
      ]
    },
    {
      "cell_type": "code",
      "source": [
        "# Load the best model\n",
        "classifier.load_weights(filepath)"
      ],
      "metadata": {
        "id": "M6RmG_ZJKAf-"
      },
      "execution_count": 19,
      "outputs": []
    },
    {
      "cell_type": "markdown",
      "source": [
        "## Evaluating the model"
      ],
      "metadata": {
        "id": "5jepJZO4KB1i"
      }
    },
    {
      "cell_type": "code",
      "source": [
        "# Print the accuracy\n",
        "score = classifier.evaluate(X_test, y_test, verbose=0)\n",
        "print('Test accuracy:', score[1])"
      ],
      "metadata": {
        "colab": {
          "base_uri": "https://localhost:8080/"
        },
        "id": "fSSPaghpKD9l",
        "outputId": "b43eb7da-9b1f-4312-eb9b-826d4439f619"
      },
      "execution_count": 20,
      "outputs": [
        {
          "output_type": "stream",
          "name": "stdout",
          "text": [
            "Test accuracy: 0.8924731016159058\n"
          ]
        }
      ]
    },
    {
      "cell_type": "code",
      "source": [
        "# Print the confusion matrix with labels names\n",
        "from sklearn.metrics import confusion_matrix\n",
        "import seaborn as sns\n",
        "import matplotlib.pyplot as plt\n",
        "\n",
        "y_pred = classifier.predict(X_test)\n",
        "y_pred = np.argmax(y_pred, axis=1)\n",
        "\n",
        "cm = confusion_matrix(y_test, y_pred)\n",
        "cm = pd.DataFrame(cm, index=le.classes_, columns=le.classes_)\n",
        "plt.figure(figsize=(10, 10))\n",
        "sns.heatmap(cm, annot=True, fmt=\"d\")\n",
        "plt.title(\"Confusion matrix\")\n",
        "plt.ylabel('True label')\n",
        "plt.xlabel('Predicted label')\n",
        "plt.show()"
      ],
      "metadata": {
        "id": "sahtG4NdOx2K",
        "outputId": "b4d720e1-d010-4a08-8950-2489703f561b",
        "colab": {
          "base_uri": "https://localhost:8080/",
          "height": 638
        }
      },
      "execution_count": 21,
      "outputs": [
        {
          "output_type": "stream",
          "name": "stdout",
          "text": [
            "24/24 [==============================] - 0s 2ms/step\n"
          ]
        },
        {
          "output_type": "display_data",
          "data": {
            "text/plain": [
              "<Figure size 720x720 with 2 Axes>"
            ],
            "image/png": "[encoded data removed]"
          },
          "metadata": {
            "needs_background": "light"
          }
        }
      ]
    },
    {
      "cell_type": "markdown",
      "source": [
        "## Interpreting the model"
      ],
      "metadata": {
        "id": "YrbhZqRzL2Pk"
      }
    },
    {
      "cell_type": "code",
      "source": [
        "# Understanding the most important features for the model\n",
        "from keras import backend as K\n",
        "import matplotlib.pyplot as plt\n",
        "\n",
        "# Get the weights of the first layer\n",
        "weights = classifier.layers[0].get_weights()[0]\n",
        "\n",
        "# Get the mean of the weights for each feature\n",
        "mean_weights = np.mean(weights, axis=1)\n",
        "\n",
        "# Plot very nicely the mean of the weights for each feature in a bar chart with the feature names\n",
        "plt.figure(figsize=(15, 5))\n",
        "plt.title('Mean of the weights for each feature in the first layer')\n",
        "plt.bar(df.columns[3:-1], mean_weights)\n",
        "plt.xticks(rotation=90)\n",
        "plt.show()"
      ],
      "metadata": {
        "id": "uPo8DgzuL6L1"
      },
      "execution_count": null,
      "outputs": []
    }
  ]
}