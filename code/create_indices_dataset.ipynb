{
  "cells": [
    {
      "attachments": {},
      "cell_type": "markdown",
      "metadata": {
        "id": "qhDRNUJYfrV4"
      },
      "source": [
        "# Create an acoustic indices representation of audio\n",
        "ToDo: You need to adapt to your own environment\n",
        "\n"
      ]
    },
    {
      "cell_type": "markdown",
      "metadata": {
        "id": "HxLfn6z3gGZL"
      },
      "source": [
        "## Loading the audio"
      ]
    },
    {
      "cell_type": "code",
      "execution_count": null,
      "metadata": {
        "colab": {
          "base_uri": "https://localhost:8080/"
        },
        "id": "YpG-wEPFOh3e",
        "outputId": "055c8166-169b-4a46-8379-46acb13154ac"
      },
      "outputs": [
        {
          "name": "stdout",
          "output_type": "stream",
          "text": [
            "Mounted at /content/drive\n"
          ]
        }
      ],
      "source": [
        "# ToDo\n",
        "# Ex. Mount Google Drive\n",
        "#   from google.colab import drive\n",
        "#   drive.mount('/content/drive')"
      ]
    },
    {
      "cell_type": "markdown",
      "metadata": {
        "id": "i4v3EWhmTwTj"
      },
      "source": [
        "## Setting up the coding environment"
      ]
    },
    {
      "cell_type": "markdown",
      "metadata": {
        "id": "HSB7XU_OUSqC"
      },
      "source": [
        "### Installing external packages"
      ]
    },
    {
      "cell_type": "code",
      "execution_count": null,
      "metadata": {
        "colab": {
          "base_uri": "https://localhost:8080/"
        },
        "id": "NpFNnuo5UBsu",
        "outputId": "fcd2851a-8c97-47f4-c8f9-cf21b1a620be"
      },
      "outputs": [
        {
          "name": "stdout",
          "output_type": "stream",
          "text": [
            "Looking in indexes: https://pypi.org/simple, https://us-python.pkg.dev/colab-wheels/public/simple/\n",
            "Collecting scikit-maad\n",
            "  Downloading scikit_maad-1.3.12-py3-none-any.whl (142 kB)\n",
            "\u001b[2K     \u001b[90m━━━━━━━━━━━━━━━━━━━━━━━━━━━━━━━━━━━━━━━\u001b[0m \u001b[32m142.4/142.4 KB\u001b[0m \u001b[31m5.1 MB/s\u001b[0m eta \u001b[36m0:00:00\u001b[0m\n",
            "\u001b[?25hRequirement already satisfied: pandas>=1.1 in /usr/local/lib/python3.8/dist-packages (from scikit-maad) (1.3.5)\n",
            "Requirement already satisfied: resampy>=0.2 in /usr/local/lib/python3.8/dist-packages (from scikit-maad) (0.4.2)\n",
            "Requirement already satisfied: scikit-image>=0.17 in /usr/local/lib/python3.8/dist-packages (from scikit-maad) (0.18.3)\n",
            "Requirement already satisfied: numpy>=1.19 in /usr/local/lib/python3.8/dist-packages (from scikit-maad) (1.22.4)\n",
            "Requirement already satisfied: scipy>=1.5 in /usr/local/lib/python3.8/dist-packages (from scikit-maad) (1.7.3)\n",
            "Requirement already satisfied: python-dateutil>=2.7.3 in /usr/local/lib/python3.8/dist-packages (from pandas>=1.1->scikit-maad) (2.8.2)\n",
            "Requirement already satisfied: pytz>=2017.3 in /usr/local/lib/python3.8/dist-packages (from pandas>=1.1->scikit-maad) (2022.7.1)\n",
            "Requirement already satisfied: numba>=0.53 in /usr/local/lib/python3.8/dist-packages (from resampy>=0.2->scikit-maad) (0.56.4)\n",
            "Requirement already satisfied: tifffile>=2019.7.26 in /usr/local/lib/python3.8/dist-packages (from scikit-image>=0.17->scikit-maad) (2023.2.3)\n",
            "Requirement already satisfied: PyWavelets>=1.1.1 in /usr/local/lib/python3.8/dist-packages (from scikit-image>=0.17->scikit-maad) (1.4.1)\n",
            "Requirement already satisfied: networkx>=2.0 in /usr/local/lib/python3.8/dist-packages (from scikit-image>=0.17->scikit-maad) (3.0)\n",
            "Requirement already satisfied: matplotlib!=3.0.0,>=2.0.0 in /usr/local/lib/python3.8/dist-packages (from scikit-image>=0.17->scikit-maad) (3.5.3)\n",
            "Requirement already satisfied: pillow!=7.1.0,!=7.1.1,>=4.3.0 in /usr/local/lib/python3.8/dist-packages (from scikit-image>=0.17->scikit-maad) (7.1.2)\n",
            "Requirement already satisfied: imageio>=2.3.0 in /usr/local/lib/python3.8/dist-packages (from scikit-image>=0.17->scikit-maad) (2.9.0)\n",
            "Requirement already satisfied: cycler>=0.10 in /usr/local/lib/python3.8/dist-packages (from matplotlib!=3.0.0,>=2.0.0->scikit-image>=0.17->scikit-maad) (0.11.0)\n",
            "Requirement already satisfied: fonttools>=4.22.0 in /usr/local/lib/python3.8/dist-packages (from matplotlib!=3.0.0,>=2.0.0->scikit-image>=0.17->scikit-maad) (4.38.0)\n",
            "Requirement already satisfied: packaging>=20.0 in /usr/local/lib/python3.8/dist-packages (from matplotlib!=3.0.0,>=2.0.0->scikit-image>=0.17->scikit-maad) (23.0)\n",
            "Requirement already satisfied: pyparsing>=2.2.1 in /usr/local/lib/python3.8/dist-packages (from matplotlib!=3.0.0,>=2.0.0->scikit-image>=0.17->scikit-maad) (3.0.9)\n",
            "Requirement already satisfied: kiwisolver>=1.0.1 in /usr/local/lib/python3.8/dist-packages (from matplotlib!=3.0.0,>=2.0.0->scikit-image>=0.17->scikit-maad) (1.4.4)\n",
            "Requirement already satisfied: setuptools in /usr/local/lib/python3.8/dist-packages (from numba>=0.53->resampy>=0.2->scikit-maad) (57.4.0)\n",
            "Requirement already satisfied: importlib-metadata in /usr/local/lib/python3.8/dist-packages (from numba>=0.53->resampy>=0.2->scikit-maad) (6.0.0)\n",
            "Requirement already satisfied: llvmlite<0.40,>=0.39.0dev0 in /usr/local/lib/python3.8/dist-packages (from numba>=0.53->resampy>=0.2->scikit-maad) (0.39.1)\n",
            "Requirement already satisfied: six>=1.5 in /usr/local/lib/python3.8/dist-packages (from python-dateutil>=2.7.3->pandas>=1.1->scikit-maad) (1.15.0)\n",
            "Requirement already satisfied: zipp>=0.5 in /usr/local/lib/python3.8/dist-packages (from importlib-metadata->numba>=0.53->resampy>=0.2->scikit-maad) (3.14.0)\n",
            "Installing collected packages: scikit-maad\n",
            "Successfully installed scikit-maad-1.3.12\n"
          ]
        }
      ],
      "source": [
        "!pip install scikit-maad"
      ]
    },
    {
      "cell_type": "markdown",
      "metadata": {
        "id": "w2Nxze6bUWL0"
      },
      "source": [
        "### Importing libraries"
      ]
    },
    {
      "cell_type": "code",
      "execution_count": null,
      "metadata": {
        "id": "-BIq7tiIPGv0"
      },
      "outputs": [],
      "source": [
        "import os\n",
        "import sys\n",
        "import time\n",
        "import glob\n",
        "import scipy.io.wavfile\n",
        "import scipy.signal\n",
        "import numpy as np\n",
        "import pandas as pd\n",
        "import librosa\n",
        "import datetime\n",
        "from IPython.display import Audio\n",
        "from sklearn.preprocessing import OneHotEncoder\n",
        "from maad import sound, features\n",
        "from maad.util import (date_parser, plot_correlation_map,\n",
        "                       plot_features_map, plot_features, false_Color_Spectro)"
      ]
    },
    {
      "cell_type": "markdown",
      "metadata": {
        "id": "ljuNXd3AUZer"
      },
      "source": [
        "### Defining global variables"
      ]
    },
    {
      "cell_type": "code",
      "execution_count": null,
      "metadata": {
        "id": "bhD-cpiZUdim"
      },
      "outputs": [],
      "source": [
        "# List all spectral and temporal acoustic indices that will be computed\n",
        "SPECTRAL_FEATURES=['MEANf','VARf','SKEWf','KURTf','NBPEAKS','LEQf',\n",
        "'ENRf','BGNf','SNRf','Hf', 'EAS','ECU','ECV','EPS','EPS_KURT','EPS_SKEW','ACI',\n",
        "'NDSI','rBA','AnthroEnergy','BioEnergy','BI','ROU','ADI','AEI','LFC','MFC','HFC',\n",
        "'ACTspFract','ACTspCount','ACTspMean', 'EVNspFract','EVNspMean','EVNspCount',\n",
        "'TFSD','H_Havrda','H_Renyi','H_pairedShannon', 'H_gamma', 'H_GiniSimpson','RAOQ',\n",
        "'AGI','ROItotal','ROIcover']\n",
        "\n",
        "TEMPORAL_FEATURES=['ZCR','MEANt', 'VARt', 'SKEWt', 'KURTt',\n",
        "               'LEQt','BGNt', 'SNRt','MED', 'Ht','ACTtFraction', 'ACTtCount',\n",
        "               'ACTtMean','EVNtFraction', 'EVNtMean', 'EVNtCount']"
      ]
    },
    {
      "cell_type": "code",
      "execution_count": null,
      "metadata": {
        "id": "4nLB31rbPcsZ"
      },
      "outputs": [],
      "source": [
        "# ToDo\n",
        "# Ex. Audio dataset location\n",
        "#   parent_dir = '/content/drive/MyDrive/Volet1'\n",
        "#   label_dirs = ['RE', 'BE', 'BL', 'RL']"
      ]
    },
    {
      "cell_type": "markdown",
      "metadata": {
        "id": "XpTm_sVeU5Ey"
      },
      "source": [
        "## Initializing the environment "
      ]
    },
    {
      "cell_type": "markdown",
      "metadata": {
        "id": "LN6Ut9RlU7i_"
      },
      "source": [
        "### Getting the number of files to process per label\n"
      ]
    },
    {
      "cell_type": "code",
      "execution_count": null,
      "metadata": {
        "colab": {
          "base_uri": "https://localhost:8080/"
        },
        "id": "-vNOLLgRfwbv",
        "outputId": "04a8a4c2-2676-41a3-ac5c-717a02eed38b"
      },
      "outputs": [
        {
          "data": {
            "text/plain": [
              "{'RE': 3, 'BE': 3, 'BL': 3, 'RL': 3}"
            ]
          },
          "execution_count": 8,
          "metadata": {},
          "output_type": "execute_result"
        }
      ],
      "source": [
        "# Get the number of audio files in each label directory\n",
        "num_audio_files = {}\n",
        "for label in label_dirs:\n",
        "    label_dir = os.path.join(parent_dir, label)\n",
        "    audio_files = glob.glob(label_dir + '/*/*.wav')\n",
        "    num_audio_files[label] = len(audio_files)\n",
        "num_audio_files"
      ]
    },
    {
      "cell_type": "markdown",
      "metadata": {
        "id": "bQ6W3lV0l7w6"
      },
      "source": [
        "### Defining auxiliary functions"
      ]
    },
    {
      "cell_type": "code",
      "execution_count": null,
      "metadata": {
        "id": "0Z1lpYEhmDWJ"
      },
      "outputs": [],
      "source": [
        "def audio_preprocessing(audio, sr, new_sr, chunk_size, total_size):\n",
        "    \"\"\"Preprocess the audio file\n",
        "    1. Resample the audio file\n",
        "    2. Pad the audio file to 30 minutes\n",
        "    3. Split the audio into chunks of 60 seconds\n",
        "    \n",
        "    Args:\n",
        "        audio (np.array): audio signal\n",
        "        sr (int): sampling rate\n",
        "        new_sr (int): new sampling rate\n",
        "        chunk_size (int): chunk size in seconds\n",
        "        total_size (int): total size in minutes\n",
        "    \n",
        "    Returns:\n",
        "        audio_chunks (np.array): audio chunks\n",
        "        \"\"\"\n",
        "    # Resample the audio file\n",
        "    audio = librosa.resample(audio, sr, new_sr)\n",
        "    # Pad the audio file to 30 minutes\n",
        "    audio = np.pad(audio, (0, total_size*chunk_size*new_sr - audio.shape[0]), 'constant')\n",
        "    # Split the audio into chunks of 60 seconds\n",
        "    audio_chunks = librosa.util.frame(audio, frame_length=chunk_size*new_sr, hop_length=chunk_size*new_sr)\n",
        "    return audio_chunks"
      ]
    },
    {
      "cell_type": "code",
      "execution_count": null,
      "metadata": {
        "id": "lD1iZfECmD_-"
      },
      "outputs": [],
      "source": [
        "def date_time_parser_from_filename(filename):\n",
        "    \"\"\"Parse the date and time from the filename\n",
        "    \n",
        "    Args:\n",
        "        filename (str): filename (filename format: XXX_YYYYMMDD_HHMMSS.wav)\n",
        "    \n",
        "    Returns:\n",
        "        date_time_obj (obj): date + time\n",
        "        \"\"\"\n",
        "    # Get the date and time from the filename\n",
        "    date_time = filename.split('_')[1] + filename.split('_')[2].split('.')[0]\n",
        "    # Convert the date and time to datetime object\n",
        "    date_time_obj = datetime.datetime.strptime(date_time, '%Y%m%d%H%M%S')\n",
        "    return date_time_obj"
      ]
    },
    {
      "cell_type": "markdown",
      "metadata": {
        "id": "UNw2nyDViT4P"
      },
      "source": [
        "## Computing acoustic indices \n",
        "\n"
      ]
    },
    {
      "cell_type": "code",
      "execution_count": null,
      "metadata": {
        "colab": {
          "base_uri": "https://localhost:8080/"
        },
        "id": "wgZinQSAdonc",
        "outputId": "25c0ed34-3ea7-42ee-f759-a97ff7529c26"
      },
      "outputs": [
        {
          "name": "stdout",
          "output_type": "stream",
          "text": [
            "Loading label directory: RE\n"
          ]
        },
        {
          "name": "stderr",
          "output_type": "stream",
          "text": [
            "/usr/local/lib/python3.8/dist-packages/maad/util/math_func.py:445: RuntimeWarning: divide by zero encountered in log\n",
            "  H = -np.sum(pmf*np.log(pmf),axis)/np.log(n)\n",
            "/usr/local/lib/python3.8/dist-packages/maad/util/math_func.py:445: RuntimeWarning: invalid value encountered in multiply\n",
            "  H = -np.sum(pmf*np.log(pmf),axis)/np.log(n)\n",
            "/usr/local/lib/python3.8/dist-packages/maad/util/miscellaneous.py:358: RuntimeWarning: divide by zero encountered in log10\n",
            "  y = 20*log10(x)   # take log\n",
            "/usr/local/lib/python3.8/dist-packages/maad/spl/conversion_SPL.py:478: RuntimeWarning: divide by zero encountered in log10\n",
            "  Leq = 20*log10(volt_RMS) - sensitivity + dBref - gain\n",
            "/usr/local/lib/python3.8/dist-packages/maad/util/miscellaneous.py:413: RuntimeWarning: divide by zero encountered in log10\n",
            "  y = 10*log10(x)   # take log\n",
            "/usr/local/lib/python3.8/dist-packages/maad/features/alpha_indices.py:768: RuntimeWarning: divide by zero encountered in log10\n",
            "  envdB = 10*np.log10(env**2)\n"
          ]
        },
        {
          "name": "stdout",
          "output_type": "stream",
          "text": [
            "Loading audio file: 1/3 Total time taken: 64.21057844161987 seconds\n",
            "Loading audio file: 2/3 Total time taken: 59.32668423652649 seconds\n",
            "Loading audio file: 3/3 Total time taken: 58.86629939079285 seconds\n",
            "Loading label directory: BE\n",
            "Loading audio file: 1/3 Total time taken: 55.64867067337036 seconds\n",
            "Loading audio file: 2/3 Total time taken: 56.18789529800415 seconds\n",
            "Loading audio file: 3/3 Total time taken: 55.564722537994385 seconds\n",
            "Loading label directory: BL\n",
            "Loading audio file: 1/3 Total time taken: 53.69717454910278 seconds\n",
            "Loading audio file: 2/3 Total time taken: 59.635740756988525 seconds\n",
            "Loading audio file: 3/3 Total time taken: 56.594600200653076 seconds\n",
            "Loading label directory: RL\n",
            "Loading audio file: 1/3 Total time taken: 54.175310373306274 seconds\n",
            "Loading audio file: 2/3 Total time taken: 55.97605347633362 seconds\n",
            "Loading audio file: 3/3 Total time taken: 56.40797758102417 seconds\n"
          ]
        }
      ],
      "source": [
        "# Create a dataframe to store the features\n",
        "df_indices = pd.DataFrame(columns=['filename']+['date']+['site']+TEMPORAL_FEATURES+SPECTRAL_FEATURES+['label'])\n",
        "# Parameters\n",
        "new_sr = 16000 # ToDo: new sampling rate\n",
        "chunk_size = 60 # ToDo: 60 seconds\n",
        "total_size = 30 # ToDo: 30 minutes\n",
        "\n",
        "# Parameters of the audio recorder. This is not a mandatory but it allows\n",
        "# to compute the sound pressure level of the audio file (dB SPL) as a\n",
        "# sonometer would do.\n",
        "S = -35         # ToDo: Sensbility microphone-35dBV (SM4) / -18dBV (Audiomoth)\n",
        "G = 26+16       # ToDo: Amplification gain (26dB (SM4 preamplifier))\n",
        "\n",
        "# Loop through the label directories and load the audio files\n",
        "for label in label_dirs:\n",
        "    # Print the label directory\n",
        "    print('Loading label directory: {}'.format(label))\n",
        "    # Get the path to the label directory\n",
        "    label_dir = os.path.join(parent_dir, label)\n",
        "    # Get the list of audio files\n",
        "    audio_files = glob.glob(label_dir + '/*/*.wav')\n",
        "    # Loop through the audio files\n",
        "    for audio_file in audio_files:\n",
        "        # Initialize start time\n",
        "        start_time = time.time()\n",
        "        # Get the filename\n",
        "        filename = os.path.basename(audio_file)\n",
        "        # Get the date and time from the filename\n",
        "        date = date_time_parser_from_filename(filename)\n",
        "        # Get the site lowercase (parent directory name)\n",
        "        site = os.path.basename(os.path.dirname(audio_file)).lower()\n",
        "        # Load the audio file\n",
        "        audio, sr = librosa.load(audio_file)\n",
        "        # Preprocess the audio file\n",
        "        audio_chunks = audio_preprocessing(audio, sr, new_sr, chunk_size, total_size)\n",
        "        # Loop through the audio chunks\n",
        "        for audio_chunk in audio_chunks.T:\n",
        "            # Compute the acoustic indices in the time domain\n",
        "            df_temp_ind = features.all_temporal_alpha_indices(audio_chunk, new_sr, gain = G, sensibility = S, \n",
        "                                          dB_threshold = 3, rejectDuration = 0.01,\n",
        "                                          verbose = False, display = False)\n",
        "            # Compute the Power Spectrogram Density (PSD) : Sxx_power\n",
        "            Sxx_power,tn,fn,ext = sound.spectrogram (audio_chunk, new_sr)\n",
        "            # Compute the acoustic indices in the frequency domain\n",
        "            df_freq_ind, _ = features.all_spectral_alpha_indices(Sxx_power, tn, fn)\n",
        "            # Concatenate the acoustic indices in the time and frequency domain\n",
        "            df_ind = pd.concat([df_temp_ind, df_freq_ind], axis=1)\n",
        "            # Add the filename, date, site and label to the dataframe\n",
        "            df_ind['filename'] = filename\n",
        "            df_ind['date'] = date\n",
        "            df_ind['site'] = site\n",
        "            df_ind['label'] = label\n",
        "            # Append the dataframe to the dataframe containing all the acoustic indices\n",
        "            df_indices = df_indices.append(df_ind, ignore_index=True)\n",
        "        # Calculate and print the total time taken for the loop\n",
        "        end_time = time.time()\n",
        "        total_time = end_time - start_time\n",
        "        # Print the progress of the loop compare to the total number of audio files\n",
        "        print('Loading audio file: {}/{} Total time taken: {} seconds'.format(audio_files.index(audio_file)+1, num_audio_files[label], total_time))"
      ]
    },
    {
      "cell_type": "markdown",
      "metadata": {
        "id": "3HTwdoPShqsR"
      },
      "source": [
        "## Saving the dataset"
      ]
    },
    {
      "cell_type": "code",
      "execution_count": null,
      "metadata": {
        "id": "4ZAnozs0D1lB"
      },
      "outputs": [],
      "source": [
        "# ToDo\n",
        "# Ex. Save the dataframe to a csv file\n",
        "#   path = '/content/drive/MyDrive/dataset'\n",
        "#   dataset_filename = 'indices.csv'\n",
        "#   df_indices.to_csv(os.path.join(path, dataset_filename), index=False)"
      ]
    }
  ],
  "metadata": {
    "colab": {
      "provenance": []
    },
    "gpuClass": "standard",
    "kernelspec": {
      "display_name": "Python 3",
      "name": "python3"
    },
    "language_info": {
      "name": "python"
    }
  },
  "nbformat": 4,
  "nbformat_minor": 0
}
