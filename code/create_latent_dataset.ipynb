{
  "nbformat": 4,
  "nbformat_minor": 0,
  "metadata": {
    "colab": {
      "provenance": []
    },
    "kernelspec": {
      "name": "python3",
      "display_name": "Python 3"
    },
    "language_info": {
      "name": "python"
    },
    "gpuClass": "standard"
  },
  "cells": [
    {
      "cell_type": "markdown",
      "source": [
        "# Create a latent representation of audio"
      ],
      "metadata": {
        "id": "xTZk7RRrnEoV"
      }
    },
    {
      "cell_type": "markdown",
      "source": [
        "## Loading the audio"
      ],
      "metadata": {
        "id": "jDkt1x1ynSoG"
      }
    },
    {
      "cell_type": "code",
      "execution_count": null,
      "metadata": {
        "colab": {
          "base_uri": "https://localhost:8080/"
        },
        "id": "YpG-wEPFOh3e",
        "outputId": "ff6d68e4-ce85-4a6c-c288-9cfee7076cd2"
      },
      "outputs": [
        {
          "output_type": "stream",
          "name": "stdout",
          "text": [
            "Mounted at /content/drive\n"
          ]
        }
      ],
      "source": [
        "# Mount Google Drive\n",
        "from google.colab import drive\n",
        "drive.mount('/content/drive')"
      ]
    },
    {
      "cell_type": "markdown",
      "source": [
        "## Setting up the coding environment"
      ],
      "metadata": {
        "id": "i4v3EWhmTwTj"
      }
    },
    {
      "cell_type": "markdown",
      "source": [
        "### Installing external packages"
      ],
      "metadata": {
        "id": "HSB7XU_OUSqC"
      }
    },
    {
      "cell_type": "code",
      "source": [
        "!pip install openl3"
      ],
      "metadata": {
        "colab": {
          "base_uri": "https://localhost:8080/"
        },
        "id": "NpFNnuo5UBsu",
        "outputId": "d3608e3e-83ba-41f8-e3e0-ce5857312ca0"
      },
      "execution_count": null,
      "outputs": [
        {
          "output_type": "stream",
          "name": "stdout",
          "text": [
            "Looking in indexes: https://pypi.org/simple, https://us-python.pkg.dev/colab-wheels/public/simple/\n",
            "Collecting openl3\n",
            "  Downloading openl3-0.4.1.tar.gz (18 kB)\n",
            "  Preparing metadata (setup.py) ... \u001b[?25l\u001b[?25hdone\n",
            "Requirement already satisfied: tensorflow>=2.0.0 in /usr/local/lib/python3.8/dist-packages (from openl3) (2.11.0)\n",
            "Requirement already satisfied: numpy>=1.13.0 in /usr/local/lib/python3.8/dist-packages (from openl3) (1.22.4)\n",
            "Requirement already satisfied: scipy>=0.19.1 in /usr/local/lib/python3.8/dist-packages (from openl3) (1.7.3)\n",
            "Requirement already satisfied: kapre>=0.3.5 in /usr/local/lib/python3.8/dist-packages (from openl3) (0.3.7)\n",
            "Requirement already satisfied: soundfile>=0.9.0.post1 in /usr/local/lib/python3.8/dist-packages (from openl3) (0.12.1)\n",
            "Collecting resampy<0.3.0,>=0.2.1\n",
            "  Downloading resampy-0.2.2.tar.gz (323 kB)\n",
            "\u001b[2K     \u001b[90m━━━━━━━━━━━━━━━━━━━━━━━━━━━━━━━━━━━━━━━\u001b[0m \u001b[32m323.4/323.4 KB\u001b[0m \u001b[31m6.4 MB/s\u001b[0m eta \u001b[36m0:00:00\u001b[0m\n",
            "\u001b[?25h  Preparing metadata (setup.py) ... \u001b[?25l\u001b[?25hdone\n",
            "Collecting h5py<3.0.0,>=2.7.0\n",
            "  Downloading h5py-2.10.0-cp38-cp38-manylinux1_x86_64.whl (2.9 MB)\n",
            "\u001b[2K     \u001b[90m━━━━━━━━━━━━━━━━━━━━━━━━━━━━━━━━━━━━━━━━\u001b[0m \u001b[32m2.9/2.9 MB\u001b[0m \u001b[31m48.0 MB/s\u001b[0m eta \u001b[36m0:00:00\u001b[0m\n",
            "\u001b[?25hCollecting moviepy>=1.0.0\n",
            "  Downloading moviepy-1.0.3.tar.gz (388 kB)\n",
            "\u001b[2K     \u001b[90m━━━━━━━━━━━━━━━━━━━━━━━━━━━━━━━━━━━━━━\u001b[0m \u001b[32m388.3/388.3 KB\u001b[0m \u001b[31m29.8 MB/s\u001b[0m eta \u001b[36m0:00:00\u001b[0m\n",
            "\u001b[?25h  Preparing metadata (setup.py) ... \u001b[?25l\u001b[?25hdone\n",
            "Requirement already satisfied: scikit-image>=0.14.3librosa>=0.7.2 in /usr/local/lib/python3.8/dist-packages (from openl3) (0.18.3)\n",
            "Requirement already satisfied: six in /usr/local/lib/python3.8/dist-packages (from h5py<3.0.0,>=2.7.0->openl3) (1.15.0)\n",
            "Requirement already satisfied: librosa>=0.7.2 in /usr/local/lib/python3.8/dist-packages (from kapre>=0.3.5->openl3) (0.8.1)\n",
            "Requirement already satisfied: decorator<5.0,>=4.0.2 in /usr/local/lib/python3.8/dist-packages (from moviepy>=1.0.0->openl3) (4.4.2)\n",
            "Requirement already satisfied: tqdm<5.0,>=4.11.2 in /usr/local/lib/python3.8/dist-packages (from moviepy>=1.0.0->openl3) (4.64.1)\n",
            "Requirement already satisfied: requests<3.0,>=2.8.1 in /usr/local/lib/python3.8/dist-packages (from moviepy>=1.0.0->openl3) (2.25.1)\n",
            "Collecting proglog<=1.0.0\n",
            "  Downloading proglog-0.1.10-py3-none-any.whl (6.1 kB)\n",
            "Requirement already satisfied: imageio<3.0,>=2.5 in /usr/local/lib/python3.8/dist-packages (from moviepy>=1.0.0->openl3) (2.9.0)\n",
            "Collecting imageio_ffmpeg>=0.2.0\n",
            "  Downloading imageio_ffmpeg-0.4.8-py3-none-manylinux2010_x86_64.whl (26.9 MB)\n",
            "\u001b[2K     \u001b[90m━━━━━━━━━━━━━━━━━━━━━━━━━━━━━━━━━━━━━━━━\u001b[0m \u001b[32m26.9/26.9 MB\u001b[0m \u001b[31m24.7 MB/s\u001b[0m eta \u001b[36m0:00:00\u001b[0m\n",
            "\u001b[?25hRequirement already satisfied: numba>=0.32 in /usr/local/lib/python3.8/dist-packages (from resampy<0.3.0,>=0.2.1->openl3) (0.56.4)\n",
            "Requirement already satisfied: networkx>=2.0 in /usr/local/lib/python3.8/dist-packages (from scikit-image>=0.14.3librosa>=0.7.2->openl3) (3.0)\n",
            "Requirement already satisfied: pillow!=7.1.0,!=7.1.1,>=4.3.0 in /usr/local/lib/python3.8/dist-packages (from scikit-image>=0.14.3librosa>=0.7.2->openl3) (8.4.0)\n",
            "Requirement already satisfied: tifffile>=2019.7.26 in /usr/local/lib/python3.8/dist-packages (from scikit-image>=0.14.3librosa>=0.7.2->openl3) (2023.2.3)\n",
            "Requirement already satisfied: matplotlib!=3.0.0,>=2.0.0 in /usr/local/lib/python3.8/dist-packages (from scikit-image>=0.14.3librosa>=0.7.2->openl3) (3.5.3)\n",
            "Requirement already satisfied: PyWavelets>=1.1.1 in /usr/local/lib/python3.8/dist-packages (from scikit-image>=0.14.3librosa>=0.7.2->openl3) (1.4.1)\n",
            "Requirement already satisfied: cffi>=1.0 in /usr/local/lib/python3.8/dist-packages (from soundfile>=0.9.0.post1->openl3) (1.15.1)\n",
            "Requirement already satisfied: keras<2.12,>=2.11.0 in /usr/local/lib/python3.8/dist-packages (from tensorflow>=2.0.0->openl3) (2.11.0)\n",
            "Requirement already satisfied: typing-extensions>=3.6.6 in /usr/local/lib/python3.8/dist-packages (from tensorflow>=2.0.0->openl3) (4.5.0)\n",
            "Requirement already satisfied: tensorboard<2.12,>=2.11 in /usr/local/lib/python3.8/dist-packages (from tensorflow>=2.0.0->openl3) (2.11.2)\n",
            "Requirement already satisfied: google-pasta>=0.1.1 in /usr/local/lib/python3.8/dist-packages (from tensorflow>=2.0.0->openl3) (0.2.0)\n",
            "Requirement already satisfied: wrapt>=1.11.0 in /usr/local/lib/python3.8/dist-packages (from tensorflow>=2.0.0->openl3) (1.14.1)\n",
            "Requirement already satisfied: termcolor>=1.1.0 in /usr/local/lib/python3.8/dist-packages (from tensorflow>=2.0.0->openl3) (2.2.0)\n",
            "Requirement already satisfied: gast<=0.4.0,>=0.2.1 in /usr/local/lib/python3.8/dist-packages (from tensorflow>=2.0.0->openl3) (0.4.0)\n",
            "Requirement already satisfied: tensorflow-io-gcs-filesystem>=0.23.1 in /usr/local/lib/python3.8/dist-packages (from tensorflow>=2.0.0->openl3) (0.30.0)\n",
            "Requirement already satisfied: flatbuffers>=2.0 in /usr/local/lib/python3.8/dist-packages (from tensorflow>=2.0.0->openl3) (23.1.21)\n",
            "Requirement already satisfied: grpcio<2.0,>=1.24.3 in /usr/local/lib/python3.8/dist-packages (from tensorflow>=2.0.0->openl3) (1.51.3)\n",
            "Requirement already satisfied: libclang>=13.0.0 in /usr/local/lib/python3.8/dist-packages (from tensorflow>=2.0.0->openl3) (15.0.6.1)\n",
            "Requirement already satisfied: astunparse>=1.6.0 in /usr/local/lib/python3.8/dist-packages (from tensorflow>=2.0.0->openl3) (1.6.3)\n",
            "Requirement already satisfied: opt-einsum>=2.3.2 in /usr/local/lib/python3.8/dist-packages (from tensorflow>=2.0.0->openl3) (3.3.0)\n",
            "Requirement already satisfied: absl-py>=1.0.0 in /usr/local/lib/python3.8/dist-packages (from tensorflow>=2.0.0->openl3) (1.4.0)\n",
            "Requirement already satisfied: tensorflow-estimator<2.12,>=2.11.0 in /usr/local/lib/python3.8/dist-packages (from tensorflow>=2.0.0->openl3) (2.11.0)\n",
            "Requirement already satisfied: protobuf<3.20,>=3.9.2 in /usr/local/lib/python3.8/dist-packages (from tensorflow>=2.0.0->openl3) (3.19.6)\n",
            "Requirement already satisfied: setuptools in /usr/local/lib/python3.8/dist-packages (from tensorflow>=2.0.0->openl3) (57.4.0)\n",
            "Requirement already satisfied: packaging in /usr/local/lib/python3.8/dist-packages (from tensorflow>=2.0.0->openl3) (23.0)\n",
            "Requirement already satisfied: wheel<1.0,>=0.23.0 in /usr/local/lib/python3.8/dist-packages (from astunparse>=1.6.0->tensorflow>=2.0.0->openl3) (0.38.4)\n",
            "Requirement already satisfied: pycparser in /usr/local/lib/python3.8/dist-packages (from cffi>=1.0->soundfile>=0.9.0.post1->openl3) (2.21)\n",
            "Requirement already satisfied: audioread>=2.0.0 in /usr/local/lib/python3.8/dist-packages (from librosa>=0.7.2->kapre>=0.3.5->openl3) (3.0.0)\n",
            "Requirement already satisfied: joblib>=0.14 in /usr/local/lib/python3.8/dist-packages (from librosa>=0.7.2->kapre>=0.3.5->openl3) (1.2.0)\n",
            "Requirement already satisfied: pooch>=1.0 in /usr/local/lib/python3.8/dist-packages (from librosa>=0.7.2->kapre>=0.3.5->openl3) (1.6.0)\n",
            "Requirement already satisfied: scikit-learn!=0.19.0,>=0.14.0 in /usr/local/lib/python3.8/dist-packages (from librosa>=0.7.2->kapre>=0.3.5->openl3) (1.0.2)\n",
            "Requirement already satisfied: fonttools>=4.22.0 in /usr/local/lib/python3.8/dist-packages (from matplotlib!=3.0.0,>=2.0.0->scikit-image>=0.14.3librosa>=0.7.2->openl3) (4.38.0)\n",
            "Requirement already satisfied: python-dateutil>=2.7 in /usr/local/lib/python3.8/dist-packages (from matplotlib!=3.0.0,>=2.0.0->scikit-image>=0.14.3librosa>=0.7.2->openl3) (2.8.2)\n",
            "Requirement already satisfied: kiwisolver>=1.0.1 in /usr/local/lib/python3.8/dist-packages (from matplotlib!=3.0.0,>=2.0.0->scikit-image>=0.14.3librosa>=0.7.2->openl3) (1.4.4)\n",
            "Requirement already satisfied: pyparsing>=2.2.1 in /usr/local/lib/python3.8/dist-packages (from matplotlib!=3.0.0,>=2.0.0->scikit-image>=0.14.3librosa>=0.7.2->openl3) (3.0.9)\n",
            "Requirement already satisfied: cycler>=0.10 in /usr/local/lib/python3.8/dist-packages (from matplotlib!=3.0.0,>=2.0.0->scikit-image>=0.14.3librosa>=0.7.2->openl3) (0.11.0)\n",
            "Requirement already satisfied: llvmlite<0.40,>=0.39.0dev0 in /usr/local/lib/python3.8/dist-packages (from numba>=0.32->resampy<0.3.0,>=0.2.1->openl3) (0.39.1)\n",
            "Requirement already satisfied: importlib-metadata in /usr/local/lib/python3.8/dist-packages (from numba>=0.32->resampy<0.3.0,>=0.2.1->openl3) (6.0.0)\n",
            "Requirement already satisfied: certifi>=2017.4.17 in /usr/local/lib/python3.8/dist-packages (from requests<3.0,>=2.8.1->moviepy>=1.0.0->openl3) (2022.12.7)\n",
            "Requirement already satisfied: idna<3,>=2.5 in /usr/local/lib/python3.8/dist-packages (from requests<3.0,>=2.8.1->moviepy>=1.0.0->openl3) (2.10)\n",
            "Requirement already satisfied: chardet<5,>=3.0.2 in /usr/local/lib/python3.8/dist-packages (from requests<3.0,>=2.8.1->moviepy>=1.0.0->openl3) (4.0.0)\n",
            "Requirement already satisfied: urllib3<1.27,>=1.21.1 in /usr/local/lib/python3.8/dist-packages (from requests<3.0,>=2.8.1->moviepy>=1.0.0->openl3) (1.24.3)\n",
            "Requirement already satisfied: markdown>=2.6.8 in /usr/local/lib/python3.8/dist-packages (from tensorboard<2.12,>=2.11->tensorflow>=2.0.0->openl3) (3.4.1)\n",
            "Requirement already satisfied: tensorboard-plugin-wit>=1.6.0 in /usr/local/lib/python3.8/dist-packages (from tensorboard<2.12,>=2.11->tensorflow>=2.0.0->openl3) (1.8.1)\n",
            "Requirement already satisfied: tensorboard-data-server<0.7.0,>=0.6.0 in /usr/local/lib/python3.8/dist-packages (from tensorboard<2.12,>=2.11->tensorflow>=2.0.0->openl3) (0.6.1)\n",
            "Requirement already satisfied: google-auth-oauthlib<0.5,>=0.4.1 in /usr/local/lib/python3.8/dist-packages (from tensorboard<2.12,>=2.11->tensorflow>=2.0.0->openl3) (0.4.6)\n",
            "Requirement already satisfied: werkzeug>=1.0.1 in /usr/local/lib/python3.8/dist-packages (from tensorboard<2.12,>=2.11->tensorflow>=2.0.0->openl3) (1.0.1)\n",
            "Requirement already satisfied: google-auth<3,>=1.6.3 in /usr/local/lib/python3.8/dist-packages (from tensorboard<2.12,>=2.11->tensorflow>=2.0.0->openl3) (2.16.1)\n",
            "Requirement already satisfied: cachetools<6.0,>=2.0.0 in /usr/local/lib/python3.8/dist-packages (from google-auth<3,>=1.6.3->tensorboard<2.12,>=2.11->tensorflow>=2.0.0->openl3) (5.3.0)\n",
            "Requirement already satisfied: rsa<5,>=3.1.4 in /usr/local/lib/python3.8/dist-packages (from google-auth<3,>=1.6.3->tensorboard<2.12,>=2.11->tensorflow>=2.0.0->openl3) (4.9)\n",
            "Requirement already satisfied: pyasn1-modules>=0.2.1 in /usr/local/lib/python3.8/dist-packages (from google-auth<3,>=1.6.3->tensorboard<2.12,>=2.11->tensorflow>=2.0.0->openl3) (0.2.8)\n",
            "Requirement already satisfied: requests-oauthlib>=0.7.0 in /usr/local/lib/python3.8/dist-packages (from google-auth-oauthlib<0.5,>=0.4.1->tensorboard<2.12,>=2.11->tensorflow>=2.0.0->openl3) (1.3.1)\n",
            "Requirement already satisfied: zipp>=0.5 in /usr/local/lib/python3.8/dist-packages (from importlib-metadata->numba>=0.32->resampy<0.3.0,>=0.2.1->openl3) (3.14.0)\n",
            "Requirement already satisfied: appdirs>=1.3.0 in /usr/local/lib/python3.8/dist-packages (from pooch>=1.0->librosa>=0.7.2->kapre>=0.3.5->openl3) (1.4.4)\n",
            "Requirement already satisfied: threadpoolctl>=2.0.0 in /usr/local/lib/python3.8/dist-packages (from scikit-learn!=0.19.0,>=0.14.0->librosa>=0.7.2->kapre>=0.3.5->openl3) (3.1.0)\n",
            "Requirement already satisfied: pyasn1<0.5.0,>=0.4.6 in /usr/local/lib/python3.8/dist-packages (from pyasn1-modules>=0.2.1->google-auth<3,>=1.6.3->tensorboard<2.12,>=2.11->tensorflow>=2.0.0->openl3) (0.4.8)\n",
            "Requirement already satisfied: oauthlib>=3.0.0 in /usr/local/lib/python3.8/dist-packages (from requests-oauthlib>=0.7.0->google-auth-oauthlib<0.5,>=0.4.1->tensorboard<2.12,>=2.11->tensorflow>=2.0.0->openl3) (3.2.2)\n",
            "Building wheels for collected packages: openl3, moviepy, resampy\n",
            "  Building wheel for openl3 (setup.py) ... \u001b[?25l\u001b[?25hdone\n",
            "  Created wheel for openl3: filename=openl3-0.4.1-py2.py3-none-any.whl size=249325522 sha256=9e64c81b4d3aed9436435b24fc279caa42350d579af253967e4dc0e3d4303912\n",
            "  Stored in directory: /root/.cache/pip/wheels/f3/88/93/33a947b53255468585f1d3c869811b6967f8d20e30e8e45d27\n",
            "  Building wheel for moviepy (setup.py) ... \u001b[?25l\u001b[?25hdone\n",
            "  Created wheel for moviepy: filename=moviepy-1.0.3-py3-none-any.whl size=110742 sha256=2f87960ed0816193955b73cb32b63ce6d210795ed9caa4676e386180320a14be\n",
            "  Stored in directory: /root/.cache/pip/wheels/e4/a4/db/0368d3a04033da662e13926594b3a8cf1aa4ffeefe570cfac1\n",
            "  Building wheel for resampy (setup.py) ... \u001b[?25l\u001b[?25hdone\n",
            "  Created wheel for resampy: filename=resampy-0.2.2-py3-none-any.whl size=320730 sha256=05a226731a2835d72da275334a1348574e1f957255cb00ecfaa5dbeec922aaea\n",
            "  Stored in directory: /root/.cache/pip/wheels/6f/d1/5d/f13da53b1dcbc2624ff548456c9ffb526c914f53c12c318bb4\n",
            "Successfully built openl3 moviepy resampy\n",
            "Installing collected packages: proglog, imageio_ffmpeg, h5py, moviepy, resampy, openl3\n",
            "  Attempting uninstall: h5py\n",
            "    Found existing installation: h5py 3.1.0\n",
            "    Uninstalling h5py-3.1.0:\n",
            "      Successfully uninstalled h5py-3.1.0\n",
            "  Attempting uninstall: moviepy\n",
            "    Found existing installation: moviepy 0.2.3.5\n",
            "    Uninstalling moviepy-0.2.3.5:\n",
            "      Successfully uninstalled moviepy-0.2.3.5\n",
            "  Attempting uninstall: resampy\n",
            "    Found existing installation: resampy 0.4.2\n",
            "    Uninstalling resampy-0.4.2:\n",
            "      Successfully uninstalled resampy-0.4.2\n",
            "Successfully installed h5py-2.10.0 imageio_ffmpeg-0.4.8 moviepy-1.0.3 openl3-0.4.1 proglog-0.1.10 resampy-0.2.2\n"
          ]
        }
      ]
    },
    {
      "cell_type": "markdown",
      "source": [
        "### Importing libraries"
      ],
      "metadata": {
        "id": "w2Nxze6bUWL0"
      }
    },
    {
      "cell_type": "code",
      "source": [
        "import os\n",
        "import sys\n",
        "import time\n",
        "import glob\n",
        "import scipy.io.wavfile\n",
        "import scipy.signal\n",
        "import numpy as np\n",
        "import pandas as pd\n",
        "import librosa\n",
        "import datetime\n",
        "import openl3"
      ],
      "metadata": {
        "id": "-BIq7tiIPGv0"
      },
      "execution_count": null,
      "outputs": []
    },
    {
      "cell_type": "markdown",
      "source": [
        "### Defining global variables"
      ],
      "metadata": {
        "id": "gLNVyDbMnj6t"
      }
    },
    {
      "cell_type": "code",
      "source": [
        "# Audio dataset location\n",
        "parent_dir = '/content/drive/MyDrive/Volet1'\n",
        "label_dirs = ['RE', 'BE', 'BL', 'RL']"
      ],
      "metadata": {
        "id": "4nLB31rbPcsZ"
      },
      "execution_count": null,
      "outputs": []
    },
    {
      "cell_type": "code",
      "source": [
        "# Embedding model (trained on environmental audio)\n",
        "latent_space_dim = 512\n",
        "spectr = \"mel128\"\n",
        "model = openl3.models.load_audio_embedding_model(input_repr=spectr, content_type=\"env\",\n",
        "                                                 embedding_size=latent_space_dim)"
      ],
      "metadata": {
        "id": "MIOUdqGOE2Pq"
      },
      "execution_count": null,
      "outputs": []
    },
    {
      "cell_type": "code",
      "source": [
        "# Generate latent space feature names\n",
        "LATENT_SPACE = ['ac_latent_space_'+str(i) for i in range(latent_space_dim)]"
      ],
      "metadata": {
        "id": "D9ubVQKnGBDv"
      },
      "execution_count": null,
      "outputs": []
    },
    {
      "cell_type": "markdown",
      "source": [
        "## Initializing the environment "
      ],
      "metadata": {
        "id": "XpTm_sVeU5Ey"
      }
    },
    {
      "cell_type": "markdown",
      "source": [
        "### Getting the number of files to process per label"
      ],
      "metadata": {
        "id": "As2nmFkjnul9"
      }
    },
    {
      "cell_type": "code",
      "source": [
        "# Get the number of audio files in each label directory\n",
        "num_audio_files = {}\n",
        "for label in label_dirs:\n",
        "    label_dir = os.path.join(parent_dir, label)\n",
        "    audio_files = glob.glob(label_dir + '/*/*.wav')\n",
        "    num_audio_files[label] = len(audio_files)\n",
        "num_audio_files"
      ],
      "metadata": {
        "id": "-vNOLLgRfwbv",
        "colab": {
          "base_uri": "https://localhost:8080/"
        },
        "outputId": "81c3a544-ee12-43e5-9d26-b62c7f78c63e"
      },
      "execution_count": null,
      "outputs": [
        {
          "output_type": "execute_result",
          "data": {
            "text/plain": [
              "{'RE': 30, 'BE': 33, 'BL': 33, 'RL': 24}"
            ]
          },
          "metadata": {},
          "execution_count": 7
        }
      ]
    },
    {
      "cell_type": "markdown",
      "source": [
        "### Defining auxiliary functions"
      ],
      "metadata": {
        "id": "bQ6W3lV0l7w6"
      }
    },
    {
      "cell_type": "code",
      "source": [
        "def date_time_parser_from_filename(filename):\n",
        "    \"\"\"Parse the date and time from the filename\n",
        "    \n",
        "    Args:\n",
        "        filename (str): filename (filename format: XXX_YYYYMMDD_HHMMSS.wav)\n",
        "    \n",
        "    Returns:\n",
        "        date_time_obj (obj): date + time\n",
        "        \"\"\"\n",
        "    # Get the date and time from the filename\n",
        "    date_time = filename.split('_')[1] + filename.split('_')[2].split('.')[0]\n",
        "    # Convert the date and time to datetime object\n",
        "    date_time_obj = datetime.datetime.strptime(date_time, '%Y%m%d%H%M%S')\n",
        "    return date_time_obj"
      ],
      "metadata": {
        "id": "lD1iZfECmD_-"
      },
      "execution_count": null,
      "outputs": []
    },
    {
      "cell_type": "markdown",
      "source": [
        "## Computing latent representation \n",
        "\n"
      ],
      "metadata": {
        "id": "UNw2nyDViT4P"
      }
    },
    {
      "cell_type": "code",
      "source": [
        "# Create a dataframe to store the features\n",
        "df_latent_space = pd.DataFrame(columns=['filename']+['date']+['site']+LATENT_SPACE+['label'])\n",
        "# Parameters\n",
        "new_sr = 16000 # new sampling rate\n",
        "chunk_size = 60 # 60 seconds\n",
        "total_size = 30 # 30 minutes\n",
        "\n",
        "# Loop through the label directories and load the audio files\n",
        "for label in label_dirs:\n",
        "    # Print the label directory\n",
        "    print('Loading label directory: {}'.format(label))\n",
        "    # Get the path to the label directory\n",
        "    label_dir = os.path.join(parent_dir, label)\n",
        "    # Get the list of audio files\n",
        "    audio_files = glob.glob(label_dir + '/*/*.wav')\n",
        "    # Loop through the audio files\n",
        "    for audio_file in audio_files:\n",
        "        # Initialize start time\n",
        "        start_time = time.time()\n",
        "        # Get the filename\n",
        "        filename = os.path.basename(audio_file)\n",
        "        # Get the date and time from the filename\n",
        "        date = date_time_parser_from_filename(filename)\n",
        "        # Get the site lowercase (parent directory name)\n",
        "        site = os.path.basename(os.path.dirname(audio_file)).lower()\n",
        "        # Load the audio file\n",
        "        audio, sr = librosa.load(audio_file)\n",
        "        # Resample the audio file\n",
        "        audio = librosa.resample(audio, sr, new_sr)\n",
        "        # Pad the audio file to 30 minutes\n",
        "        audio = np.pad(audio, (0, total_size*chunk_size*new_sr - audio.shape[0]), 'constant')\n",
        "        # Compute the latent space representation of the audio file (60 seconds chunks)\n",
        "        embeddings, _ = openl3.get_audio_embedding(audio, new_sr, model=model, hop_size=chunk_size, verbose=1)\n",
        "        # Add the features to the dataframe\n",
        "        for i in range(embeddings.shape[0]):\n",
        "            # Get the latent space representation\n",
        "            embedding = embeddings[i]\n",
        "            # Add the features to the dataframe\n",
        "            df_latent_space = df_latent_space.append(pd.DataFrame([[filename, date, site]+embedding.tolist()+[label]], columns=['filename']+['date']+['site']+LATENT_SPACE+['label']))\n",
        "        # Calculate and print the total time taken for the loop\n",
        "        end_time = time.time()\n",
        "        total_time = end_time - start_time\n",
        "        # Print the progress of the loop compare to the total number of audio files\n",
        "        print('Loading audio file: {}/{} Total time taken: {} seconds'.format(audio_files.index(audio_file)+1, num_audio_files[label], total_time))"
      ],
      "metadata": {
        "colab": {
          "base_uri": "https://localhost:8080/"
        },
        "id": "wgZinQSAdonc",
        "outputId": "b8ad6b21-b750-4367-8940-45a0b6d76963"
      },
      "execution_count": null,
      "outputs": [
        {
          "output_type": "stream",
          "name": "stdout",
          "text": [
            "Loading label directory: RE\n",
            "1/1 [==============================] - 8s 8s/step\n",
            "Loading audio file: 1/30 Total time taken: 207.15117168426514 seconds\n",
            "1/1 [==============================] - 7s 7s/step\n",
            "Loading audio file: 2/30 Total time taken: 192.82018899917603 seconds\n",
            "1/1 [==============================] - 9s 9s/step\n",
            "Loading audio file: 3/30 Total time taken: 196.30777168273926 seconds\n",
            "1/1 [==============================] - 8s 8s/step\n",
            "Loading audio file: 4/30 Total time taken: 192.67963290214539 seconds\n",
            "1/1 [==============================] - 9s 9s/step\n",
            "Loading audio file: 5/30 Total time taken: 189.6624538898468 seconds\n",
            "1/1 [==============================] - 8s 8s/step\n",
            "Loading audio file: 6/30 Total time taken: 193.90763115882874 seconds\n",
            "1/1 [==============================] - 7s 7s/step\n",
            "Loading audio file: 7/30 Total time taken: 189.59312772750854 seconds\n",
            "1/1 [==============================] - 7s 7s/step\n",
            "Loading audio file: 8/30 Total time taken: 188.33304619789124 seconds\n",
            "1/1 [==============================] - 8s 8s/step\n",
            "Loading audio file: 9/30 Total time taken: 195.65735626220703 seconds\n",
            "1/1 [==============================] - 9s 9s/step\n",
            "Loading audio file: 10/30 Total time taken: 191.12162399291992 seconds\n",
            "1/1 [==============================] - 7s 7s/step\n",
            "Loading audio file: 11/30 Total time taken: 195.78291177749634 seconds\n",
            "1/1 [==============================] - 7s 7s/step\n",
            "Loading audio file: 12/30 Total time taken: 200.78850722312927 seconds\n",
            "1/1 [==============================] - 9s 9s/step\n",
            "Loading audio file: 13/30 Total time taken: 189.9972550868988 seconds\n",
            "1/1 [==============================] - 9s 9s/step\n",
            "Loading audio file: 14/30 Total time taken: 189.9298222064972 seconds\n",
            "1/1 [==============================] - 9s 9s/step\n",
            "Loading audio file: 15/30 Total time taken: 194.0426528453827 seconds\n",
            "1/1 [==============================] - 9s 9s/step\n",
            "Loading audio file: 16/30 Total time taken: 190.15035963058472 seconds\n",
            "1/1 [==============================] - 7s 7s/step\n",
            "Loading audio file: 17/30 Total time taken: 189.75303626060486 seconds\n",
            "1/1 [==============================] - 7s 7s/step\n",
            "Loading audio file: 18/30 Total time taken: 189.81635332107544 seconds\n",
            "1/1 [==============================] - 9s 9s/step\n",
            "Loading audio file: 19/30 Total time taken: 199.46466183662415 seconds\n",
            "1/1 [==============================] - 9s 9s/step\n",
            "Loading audio file: 20/30 Total time taken: 197.39933013916016 seconds\n",
            "1/1 [==============================] - 7s 7s/step\n",
            "Loading audio file: 21/30 Total time taken: 197.47173881530762 seconds\n",
            "1/1 [==============================] - 9s 9s/step\n",
            "Loading audio file: 22/30 Total time taken: 193.41336846351624 seconds\n",
            "1/1 [==============================] - 7s 7s/step\n",
            "Loading audio file: 23/30 Total time taken: 190.13761520385742 seconds\n",
            "1/1 [==============================] - 7s 7s/step\n",
            "Loading audio file: 24/30 Total time taken: 189.09019923210144 seconds\n",
            "1/1 [==============================] - 7s 7s/step\n",
            "Loading audio file: 25/30 Total time taken: 192.60978245735168 seconds\n",
            "1/1 [==============================] - 7s 7s/step\n",
            "Loading audio file: 26/30 Total time taken: 191.92677235603333 seconds\n",
            "1/1 [==============================] - 11s 11s/step\n",
            "Loading audio file: 27/30 Total time taken: 190.63697862625122 seconds\n",
            "1/1 [==============================] - 7s 7s/step\n",
            "Loading audio file: 28/30 Total time taken: 196.9140748977661 seconds\n",
            "1/1 [==============================] - 7s 7s/step\n",
            "Loading audio file: 29/30 Total time taken: 200.3218822479248 seconds\n",
            "1/1 [==============================] - 7s 7s/step\n",
            "Loading audio file: 30/30 Total time taken: 196.8082389831543 seconds\n",
            "Loading label directory: BE\n",
            "1/1 [==============================] - 9s 9s/step\n",
            "Loading audio file: 1/33 Total time taken: 193.00230240821838 seconds\n",
            "1/1 [==============================] - 8s 8s/step\n",
            "Loading audio file: 2/33 Total time taken: 199.96341562271118 seconds\n",
            "1/1 [==============================] - 7s 7s/step\n",
            "Loading audio file: 3/33 Total time taken: 197.38997149467468 seconds\n",
            "1/1 [==============================] - 7s 7s/step\n",
            "Loading audio file: 4/33 Total time taken: 197.0112705230713 seconds\n",
            "1/1 [==============================] - 9s 9s/step\n",
            "Loading audio file: 5/33 Total time taken: 195.38670182228088 seconds\n",
            "1/1 [==============================] - 8s 8s/step\n",
            "Loading audio file: 6/33 Total time taken: 193.0358943939209 seconds\n",
            "1/1 [==============================] - 7s 7s/step\n",
            "Loading audio file: 7/33 Total time taken: 197.28754091262817 seconds\n",
            "1/1 [==============================] - 7s 7s/step\n",
            "Loading audio file: 8/33 Total time taken: 201.3657739162445 seconds\n",
            "1/1 [==============================] - 7s 7s/step\n",
            "Loading audio file: 9/33 Total time taken: 195.79366779327393 seconds\n",
            "1/1 [==============================] - 7s 7s/step\n",
            "Loading audio file: 10/33 Total time taken: 197.82292222976685 seconds\n",
            "1/1 [==============================] - 7s 7s/step\n",
            "Loading audio file: 11/33 Total time taken: 203.02042388916016 seconds\n",
            "1/1 [==============================] - 7s 7s/step\n",
            "Loading audio file: 12/33 Total time taken: 194.00113034248352 seconds\n",
            "1/1 [==============================] - 9s 9s/step\n",
            "Loading audio file: 13/33 Total time taken: 196.0378246307373 seconds\n",
            "1/1 [==============================] - 9s 9s/step\n",
            "Loading audio file: 14/33 Total time taken: 199.43997406959534 seconds\n",
            "1/1 [==============================] - 7s 7s/step\n",
            "Loading audio file: 15/33 Total time taken: 198.08742427825928 seconds\n",
            "1/1 [==============================] - 8s 8s/step\n",
            "Loading audio file: 16/33 Total time taken: 194.8798668384552 seconds\n",
            "1/1 [==============================] - 9s 9s/step\n",
            "Loading audio file: 17/33 Total time taken: 200.99206399917603 seconds\n",
            "1/1 [==============================] - 7s 7s/step\n",
            "Loading audio file: 18/33 Total time taken: 194.27329540252686 seconds\n",
            "1/1 [==============================] - 9s 9s/step\n",
            "Loading audio file: 19/33 Total time taken: 194.0636749267578 seconds\n",
            "1/1 [==============================] - 9s 9s/step\n",
            "Loading audio file: 20/33 Total time taken: 201.4935154914856 seconds\n",
            "1/1 [==============================] - 8s 8s/step\n",
            "Loading audio file: 21/33 Total time taken: 189.61005997657776 seconds\n",
            "1/1 [==============================] - 8s 8s/step\n",
            "Loading audio file: 22/33 Total time taken: 207.85747575759888 seconds\n",
            "1/1 [==============================] - 8s 8s/step\n",
            "Loading audio file: 23/33 Total time taken: 198.7419092655182 seconds\n",
            "1/1 [==============================] - 9s 9s/step\n",
            "Loading audio file: 24/33 Total time taken: 194.7312843799591 seconds\n",
            "1/1 [==============================] - 7s 7s/step\n",
            "Loading audio file: 25/33 Total time taken: 198.83116817474365 seconds\n",
            "1/1 [==============================] - 8s 8s/step\n",
            "Loading audio file: 26/33 Total time taken: 200.30341124534607 seconds\n",
            "1/1 [==============================] - 8s 8s/step\n",
            "Loading audio file: 27/33 Total time taken: 192.60614824295044 seconds\n",
            "1/1 [==============================] - 9s 9s/step\n",
            "Loading audio file: 28/33 Total time taken: 191.13259434700012 seconds\n",
            "1/1 [==============================] - 7s 7s/step\n",
            "Loading audio file: 29/33 Total time taken: 189.51341891288757 seconds\n",
            "1/1 [==============================] - 7s 7s/step\n",
            "Loading audio file: 30/33 Total time taken: 194.3392457962036 seconds\n",
            "1/1 [==============================] - 7s 7s/step\n",
            "Loading audio file: 31/33 Total time taken: 190.0532410144806 seconds\n",
            "1/1 [==============================] - 8s 8s/step\n",
            "Loading audio file: 32/33 Total time taken: 192.75762295722961 seconds\n",
            "1/1 [==============================] - 9s 9s/step\n",
            "Loading audio file: 33/33 Total time taken: 193.9524326324463 seconds\n",
            "Loading label directory: BL\n",
            "1/1 [==============================] - 9s 9s/step\n",
            "Loading audio file: 1/33 Total time taken: 190.26093578338623 seconds\n",
            "1/1 [==============================] - 8s 8s/step\n",
            "Loading audio file: 2/33 Total time taken: 188.0149233341217 seconds\n",
            "1/1 [==============================] - 7s 7s/step\n",
            "Loading audio file: 3/33 Total time taken: 198.43394136428833 seconds\n",
            "1/1 [==============================] - 7s 7s/step\n",
            "Loading audio file: 4/33 Total time taken: 195.39064264297485 seconds\n",
            "1/1 [==============================] - 9s 9s/step\n",
            "Loading audio file: 5/33 Total time taken: 193.0288007259369 seconds\n",
            "1/1 [==============================] - 8s 8s/step\n",
            "Loading audio file: 6/33 Total time taken: 202.8526439666748 seconds\n",
            "1/1 [==============================] - 7s 7s/step\n",
            "Loading audio file: 7/33 Total time taken: 194.7848117351532 seconds\n",
            "1/1 [==============================] - 7s 7s/step\n",
            "Loading audio file: 8/33 Total time taken: 191.8266260623932 seconds\n",
            "1/1 [==============================] - 7s 7s/step\n",
            "Loading audio file: 9/33 Total time taken: 199.07930970191956 seconds\n",
            "1/1 [==============================] - 9s 9s/step\n",
            "Loading audio file: 10/33 Total time taken: 190.8999457359314 seconds\n",
            "1/1 [==============================] - 8s 8s/step\n",
            "Loading audio file: 11/33 Total time taken: 193.59847974777222 seconds\n",
            "1/1 [==============================] - 8s 8s/step\n",
            "Loading audio file: 12/33 Total time taken: 195.03194546699524 seconds\n",
            "1/1 [==============================] - 7s 7s/step\n",
            "Loading audio file: 13/33 Total time taken: 189.1213321685791 seconds\n",
            "1/1 [==============================] - 9s 9s/step\n",
            "Loading audio file: 14/33 Total time taken: 192.87872695922852 seconds\n",
            "1/1 [==============================] - 9s 9s/step\n",
            "Loading audio file: 15/33 Total time taken: 199.67209792137146 seconds\n",
            "1/1 [==============================] - 7s 7s/step\n",
            "Loading audio file: 16/33 Total time taken: 198.18957376480103 seconds\n",
            "1/1 [==============================] - 7s 7s/step\n",
            "Loading audio file: 17/33 Total time taken: 193.1392776966095 seconds\n",
            "1/1 [==============================] - 10s 10s/step\n",
            "Loading audio file: 18/33 Total time taken: 197.52192616462708 seconds\n",
            "1/1 [==============================] - 9s 9s/step\n",
            "Loading audio file: 19/33 Total time taken: 200.5198290348053 seconds\n",
            "1/1 [==============================] - 7s 7s/step\n",
            "Loading audio file: 20/33 Total time taken: 193.97082543373108 seconds\n",
            "1/1 [==============================] - 7s 7s/step\n",
            "Loading audio file: 21/33 Total time taken: 196.36240434646606 seconds\n",
            "1/1 [==============================] - 9s 9s/step\n",
            "Loading audio file: 22/33 Total time taken: 199.83089017868042 seconds\n",
            "1/1 [==============================] - 7s 7s/step\n",
            "Loading audio file: 23/33 Total time taken: 197.1044478416443 seconds\n",
            "1/1 [==============================] - 8s 8s/step\n",
            "Loading audio file: 24/33 Total time taken: 193.14875507354736 seconds\n",
            "1/1 [==============================] - 9s 9s/step\n",
            "Loading audio file: 25/33 Total time taken: 198.78611302375793 seconds\n",
            "1/1 [==============================] - 7s 7s/step\n",
            "Loading audio file: 26/33 Total time taken: 194.54978942871094 seconds\n",
            "1/1 [==============================] - 8s 8s/step\n",
            "Loading audio file: 27/33 Total time taken: 193.97901391983032 seconds\n",
            "1/1 [==============================] - 9s 9s/step\n",
            "Loading audio file: 28/33 Total time taken: 199.46550989151 seconds\n",
            "1/1 [==============================] - 7s 7s/step\n",
            "Loading audio file: 29/33 Total time taken: 191.9232451915741 seconds\n",
            "1/1 [==============================] - 9s 9s/step\n",
            "Loading audio file: 30/33 Total time taken: 195.79819774627686 seconds\n",
            "1/1 [==============================] - 8s 8s/step\n",
            "Loading audio file: 31/33 Total time taken: 201.91414189338684 seconds\n",
            "1/1 [==============================] - 7s 7s/step\n",
            "Loading audio file: 32/33 Total time taken: 199.1482219696045 seconds\n",
            "1/1 [==============================] - 7s 7s/step\n",
            "Loading audio file: 33/33 Total time taken: 199.20298314094543 seconds\n",
            "Loading label directory: RL\n",
            "1/1 [==============================] - 14s 14s/step\n",
            "Loading audio file: 1/24 Total time taken: 201.30203461647034 seconds\n",
            "1/1 [==============================] - 8s 8s/step\n",
            "Loading audio file: 2/24 Total time taken: 195.00329184532166 seconds\n",
            "1/1 [==============================] - 9s 9s/step\n",
            "Loading audio file: 3/24 Total time taken: 197.91078734397888 seconds\n",
            "1/1 [==============================] - 7s 7s/step\n",
            "Loading audio file: 4/24 Total time taken: 194.35329055786133 seconds\n",
            "1/1 [==============================] - 8s 8s/step\n",
            "Loading audio file: 5/24 Total time taken: 199.8147313594818 seconds\n",
            "1/1 [==============================] - 9s 9s/step\n",
            "Loading audio file: 6/24 Total time taken: 196.74930500984192 seconds\n",
            "1/1 [==============================] - 7s 7s/step\n",
            "Loading audio file: 7/24 Total time taken: 197.20602655410767 seconds\n",
            "1/1 [==============================] - 7s 7s/step\n",
            "Loading audio file: 8/24 Total time taken: 197.44001722335815 seconds\n",
            "1/1 [==============================] - 7s 7s/step\n",
            "Loading audio file: 9/24 Total time taken: 194.25530457496643 seconds\n",
            "1/1 [==============================] - 9s 9s/step\n",
            "Loading audio file: 10/24 Total time taken: 198.46661853790283 seconds\n",
            "1/1 [==============================] - 7s 7s/step\n",
            "Loading audio file: 11/24 Total time taken: 198.3619728088379 seconds\n",
            "1/1 [==============================] - 10s 10s/step\n",
            "Loading audio file: 12/24 Total time taken: 195.62003564834595 seconds\n",
            "1/1 [==============================] - 8s 8s/step\n",
            "Loading audio file: 13/24 Total time taken: 196.22701215744019 seconds\n",
            "1/1 [==============================] - 7s 7s/step\n",
            "Loading audio file: 14/24 Total time taken: 197.85563707351685 seconds\n",
            "1/1 [==============================] - 9s 9s/step\n",
            "Loading audio file: 15/24 Total time taken: 197.1572024822235 seconds\n",
            "1/1 [==============================] - 7s 7s/step\n",
            "Loading audio file: 16/24 Total time taken: 198.10301852226257 seconds\n",
            "1/1 [==============================] - 7s 7s/step\n",
            "Loading audio file: 17/24 Total time taken: 197.36103510856628 seconds\n",
            "1/1 [==============================] - 9s 9s/step\n",
            "Loading audio file: 18/24 Total time taken: 195.32507228851318 seconds\n",
            "1/1 [==============================] - 9s 9s/step\n",
            "Loading audio file: 19/24 Total time taken: 193.9164445400238 seconds\n",
            "1/1 [==============================] - 7s 7s/step\n",
            "Loading audio file: 20/24 Total time taken: 195.82951951026917 seconds\n",
            "1/1 [==============================] - 9s 9s/step\n",
            "Loading audio file: 21/24 Total time taken: 196.4301209449768 seconds\n",
            "1/1 [==============================] - 7s 7s/step\n",
            "Loading audio file: 22/24 Total time taken: 193.91584181785583 seconds\n",
            "1/1 [==============================] - 8s 8s/step\n",
            "Loading audio file: 23/24 Total time taken: 203.4886724948883 seconds\n",
            "1/1 [==============================] - 9s 9s/step\n",
            "Loading audio file: 24/24 Total time taken: 196.51695370674133 seconds\n"
          ]
        }
      ]
    },
    {
      "cell_type": "markdown",
      "source": [
        "## Saving the dataset"
      ],
      "metadata": {
        "id": "Xmz4pqpyn-lP"
      }
    },
    {
      "cell_type": "code",
      "source": [
        "# Save the dataframe to a csv file\n",
        "path = '/content/drive/MyDrive/dataset'\n",
        "dataset_filename = 'ac_latent_space' + '_' + spectr + '_' + str(latent_space_dim) + '.csv'\n",
        "df_latent_space.to_csv(os.path.join(path, dataset_filename), index=False)"
      ],
      "metadata": {
        "id": "4ZAnozs0D1lB"
      },
      "execution_count": null,
      "outputs": []
    }
  ]
}