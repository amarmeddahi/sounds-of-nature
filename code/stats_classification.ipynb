{
  "nbformat": 4,
  "nbformat_minor": 0,
  "metadata": {
    "colab": {
      "provenance": [],
      "machine_shape": "hm"
    },
    "kernelspec": {
      "name": "python3",
      "display_name": "Python 3"
    }
  },
  "cells": [
    {
      "cell_type": "markdown",
      "metadata": {
        "id": "0MRC0e0KhQ0S"
      },
      "source": [
        "# Statistical Classification of accoustic indices"
      ]
    },
    {
      "cell_type": "markdown",
      "metadata": {
        "id": "LWd1UlMnhT2s"
      },
      "source": [
        "## Importing the libraries"
      ]
    },
    {
      "cell_type": "code",
      "metadata": {
        "id": "YvGPUQaHhXfL"
      },
      "source": [
        "import datetime\n",
        "import numpy as np\n",
        "import matplotlib.pyplot as plt\n",
        "import pandas as pd"
      ],
      "execution_count": 1,
      "outputs": []
    },
    {
      "cell_type": "markdown",
      "metadata": {
        "id": "K1VMqkGvhc3-"
      },
      "source": [
        "## Importing the dataset"
      ]
    },
    {
      "cell_type": "code",
      "metadata": {
        "id": "M52QDmyzhh9s",
        "colab": {
          "base_uri": "https://localhost:8080/"
        },
        "outputId": "c5c167ed-ed68-4a24-eace-6fdd03b63f07"
      },
      "source": [
        "!git clone https://github.com/amarmeddahi/sounds-of-nature.git\n",
        "path = \"./sounds-of-nature/data/latent_space_mel128_512.csv\""
      ],
      "execution_count": 7,
      "outputs": [
        {
          "output_type": "stream",
          "name": "stdout",
          "text": [
            "fatal: destination path 'sounds-of-nature' already exists and is not an empty directory.\n"
          ]
        }
      ]
    },
    {
      "cell_type": "code",
      "source": [
        "df = pd.read_csv(path)"
      ],
      "metadata": {
        "id": "jGBgfdHboUgG"
      },
      "execution_count": 9,
      "outputs": []
    },
    {
      "cell_type": "markdown",
      "source": [
        "## Cleaning the dataset"
      ],
      "metadata": {
        "id": "3fC0MepOLi2-"
      }
    },
    {
      "cell_type": "code",
      "source": [
        "# Drop duplicate rows\n",
        "df = df.drop_duplicates()"
      ],
      "metadata": {
        "id": "GXCaS9T8N9oe"
      },
      "execution_count": 12,
      "outputs": []
    },
    {
      "cell_type": "code",
      "source": [
        "# Drop columns with high percentage of missing values\n",
        "missing_threshold = 0.8\n",
        "df = df.dropna(thresh=int(missing_threshold * len(df)), axis=1)"
      ],
      "metadata": {
        "id": "UyjhErSYPU9t"
      },
      "execution_count": 13,
      "outputs": []
    },
    {
      "cell_type": "code",
      "source": [
        "# Drop rows with missing values\n",
        "df = df.dropna()"
      ],
      "metadata": {
        "id": "AZ-NRfjnRI8r"
      },
      "execution_count": 14,
      "outputs": []
    },
    {
      "cell_type": "markdown",
      "source": [
        "## Selecting the labels"
      ],
      "metadata": {
        "id": "-roj7Jmqx4Ns"
      }
    },
    {
      "cell_type": "code",
      "source": [
        "X = df.iloc[:, 3:-1].values.astype(float)"
      ],
      "metadata": {
        "id": "KhVLyqiwPZf6"
      },
      "execution_count": 15,
      "outputs": []
    },
    {
      "cell_type": "code",
      "source": [
        "labels = [\"BE-BL-RE-RL\", \"R-B\", \"L-E\"]\n",
        "l = labels[0]\n",
        "if l == \"R-B\":\n",
        "  y = np.array([s[0] for s in df.iloc[:, -1].values])\n",
        "elif l == \"L-E\":\n",
        "  y = np.array([s[1] for s in df.iloc[:, -1].values])\n",
        "else:\n",
        "  y = df.iloc[:, -1].values"
      ],
      "metadata": {
        "id": "t4qDLPWpkL-J"
      },
      "execution_count": 16,
      "outputs": []
    },
    {
      "cell_type": "markdown",
      "source": [
        "## Encoding the labels"
      ],
      "metadata": {
        "id": "8sAVdFGgUiPc"
      }
    },
    {
      "cell_type": "code",
      "source": [
        "from sklearn.preprocessing import LabelEncoder\n",
        "le = LabelEncoder()\n",
        "y = le.fit_transform(y)"
      ],
      "metadata": {
        "id": "3twvs8b0UnWb"
      },
      "execution_count": 17,
      "outputs": []
    },
    {
      "cell_type": "markdown",
      "metadata": {
        "id": "YvxIPVyMhmKp"
      },
      "source": [
        "## Splitting the dataset into the Training set and Test set"
      ]
    },
    {
      "cell_type": "code",
      "metadata": {
        "id": "AVzJWAXIhxoC"
      },
      "source": [
        "# Splitting randomy the dataset into the Training set and Test set (80/20)\n",
        "from sklearn.model_selection import train_test_split\n",
        "X_train, X_test, y_train, y_test = train_test_split(X, y, test_size = 0.2, random_state = 0)"
      ],
      "execution_count": 18,
      "outputs": []
    },
    {
      "cell_type": "code",
      "source": [
        "# Print the labels distribution in the training and test sets\n",
        "print('Labels counts in y_train:', np.bincount(y_train))\n",
        "print('Labels counts in y_test:', np.bincount(y_test))"
      ],
      "metadata": {
        "colab": {
          "base_uri": "https://localhost:8080/"
        },
        "id": "fTD6zkQYToQ6",
        "outputId": "b5b4f84a-cdbe-495b-8cbd-dfc23150edda"
      },
      "execution_count": 19,
      "outputs": [
        {
          "output_type": "stream",
          "name": "stdout",
          "text": [
            "Labels counts in y_train: [826 824 731 595]\n",
            "Labels counts in y_test: [197 199 199 149]\n"
          ]
        }
      ]
    },
    {
      "cell_type": "markdown",
      "source": [
        "## Feature Scaling"
      ],
      "metadata": {
        "id": "0QmTMR5yUUM2"
      }
    },
    {
      "cell_type": "code",
      "source": [
        "from sklearn.preprocessing import StandardScaler\n",
        "sc = StandardScaler()\n",
        "X_train = sc.fit_transform(X_train)\n",
        "X_test = sc.transform(X_test)"
      ],
      "metadata": {
        "id": "j9PpMK3BUWSp"
      },
      "execution_count": 20,
      "outputs": []
    },
    {
      "cell_type": "markdown",
      "metadata": {
        "id": "bb6jCOCQiAmP"
      },
      "source": [
        "## Training the models\n",
        "\n"
      ]
    },
    {
      "cell_type": "markdown",
      "source": [
        "### K-Nearest Neighbors"
      ],
      "metadata": {
        "id": "g8EXHOI6Z_fs"
      }
    },
    {
      "cell_type": "code",
      "source": [
        "# Fitting K-Nearest Neighbors to the Training set\n",
        "from sklearn.neighbors import KNeighborsClassifier\n",
        "knn_classifier = KNeighborsClassifier(n_neighbors = 5, metric = 'minkowski', p = 2)\n",
        "knn_classifier.fit(X_train, y_train)"
      ],
      "metadata": {
        "colab": {
          "base_uri": "https://localhost:8080/"
        },
        "id": "BgEYPbOYai0j",
        "outputId": "eebff596-a8eb-49eb-a393-9c0693914b1e"
      },
      "execution_count": 21,
      "outputs": [
        {
          "output_type": "execute_result",
          "data": {
            "text/plain": [
              "KNeighborsClassifier()"
            ]
          },
          "metadata": {},
          "execution_count": 21
        }
      ]
    },
    {
      "cell_type": "markdown",
      "source": [
        "### Support Vector Machine (SVM)"
      ],
      "metadata": {
        "id": "-W626EGlaFOK"
      }
    },
    {
      "cell_type": "code",
      "source": [
        "# Fitting SVM to the Training set\n",
        "from sklearn.svm import SVC\n",
        "svm_classifier = SVC(kernel = 'linear', random_state = 0)\n",
        "svm_classifier.fit(X_train, y_train)"
      ],
      "metadata": {
        "colab": {
          "base_uri": "https://localhost:8080/"
        },
        "id": "uOuFWspzajKg",
        "outputId": "f8f8132d-8545-4845-8ba4-1418696beda6"
      },
      "execution_count": 22,
      "outputs": [
        {
          "output_type": "execute_result",
          "data": {
            "text/plain": [
              "SVC(kernel='linear', random_state=0)"
            ]
          },
          "metadata": {},
          "execution_count": 22
        }
      ]
    },
    {
      "cell_type": "markdown",
      "source": [
        "### Kernel SVM"
      ],
      "metadata": {
        "id": "KTTSSwxvaKh8"
      }
    },
    {
      "cell_type": "code",
      "source": [
        "# Fitting Kernel SVM to the Training set\n",
        "from sklearn.svm import SVC\n",
        "kernel_svm_classifier = SVC(kernel = 'rbf', random_state = 0)\n",
        "kernel_svm_classifier.fit(X_train, y_train)"
      ],
      "metadata": {
        "colab": {
          "base_uri": "https://localhost:8080/"
        },
        "id": "S7Y828Uhajsy",
        "outputId": "cb153790-6f36-45e6-ae05-1c28c1288149"
      },
      "execution_count": 23,
      "outputs": [
        {
          "output_type": "execute_result",
          "data": {
            "text/plain": [
              "SVC(random_state=0)"
            ]
          },
          "metadata": {},
          "execution_count": 23
        }
      ]
    },
    {
      "cell_type": "markdown",
      "source": [
        "### Naive Bayes"
      ],
      "metadata": {
        "id": "cUP6skHKaMpp"
      }
    },
    {
      "cell_type": "code",
      "source": [
        "# Fitting Naive Bayes to the Training set\n",
        "from sklearn.naive_bayes import GaussianNB\n",
        "nb_classifier = GaussianNB()\n",
        "nb_classifier.fit(X_train, y_train)"
      ],
      "metadata": {
        "colab": {
          "base_uri": "https://localhost:8080/"
        },
        "id": "YXEVDCdtakI6",
        "outputId": "61f856c2-5191-447c-afe9-340f65c7ac1d"
      },
      "execution_count": 24,
      "outputs": [
        {
          "output_type": "execute_result",
          "data": {
            "text/plain": [
              "GaussianNB()"
            ]
          },
          "metadata": {},
          "execution_count": 24
        }
      ]
    },
    {
      "cell_type": "markdown",
      "source": [
        "### Random Forest"
      ],
      "metadata": {
        "id": "760MVsChaTO1"
      }
    },
    {
      "cell_type": "code",
      "source": [
        "# Fitting Random Forest Classification to the Training set\n",
        "from sklearn.ensemble import RandomForestClassifier\n",
        "rf_classifier = RandomForestClassifier(n_estimators = 10, criterion = 'entropy', random_state = 0)\n",
        "rf_classifier.fit(X_train, y_train)"
      ],
      "metadata": {
        "colab": {
          "base_uri": "https://localhost:8080/"
        },
        "id": "EuTsDiKSakoj",
        "outputId": "7d6bd72f-6e22-4a49-ed1c-a8901b0f62db"
      },
      "execution_count": 25,
      "outputs": [
        {
          "output_type": "execute_result",
          "data": {
            "text/plain": [
              "RandomForestClassifier(criterion='entropy', n_estimators=10, random_state=0)"
            ]
          },
          "metadata": {},
          "execution_count": 25
        }
      ]
    },
    {
      "cell_type": "markdown",
      "metadata": {
        "id": "vKYVQH-l5NpE"
      },
      "source": [
        "## Predicting the Test set results"
      ]
    },
    {
      "cell_type": "code",
      "metadata": {
        "id": "p6VMTb2O4hwM"
      },
      "source": [
        "# Predicting the Test set results\n",
        "y_pred_knn = knn_classifier.predict(X_test)\n",
        "y_pred_svm = svm_classifier.predict(X_test)\n",
        "y_pred_kernel_svm = kernel_svm_classifier.predict(X_test)\n",
        "y_pred_nb = nb_classifier.predict(X_test)\n",
        "y_pred_rf = rf_classifier.predict(X_test)"
      ],
      "execution_count": 26,
      "outputs": []
    },
    {
      "cell_type": "markdown",
      "source": [
        "## Confusion Matrix"
      ],
      "metadata": {
        "id": "DCjb6OpZb7yt"
      }
    },
    {
      "cell_type": "code",
      "source": [
        "# Making the Confusion Matrix\n",
        "# Print the confusion matrix with labels names\n",
        "from sklearn.metrics import confusion_matrix\n",
        "cm_knn = confusion_matrix(y_test, y_pred_knn)\n",
        "cm_svm = confusion_matrix(y_test, y_pred_svm)\n",
        "cm_kernel_svm = confusion_matrix(y_test, y_pred_kernel_svm)\n",
        "cm_nb = confusion_matrix(y_test, y_pred_nb)\n",
        "cm_rf = confusion_matrix(y_test, y_pred_rf)"
      ],
      "metadata": {
        "id": "FS9A-4vIcDWR"
      },
      "execution_count": 27,
      "outputs": []
    },
    {
      "cell_type": "code",
      "source": [
        "import seaborn as sns\n",
        "import matplotlib.pyplot as plt\n",
        "cm = cm_rf\n",
        "cm = pd.DataFrame(cm, index=le.classes_, columns=le.classes_)\n",
        "plt.figure(figsize=(10, 10))\n",
        "sns.heatmap(cm, annot=True, fmt=\"d\")\n",
        "plt.title(\"Confusion matrix\")\n",
        "plt.ylabel('True label')\n",
        "plt.xlabel('Predicted label')\n",
        "plt.show()"
      ],
      "metadata": {
        "colab": {
          "base_uri": "https://localhost:8080/",
          "height": 621
        },
        "id": "Dg6-OWMIz1dx",
        "outputId": "3c9d9fd3-e59a-4085-d41b-b1da29882133"
      },
      "execution_count": 28,
      "outputs": [
        {
          "output_type": "display_data",
          "data": {
            "text/plain": [
              "<Figure size 720x720 with 2 Axes>"
            ],
            "image/png": "[encoded data removed]"
          },
          "metadata": {
            "needs_background": "light"
          }
        }
      ]
    },
    {
      "cell_type": "markdown",
      "source": [
        "## k-Fold Cross Validation"
      ],
      "metadata": {
        "id": "iq6SFczwcGZE"
      }
    },
    {
      "cell_type": "code",
      "source": [
        "# Applying k-Fold Cross Validation\n",
        "from sklearn.model_selection import cross_val_score\n",
        "accuracies_knn = cross_val_score(estimator = knn_classifier, X = X_train, y = y_train, cv = 10)\n",
        "accuracies_svm = cross_val_score(estimator = svm_classifier, X = X_train, y = y_train, cv = 10)\n",
        "accuracies_kernel_svm = cross_val_score(estimator = kernel_svm_classifier, X = X_train, y = y_train, cv = 10)\n",
        "accuracies_nb = cross_val_score(estimator = nb_classifier, X = X_train, y = y_train, cv = 10)\n",
        "accuracies_rf = cross_val_score(estimator = rf_classifier, X = X_train, y = y_train, cv = 10)"
      ],
      "metadata": {
        "id": "43vOe7_LcImB"
      },
      "execution_count": 29,
      "outputs": []
    },
    {
      "cell_type": "code",
      "source": [
        "print('KNN accuracy: ', accuracies_knn.mean(), '(std:', accuracies_knn.std(), ')')\n",
        "print('SVM accuracy: ', accuracies_svm.mean(), '(std:', accuracies_svm.std(), ')')\n",
        "print('Kernel SVM accuracy: ', accuracies_kernel_svm.mean(), '(std:', accuracies_kernel_svm.std(), ')')\n",
        "print('Naive Bayes accuracy: ', accuracies_nb.mean(), '(std:', accuracies_nb.std(), ')')\n",
        "print('Random Forest accuracy: ', accuracies_rf.mean(), '(std:', accuracies_rf.std(), ')')"
      ],
      "metadata": {
        "colab": {
          "base_uri": "https://localhost:8080/"
        },
        "id": "17SDCVkxzqup",
        "outputId": "4b9f4599-a32e-4f8b-e33d-8bcbf4ce820c"
      },
      "execution_count": 30,
      "outputs": [
        {
          "output_type": "stream",
          "name": "stdout",
          "text": [
            "KNN accuracy:  0.8666113031884844 (std: 0.01729919067157149 )\n",
            "SVM accuracy:  0.750675660407204 (std: 0.02706237572147637 )\n",
            "Kernel SVM accuracy:  0.8521670847174203 (std: 0.0206324663274864 )\n",
            "Naive Bayes accuracy:  0.44084468849569525 (std: 0.034411239490343276 )\n",
            "Random Forest accuracy:  0.740609676180146 (std: 0.017554162273267858 )\n"
          ]
        }
      ]
    }
  ]
}